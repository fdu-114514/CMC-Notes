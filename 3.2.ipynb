{
 "cells": [
  {
   "cell_type": "markdown",
   "id": "41ba2270",
   "metadata": {},
   "source": [
    "## 3.2 定积分及其在物理中的应用"
   ]
  }
 ],
 "metadata": {
  "language_info": {
   "name": "python"
  }
 },
 "nbformat": 4,
 "nbformat_minor": 5
}
