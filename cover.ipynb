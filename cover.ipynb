{
 "cells": [
  {
   "cell_type": "markdown",
   "id": "effda435",
   "metadata": {},
   "source": [
    "## 目录\n",
    "\n",
    "This is the notebook of the book \"大学生数学竞赛习题精讲\" by 陈兆斗、黄光东、赵琳琳、邓燕\n",
    "\n",
    "Meanwhile, this notebook only contains the solutions of the problems in the book. The theorems and proofs are `mainly` not included. However, I've tried to visualize some exercises, in order to make it simple.\n",
    "\n",
    "> - [1.1 **极限**](1.1.ipynb)\n",
    "> - [1.2 **一元函数的连续性**](1.2.ipynb)\n",
    "> - [2.1 **导数及微分中值定理**](2.1.ipynb)\n",
    "> - [2.2 **导数与函数的单调、极值、凸凹及泰勒公式**](2.2.ipynb)\n",
    "> - [2.3 **一元函数微分学综合习题**](2.3.ipynb)\n",
    "> - [3.1 **不定积分**](3.1.ipynb)\n",
    "> - [3.2 **定积分及其在物理中的应用**](3.2.ipynb)\n",
    "> - [3.3 **定积分综合习题**](3.3.ipynb)\n",
    "> - [4.1 **多元函数与图形**](4.1.ipynb)\n",
    "> - [4.2 **多元函数的极限、连续与微分**](4.2.ipynb)\n",
    "> - [4.3 **多元函数微分学的应用**](4.3.ipynb)\n",
    "> - [5.1 **重积分**](5.1.ipynb)\n",
    "> - [5.2 **曲线积分与曲面积分**](5.2.ipynb)\n",
    "> - [5.3 **多元函数积分学的应用**](5.3.ipynb)\n",
    "> - [6.1 **数项级数**](6.1.ipynb)\n",
    "> - [6.2 **函数项级数**](6.2.ipynb)\n",
    "> - [7.1 **初等积分法与线性方程**](7.1.ipynb)\n",
    "> - [7.2 **微分方程的应用题**](7.2.ipynb)"
   ]
  }
 ],
 "metadata": {
  "language_info": {
   "name": "python"
  }
 },
 "nbformat": 4,
 "nbformat_minor": 5
}
