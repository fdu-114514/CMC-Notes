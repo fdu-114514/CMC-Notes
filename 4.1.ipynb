{
 "cells": [
  {
   "cell_type": "markdown",
   "id": "52f06810",
   "metadata": {},
   "source": [
    "## 4.1 多元函数与图形"
   ]
  },
  {
   "cell_type": "markdown",
   "id": "2115f386",
   "metadata": {},
   "source": [
    "### 曲面方程\n",
    "\n",
    "若三元方程$F(x, y, z)=0$有解，其图形通常为空间中的曲面$\\Sigma$。有时可以将其表达为$z=f(x, y)$。若$F(x, y, z)$是连续函数，则$\\Sigma$是连续曲面。\n",
    "\n",
    "曲面也可以表达为参数形式$\\Sigma':x=x(u, v), y=y(u, v), z=z(u, v)$，其中$(u, v)\\in D$。参数$u, v$常有其几何意义。若$\\Sigma'$中的三个函数在$D$中连续，则$\\Sigma'$是连续曲面。通过消去参数$u, v$，$\\Sigma'$的方程可变成隐式方程$F(x, y, z)=0$。$\\Sigma'$是$\\Sigma$一部分的充要条件是$F(x(u, v), y(u, v), z(u, v))\\equiv 0, (u, v)\\in D$。两个方程$F(x, y, z)$和$G(x, y, z)$表示同一个曲面的充要条件是它们为同解方程。"
   ]
  },
  {
   "cell_type": "markdown",
   "id": "30d99af6",
   "metadata": {},
   "source": [
    "### 平面曲线方程\n",
    "\n",
    "若二元方程$F(x, y)=0$有解，其图形通常是平面中的曲线$l$。有时可以将其表达为$y=f(x)$。若$F(x, y)$是连续函数，则$l$是连续曲线。\n",
    "\n",
    "曲线也可以表达为参数形式$l':x=x(t), y=y(t)$，其中$t\\in I$。参数$t$常有其几何意义。若$x(t), y(t)$都在$I$中连续，则$l'$是连续曲线。通过消去参数$t$，$l'$的方程可变成隐式方程$F(x, y)=0$。$l'$是$l$一部分的充要条件是$F(x(t), y(t))\\equiv 0, t\\in I$。两个方程$F(x, y)$和$G(x, y)$表示同一条曲线的充要条件是它们为同解方程。\n",
    "\n",
    "此外，平面曲线也常表示为极坐标形式$r=r(\\theta)(\\alpha\\le\\theta\\le\\beta)$，即极半径$r$是旋转角$\\theta$的函数。由此我们得到其参数方程$x=r(\\theta)\\cos\\theta, y=r(\\theta)\\sin\\theta$。"
   ]
  },
  {
   "cell_type": "markdown",
   "id": "af5583e5",
   "metadata": {},
   "source": [
    "### 空间曲线方程\n",
    "\n",
    "若方程组\n",
    "$$\\begin{cases}\n",
    "F(x, y, z)=0 \\\\\n",
    "G(x, y, z)=0\n",
    "\\end{cases}$$\n",
    "有解，其图形通常是空间中的曲线$l$，称为空间曲线的一般式方程。它的几何意义是空间中两个平面$F(x, y, z)=0$和$G(x, y, z)=0$的交线。\n",
    "\n",
    "方程组\n",
    "$$\\begin{cases}\n",
    "F_1(x, y, z)=0 \\\\\n",
    "G_1(x, y, z)=0\n",
    "\\end{cases} \\text{和}\n",
    "\\begin{cases}\n",
    "F_2(x, y, z)=0 \\\\\n",
    "G_2(x, y, z)=0\n",
    "\\end{cases}$$\n",
    "表示同一条曲线的充要条件是它们为同解方程组。曲线也可以表达为参数形式$l':x=x(t), y=y(t), z=z(t)$，其中$t\\in I$。参数$t$常有其几何意义。若$x(t), y(t), z(t)$都在$I$中连续，则$l'$是连续曲线。曲线$l'$位于曲面$F(x, y, z)=0$上的充要条件是$F[x(t), y(t), z(t)]\\equiv 0, t\\in I$。$l'$是$l$的一部分的充要条件是$F[x(t), y(t), z(t)]\\equiv 0$且$G[x(t), y(t), z(t)]\\equiv 0, t\\in I$。"
   ]
  },
  {
   "cell_type": "markdown",
   "id": "10bafe4d",
   "metadata": {},
   "source": [
    "### 曲面上的网格线\n",
    "\n",
    "在曲面的参数方程$\\Sigma':x=x(u, v), y=y(u, v), z=z(u, v), (u, v)\\in D$中，固定$u=u_0$，令$v$变动，可得到位于$\\Sigma'$上的一条曲线的参数方程$l_{u_0}:x=x(u_0, v), y=y(u_0, v), z=z(u_0, v)$。取不同的$u_0$就构成了曲面上的曲线族$\\{l_{u_0}\\}$，则曲线$l_{u_0}$随$u_0$连续变动就生成了曲面$\\Sigma'$。固定$v=v_0$的情况同理。两族曲线$\\{l_{u_0}\\}, \\{l_{v_0}\\}$在$\\Sigma'$上交织成该曲面的网格线。如球面方程\n",
    "$$\\Sigma:x=R\\sin\\varphi\\cos\\theta, y=R\\sin\\varphi\\sin\\theta, z=R\\cos\\varphi$$\n",
    "固定$\\theta=\\theta_0$就是曲面上的经线，固定$\\varphi=\\varphi_0$就是曲面上的纬线。"
   ]
  },
  {
   "cell_type": "markdown",
   "id": "821b211b",
   "metadata": {},
   "source": [
    "### 以弧长为参数的曲线方程\n",
    "\n",
    "在有向曲线$l$上取一点$O$，对于$l$上任一点$M$，规定有向弧$\\stackrel\\frown{OM}$的值为$s$:当$\\stackrel\\frown{OM}$与$l$同向时，$s=|\\stackrel\\frown{OM}|$；当$\\stackrel\\frown{OM}$与$l$反向时，$s=-|\\stackrel\\frown{OM}|$。这样，弧长$s$与$l$上的点$M$建立了一一对应的关系。因此，平面曲线以弧长为参数的方程为$l:x=x(s), y=y(s)$；空间曲线以弧长为参数的方程为$\\bar{l}:x=\\bar{x}(s), y=\\bar{y}(s), z=\\bar{z}(s)$。可以证明当曲线光滑时，对于平面曲线有$[x'(s)]^2+[y'(s)]^2=1$，对于空间曲线有$[\\bar{x}'(s)]^2+[\\bar{y}'(s)]^2+[\\bar{z}'(s)]^2=1$。"
   ]
  },
  {
   "cell_type": "markdown",
   "id": "a2691469",
   "metadata": {},
   "source": [
    "### 向量\n",
    "\n",
    "空间中的任意向量$\\mathbf{a}$在直角坐标系下都可以表示为\n",
    "$$\\mathbf{a}=a_x\\mathbf{i}+a_y\\mathbf{j}+a_z\\mathbf{k}$$\n",
    "其中$\\mathbf{i}, \\mathbf{j}, \\mathbf{k}$分别是与$x, y, z$轴同向的单位向量，$a_x, a_y, a_z$是$\\mathbf{a}$依次在三个坐标轴上的投影，称为$\\mathbf{a}$的坐标，可记为$\\mathbf{a}=(a_x, a_y, a_z)$。于是向量$\\mathbf{a}$的模为$\\mathbf{a}=\\sqrt{a_x^2+a_y^2+a_z^2}$。若$\\mathbf{a}$不是零向量，则可以将其单位化\n",
    "$$\\mathbf{a}^0=\\frac{1}{|\\mathbf{a}|}\\mathbf{a}=(\\frac{a_x}{\\sqrt{a_x^2+a_y^2+a_z^2}}, \\frac{a_y}{\\sqrt{a_x^2+a_y^2+a_z^2}}, \\frac{a_z}{\\sqrt{a_x^2+a_y^2+a_z^2}})=(\\cos\\alpha, \\cos\\beta, \\cos\\gamma)$$\n",
    "其中$\\cos\\alpha, \\cos\\beta, \\cos\\gamma$称为$\\mathbf{a}$的方向余弦，$\\alpha, \\beta, \\gamma$分别是$\\mathbf{a}$与$x, y, z$轴的夹角，称为方向角。两个非零向量$\\mathbf{a}, \\mathbf{b}$平行的充要条件为\n",
    "$$\\frac{a_x}{b_x}=\\frac{a_y}{b_y}=\\frac{a_z}{b_z}$$\n",
    "其中规定当某个分母为零时，对应的分子也为零。\n",
    "\n",
    "给定两个向量$\\mathbf{a}=(a_x, a_y, a_z), \\mathbf{b}=(b_x, b_y, b_z)$，设$\\theta$是它们的夹角，$0\\le\\theta\\le\\pi$。它们的数量积(点积)定义为\n",
    "$$\\mathbf{a}\\cdot\\mathbf{b}=|\\mathbf{a}||\\mathbf{b}|\\cos\\theta=a_xb_x+a_yb_y+a_zb_z$$\n",
    "它们的向量积(外积)定义为同时垂直于$\\mathbf{a}, \\mathbf{b}$且满足右手定则的向量，其模长为\n",
    "$$|\\mathbf{a}\\times\\mathbf{b}|=|\\mathbf{a}||\\mathbf{b}|\\sin\\theta=\\begin{vmatrix}\n",
    "a_y & a_z \\\\\n",
    "b_y & b_z\n",
    "\\end{vmatrix}\\mathbf{i}-\\begin{vmatrix}\n",
    "a_x & a_z \\\\\n",
    "b_x & b_z\n",
    "\\end{vmatrix}\\mathbf{j}+\\begin{vmatrix}\n",
    "a_x & a_y \\\\\n",
    "b_x & b_y\n",
    "\\end{vmatrix}\\mathbf{k}=\\begin{vmatrix}\n",
    "\\mathbf{i} & \\mathbf{j} & \\mathbf{k} \\\\\n",
    "a_x & a_y & a_z \\\\\n",
    "b_x & b_y & b_z\n",
    "\\end{vmatrix}$$\n",
    "$|\\mathbf{a}\\times\\mathbf{b}|$表示以$\\mathbf{a}, \\mathbf{b}$为邻边的平行四边形的面积。\n",
    "\n",
    "三个向量$\\mathbf{a}, \\mathbf{b}, \\mathbf{c}$的混合积$[\\mathbf{a},\\mathbf{b}, \\mathbf{c}]=(\\mathbf{a}\\times\\mathbf{b})\\cdot\\mathbf{c}$，其绝对值表示以$\\mathbf{a},\\mathbf{b}, \\mathbf{c}$为棱的平行六面体的体积。\n",
    "\n",
    "起点在原点的向量$\\overrightarrow{OM}$称为向径。若终点$M$的坐标为$(x, y, z)$则$\\overrightarrow{OM}=(x, y, z)$。若空间曲线的参数方程为$l':x=x(t), y=y(t), z=z(t)$，则它也可以表示为向径形式$\\mathbf{l}=(x(t), y(t), z(t))$，它表示了向量终点变动的轨迹图形。以这种方式表示空间中变动的点会很方便，例如直线$L$经过$M_0(x_0, y_0, z_0)$，平行于向量$\\mathbf{s}=(l, m, n)$，则其参数方程为$L:x=x_0+lt, y=y_0+mt, z=z_0+nt, t\\in\\mathbb{R}$。$L$的方程也可以写为$\\mathbf{L}=\\mathbf{r}_0+t\\mathbf{s}$，其中$\\mathbf{r}=(x_0, y_0, z_0)$。若$\\mathbf{s}$是单位向量，则$|t|$表示直线上的点$M$与$M_0$的距离。"
   ]
  },
  {
   "cell_type": "markdown",
   "id": "dae5f609",
   "metadata": {},
   "source": [
    "### 旋转曲面方程\n",
    "\n",
    "一条空间曲线$C$绕一条直线$L$旋转一周所生成的曲面称为旋转曲面。此时，曲线$C$称为准线，直线$L$称为旋转轴，$C$在旋转过程中的每一个位置称为母线。$yOz$坐标面上的曲线$C:f(y, z)=0$绕$z$轴的旋转面方程为$f(\\pm\\sqrt{x^2+y^2}, z)=0$，绕$y$轴的旋转面方程为$f(y, \\pm\\sqrt{x^2+z^2})=0$。同理可得其余情况。"
   ]
  },
  {
   "cell_type": "markdown",
   "id": "af715c9b",
   "metadata": {},
   "source": [
    "### 柱面方程\n",
    "\n",
    "沿空间曲线$C$平行移动的直线$l$所生成的曲面称为柱面，此时动直线$l$在移动中的每一个位置称为母线，曲线$C$称为准线。以$xOy$平面上的曲线$C:f(x, y)=0$为准线，母线平行于$z$轴的柱面方程为$f(x, y)=0$。同理，方程$g(y, z)=0$和$h(x, z)=0$分别表示母线平行于$x$轴和$y$轴的柱面。"
   ]
  },
  {
   "cell_type": "markdown",
   "id": "78529f3e",
   "metadata": {},
   "source": [
    "### 锥面方程\n",
    "\n",
    "设$M_0$是空间曲线$C$外的一个点，连接$M_0$与$C$上每个点的直线生成的曲面称为锥面。此时，称$M_0$为顶点，$C$为准线，连接$M_0$与$C$的每一条直线称为母线。"
   ]
  },
  {
   "cell_type": "markdown",
   "id": "8e4b46ff",
   "metadata": {},
   "source": [
    "### 平面方程\n",
    "\n",
    "1. 点法式：给定点$P_0(x_0, y_0, z_0)$及非零向量$\\mathbf{n}=(A, B, C)$，则经过点$P_0$与$\\mathbf{n}$垂直的平面方程为\n",
    "$$A(x-x_0)+B(y-y_0)+C(z-z_0)=0$$\n",
    "$\\mathbf{n}$称为平面的法向量。点法式方程的形式不唯一。\n",
    "\n",
    "2. 一般式：即\n",
    "$$Ax+By+Cz+D=0$$\n",
    "其中$A, B, C$不全为零。此时$\\mathbf{n}=(A, B, C)$为平面的法向量。\n",
    "\n",
    "3. 截距式：即\n",
    "$$\\frac{x}{a}+\\frac{y}{b}+\\frac{z}{c}=1$$\n",
    "这样的平面不与坐标轴平行，不过原点。此时$a, b, c$是该平面分别在相应坐标轴上的截距。\n",
    "\n",
    "4. 点到平面的距离：点$P_0(x_0, y_0, z_0)$到平面$Ax+By+Cz+D=0$的距离为\n",
    "$$d=\\frac{|Ax_0+By_0+Cz_0+D|}{\\sqrt{A^2+B^2+C^2}}$$"
   ]
  },
  {
   "cell_type": "markdown",
   "id": "2e3b1615",
   "metadata": {},
   "source": [
    "### 直线方程\n",
    "\n",
    "1. 一般式：即\n",
    "$$\\begin{cases}\n",
    "A_1x+B_1y+C_1z+D_1=0 \\\\\n",
    "A_2x+B_2y+C_2z+D_2=0\n",
    "\\end{cases}$$\n",
    "其几何意义为两个互不平行的平面的交线。\n",
    "\n",
    "2. 对称式和参数式方程：若直线$L$过点$P_0(x_0, y_0, z_0)$且与方向向量$\\mathbf{v}=(l, m, n)\\neq 0$平行，则$L$的方程为\n",
    "- 对称式：\n",
    "$$\\frac{x-x_0}{l}=\\frac{y-y_0}{m}=\\frac{z-z_0}{n}$$\n",
    "- 参数式：$x=x_0+lt, y=y_0+mt, z=z_0+nt, t\\in\\mathbb{R}$\n",
    "- 向量式：$\\mathbf{L}=\\overrightarrow{OP_0}+t\\mathbf{v}, t\\in\\mathbb{R}$"
   ]
  },
  {
   "cell_type": "markdown",
   "id": "f1f39648",
   "metadata": {},
   "source": [
    "### 例题\n",
    "\n",
    "> 1. 某工程队正在施工，需要在平板上切割出一块特殊形状的料板，然后将它卷成一个圆筒状，圆筒的下端是一个半径为$r=1$的圆，上端是圆筒和一个平面的截线，该平面与圆筒轴线的夹角为$\\frac{\\pi}{4}$。这个截线的最低处与底圆的距离为$h=1$。请就这个问题写出料板边缘的数学表达式。\n",
    "\n",
    "**解答：** 将圆筒放在空间直角坐标系中。设圆柱面的方程是\n",
    "$$x^2+y^2=1$$\n",
    "则截面的方程是(这只是其中一种设法，根据坐标系设置的不同还可以有其他表达式)\n",
    "$$z=2-x$$\n",
    "截线的参数方程为\n",
    "$$x=\\cos\\theta, y=\\sin\\theta, z=2-\\cos\\theta, (0\\le\\theta\\le 2\\pi)$$\n",
    "将圆筒沿低端的母线割开，建立$uOv$平面放置料板，则铺平的底圆就是一条长$2\\pi$的线段。将其摆放在$u$轴上，则区间$[0, 2\\pi]$上的点$u$和底圆上的点$(x, y)$有对应关系$u=\\theta$。因此，每一点$u$处的高度为$v=z=2-\\cos u$。因此料板是以$u$轴，$u=0, u=2\\pi, v=2-\\cos u$围成的平面区域。\n",
    "\n",
    "**注解：** 这种应用题最大的缺点就是随着坐标系的不同和操作的不同，例如本题中也可以沿高端的母线割开，过程和答案会有显著的差异。因此，从功利的视角看，大数赛为了评阅的便利性，是不会出这种题的，可以暂时忽略。然而，怎么建立坐标系才能方便计算？这也是值得研究的一点。"
   ]
  },
  {
   "cell_type": "markdown",
   "id": "2324dbf8",
   "metadata": {},
   "source": [
    "> 2. 在圆柱面$x^2+y^2=1$上取两个点$A(1, 0, 0), B(-1, 0, 1)$。一只蚂蚁从点$A$沿圆柱面爬到点$B$。问它沿什么路径可使得爬行的路程最短，并求最短路程。\n",
    "\n",
    "**解答：** 我们知道平面中两点之间线段最短，于是考虑将圆柱面剪开。圆柱面有参数方程\n",
    "$$x=\\cos\\theta, y=\\sin\\theta, (0\\le\\theta\\le 2\\pi)$$\n",
    "剪开后放置到$uOv$平面上，则铺平的底圆就是一条长$2\\pi$的线段。将其摆放在$u$轴上，则区间$[0, 2\\pi]$上的点$u$和底圆上的点$(x, y)$有对应关系$u=\\theta$。而显然$v=z$。此时两点的坐标分别是$A(0, 0), B(\\pi, 1)$。在平面上，爬行的最短路径方程是\n",
    "$$v=\\frac{1}{\\pi} u, (u\\in[0, \\pi])$$\n",
    "路程长度容易算得，是$\\sqrt{1+\\pi^2}$。现在又`粘贴到`圆柱面上，即将对应关系换回$\\theta$的表示形式，则最短路径方程为\n",
    "$$x=\\cos\\theta, y=\\sin\\theta, z=\\frac{1}{\\pi}\\theta, (\\theta\\in[0, \\pi])$$"
   ]
  },
  {
   "cell_type": "markdown",
   "id": "5e30490c",
   "metadata": {},
   "source": [
    "> 3. 半径为$R$的圆$L$的正上方有一条平行于该圆的直线$l$，高度为$h$。过圆上每一个点作$l$的垂线，所有这些垂线构成的曲面称为正劈锥。试建立正劈锥的方程。\n",
    "\n",
    "**解答：** 设圆位于$xOy$坐标面上，方程为$x^2+y^2=R^2$。设$l$在$yOz$坐标面上，方程为\n",
    "$$\\begin{cases}\n",
    "x=0 \\\\\n",
    "z=h\n",
    "\\end{cases}$$\n",
    "过圆上的某点$(u, v, 0)$作垂直于$l$的平面$y=v$，则其与$l$的交点是$(0, v, h)$。此时连接这两个点的线段就是垂线，其参数方程为\n",
    "$$x=u-ut, y=v, z=ht, (t\\in[0, 1])$$\n",
    "代入圆的参数方程$u=R\\cos \\theta, v=R\\sin \\theta$，可知正劈锥的方程是\n",
    "$$x=R\\cos\\theta(1-t), y=R\\sin\\theta, z=ht, (\\theta\\in[0, 2\\pi], t\\in[0, 1])$$"
   ]
  },
  {
   "cell_type": "markdown",
   "id": "584c2cab",
   "metadata": {},
   "source": [
    "> 4. 双曲抛物面$\\Sigma$的方程为$z=xy$，证明：$\\Sigma$上任意点处，都存在通过该点且完全位于$\\Sigma$上的两条直线。\n",
    "\n",
    "**解答1:** 设$P(x_0, y_0, z_0)\\in\\Sigma$，则通过该点的直线方程为\n",
    "$$x=x_0+lt, y=y_0+mt, z=z_0+nt$$\n",
    "其中方向向量$\\mathbf{e}=(l, m, n)\\neq 0$。先证明存在这样的$\\mathbf{e}$使得直线完全位于$\\Sigma$上。将直线方程与双曲抛物面方程联立得到\n",
    "$$z_0+nt\\equiv x_0y_0+(mx_0+ly_0)t+lmt^2$$\n",
    "那么比较系数就有\n",
    "$$\\begin{cases}\n",
    "lm&=0 \\\\\n",
    "mx_0+ly_0&=n\n",
    "\\end{cases}$$\n",
    "令$l=0, m=1$，则$n=x_0$，于是存在$\\mathbf{e}_1=(0, 1, x_0)$。同理，令$m=0, l=1$，则$n=y_0$，于是存在$\\mathbf{e}_2=(1, 0, y_0)$。它们是互不平行的非零向量，因此它们对应着两条完全位于$\\Sigma$上的直线。\n",
    "\n",
    "**解答2:** 可写出$\\Sigma$的参数方程\n",
    "$$x=u, y=v, z=uv$$\n",
    "固定$u=u_0$，则有曲线$l_{u_0}$方程为\n",
    "$$x=u_0, y=v, z=u_0v$$\n",
    "这显然是直线方程，故直线$l_{u_0}$完全位于$\\Sigma$上。此时令$u_0$变动，则产生的直线族$\\{l_{u_0}\\}$生成了$\\Sigma$。同理对先固定$v=v_0$的情形进行相同的操作，产生的直线族$\\{l_{v_0}\\}$也生成了$\\Sigma$。因此$\\Sigma$上的每一点存在通过该点且完全位于$\\Sigma$上的两条直线。"
   ]
  },
  {
   "cell_type": "markdown",
   "id": "a7328977",
   "metadata": {},
   "source": [
    "> 5. 设空间曲线$L:x=x(t), y=y(t), z=z(t), a\\le t\\le b$。求$L$绕$z$轴的旋转面方程。\n",
    "\n",
    "**解答：** 设$M(x, y, z)$是旋转面上的一个点，其柱坐标为$r, \\theta, z$。$M$是由$L$的某点$M_L(x(t), y(t), z(t))$旋转而来。因为是绕$z$轴旋转，因此$z=z(t)$。而这两个点到$z$轴的距离相等，因此\n",
    "$$r=\\sqrt{x^2(t)+y^2(t)}$$\n",
    "因此旋转面的方程就是\n",
    "$$x=\\sqrt{x^2(t)+y^2(t)}\\cos\\theta, y=\\sqrt{x^2(t)+y^2(t)}\\sin\\theta, z=z(t), a\\le t\\le b, 0\\le\\theta\\le 2\\pi$$"
   ]
  },
  {
   "cell_type": "markdown",
   "id": "f0c620ce",
   "metadata": {},
   "source": [
    "> 6. 求环面的参数方程，如圆$L:(y-2)^2+z^2=1$绕$z$轴的旋转面。并将参数方程化为直角坐标系下的方程。\n",
    "\n",
    "**解答：** 可以知道$L$的参数方程是\n",
    "$$x=0, y=2+\\cos t, z=\\sin t, 0\\le t\\le 2\\pi$$\n",
    "由上，可以求出\n",
    "$$x=(2+\\cos t)\\cos\\theta, y=(2+\\cos t)\\sin\\theta, z=\\sin t, 0\\le t\\le 2\\pi, 0\\le\\theta\\le 2\\pi$$\n",
    "接下来将其化为直角坐标系下的方程。消去$\\theta, t$可得到\n",
    "$$x^2+y^2=(2+\\cos t)^2=(2\\pm\\sqrt{1-z^2})^2=4\\pm 4\\sqrt{1-z^2}+1-z^2$$\n",
    "$$(x^2+y^2+z^2-5)^2=16(1-z^2)$$\n",
    "\n",
    "或者设$f(y, z)=(y-2)^2+z^2-1=0$，其绕$z$轴的旋转面方程就应该是$f(\\pm\\sqrt{x^2+y^2}, z)=0$，也就是\n",
    "$$\\begin{aligned}\n",
    "(\\pm\\sqrt{x^2+y^2}-2)^2+z^2-1&=0 \\\\\n",
    "x^2+y^2+z^2\\pm 4\\sqrt{x^2+y^2}+3&=0 \\\\\n",
    "(x^2+y^2+z^2+3)^2&=16(x^2+y^2)\n",
    "\\end{aligned}$$\n",
    "可以证明这两个方程其实是相同的。"
   ]
  },
  {
   "cell_type": "markdown",
   "id": "c4924890",
   "metadata": {},
   "source": [
    "<a href=\"4.1Exercise.ipynb\" >Go to exercise</a>"
   ]
  },
  {
   "cell_type": "markdown",
   "id": "e568dc4c",
   "metadata": {},
   "source": [
    "<a href=\"4.2.ipynb\" >Go to next chapter</a>"
   ]
  }
 ],
 "metadata": {
  "language_info": {
   "name": "python"
  }
 },
 "nbformat": 4,
 "nbformat_minor": 5
}
