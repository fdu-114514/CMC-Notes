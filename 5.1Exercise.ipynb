{
 "cells": [
  {
   "cell_type": "markdown",
   "id": "9f2aa747",
   "metadata": {},
   "source": [
    "## 5.1的练习"
   ]
  },
  {
   "cell_type": "code",
   "execution_count": null,
   "id": "d03a966a",
   "metadata": {
    "vscode": {
     "languageId": "plaintext"
    }
   },
   "outputs": [],
   "source": [
    "import numpy as np\n",
    "import matplotlib.pyplot as plt"
   ]
  }
 ],
 "metadata": {
  "language_info": {
   "name": "python"
  }
 },
 "nbformat": 4,
 "nbformat_minor": 5
}
