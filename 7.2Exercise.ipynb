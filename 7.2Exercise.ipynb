{
 "cells": [
  {
   "cell_type": "markdown",
   "id": "50761599",
   "metadata": {},
   "source": [
    "## 7.2的练习"
   ]
  }
 ],
 "metadata": {
  "language_info": {
   "name": "python"
  }
 },
 "nbformat": 4,
 "nbformat_minor": 5
}
