{
 "cells": [
  {
   "cell_type": "markdown",
   "id": "50761599",
   "metadata": {},
   "source": [
    "## 7.2的练习"
   ]
  },
  {
   "cell_type": "code",
   "execution_count": null,
   "id": "a2134218",
   "metadata": {
    "vscode": {
     "languageId": "plaintext"
    }
   },
   "outputs": [],
   "source": [
    "import numpy as np\n",
    "import matplotlib.pyplot as plt"
   ]
  }
 ],
 "metadata": {
  "language_info": {
   "name": "python"
  }
 },
 "nbformat": 4,
 "nbformat_minor": 5
}
