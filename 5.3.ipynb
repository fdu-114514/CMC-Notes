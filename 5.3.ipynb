{
 "cells": [
  {
   "cell_type": "markdown",
   "id": "6426609c",
   "metadata": {},
   "source": [
    "## 5.3 多元函数积分学的应用"
   ]
  }
 ],
 "metadata": {
  "language_info": {
   "name": "python"
  }
 },
 "nbformat": 4,
 "nbformat_minor": 5
}
