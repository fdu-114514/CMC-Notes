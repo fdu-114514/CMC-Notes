{
 "cells": [
  {
   "cell_type": "markdown",
   "id": "a71db3e3",
   "metadata": {},
   "source": [
    "## 6.1 数项级数"
   ]
  }
 ],
 "metadata": {
  "language_info": {
   "name": "python"
  }
 },
 "nbformat": 4,
 "nbformat_minor": 5
}
