{
 "cells": [
  {
   "cell_type": "markdown",
   "id": "65c7e136",
   "metadata": {},
   "source": [
    "## 3.1 不定积分"
   ]
  }
 ],
 "metadata": {
  "language_info": {
   "name": "python"
  }
 },
 "nbformat": 4,
 "nbformat_minor": 5
}
