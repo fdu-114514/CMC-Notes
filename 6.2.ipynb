{
 "cells": [
  {
   "cell_type": "markdown",
   "id": "65c5b26d",
   "metadata": {},
   "source": [
    "## 6.2 函数项级数"
   ]
  }
 ],
 "metadata": {
  "language_info": {
   "name": "python"
  }
 },
 "nbformat": 4,
 "nbformat_minor": 5
}
