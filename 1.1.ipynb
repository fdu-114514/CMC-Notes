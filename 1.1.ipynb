{
 "cells": [
  {
   "cell_type": "markdown",
   "id": "104cf226",
   "metadata": {},
   "source": [
    "## 1.1 极限"
   ]
  },
  {
   "cell_type": "markdown",
   "id": "aa775382",
   "metadata": {},
   "source": [
    "### 例题"
   ]
  },
  {
   "cell_type": "markdown",
   "id": "acde89c6",
   "metadata": {},
   "source": [
    "> 1. 设$a>0$，求极限\n",
    "> $$\\lim_{n\\to\\infty}n^2(a^{1/n}-a^{1/(n+1)})$$\n",
    "\n",
    "**解答1:** 考虑使用拉格朗日中值定理：（其中$\\xi\\in(1/n, 1/(n+1))$）\n",
    "\n",
    "$$\\lim_{n\\to\\infty}n^2(a^{1/n}-a^{1/(n+1)})=\\lim_{n\\to\\infty}n^2a^{\\xi}\\ln a(\\frac{1}{n}-\\frac{1}{n+1})=\\lim_{n\\to\\infty}\\frac{n^2a^{\\xi}}{n(n+1)}\\ln a=\\ln a$$\n",
    "\n",
    "**解答2:** 考虑等价无穷小$a^x-1\\sim x\\ln a$，我们有：\n",
    "\n",
    "$$\\lim_{n\\to\\infty}n^2(a^{1/n}-a^{1/(n+1)})=\\lim_{n\\to\\infty}n^2a^{1/(n+1)}(\\frac{1}{n}-\\frac{1}{n+1})\\ln a=\\ln a$$"
   ]
  },
  {
   "cell_type": "markdown",
   "id": "82e5b447",
   "metadata": {},
   "source": [
    "> 2. 设$c>0, x_1=\\sqrt{c},x_{n+1}=\\sqrt{c+x_n}$，求$\\lim_{n\\to\\infty}x_n$\n",
    "   \n",
    "**解答1:** 容易看出$x_n$单调递增(证明的话只需$x_n-x_{n-1}$)，现证明其有上界。显然$x_1<\\sqrt{c}+1$，假设$x_n<\\sqrt{c}+1$，那么计算$x_{n+1}$有\n",
    "$$x_{n+1}=\\sqrt{c+x_n}<\\sqrt{c+\\sqrt{c}+1}<\\sqrt{c+2\\sqrt{c}+1}=\\sqrt{c}+1$$\n",
    "因此$x_n$单调递增，且有上界。因此极限存在，记为$\\lim_{n\\to\\infty}x_n=A$。然后在迭代公式两边令$n\\to\\infty$，有\n",
    "$$\\begin{aligned}\n",
    "    \\lim_{n\\to\\infty}x_n&=\\lim_{n\\to\\infty}\\sqrt{c+x_n} \\\\\n",
    "    A &= \\sqrt{c+A} \\\\\n",
    "    A &= \\frac{1+\\sqrt{1+4c}}{2}\n",
    "\\end{aligned}$$\n",
    "\n",
    "**解答2:** 采取先算后证的办法，先假设极限存在，则由上同理可知$A$的值。然后我们证明$|x_n-A|\\to 0$就行了。\n",
    "$$|x_n-A|=|\\sqrt{c+x_{n-1}}-\\sqrt{c+A}|=|\\frac{x_{n-1}-A}{\\sqrt{c+x_{n-1}}+\\sqrt{c+A}}|\\leq|\\frac{x_{n-1}-A}{A}|$$\n",
    "这样递推就有\n",
    "$$|x_n-A|\\leq \\frac{1}{A}|x_{n-1}-A|\\leq \\frac{1}{A^2}|x_{n-2}-A|\\leq \\cdots \\leq \\frac{1}{A^n}|x_1-A|\\to 0$$\n",
    "\n",
    "**注：** 本人还是比较喜欢第一种方法..."
   ]
  },
  {
   "cell_type": "markdown",
   "id": "5880410f",
   "metadata": {},
   "source": [
    "> 3. 求极限\n",
    "> $$\\lim_{x\\to\\infty}x^2(\\arctan\\frac{a}{x}-\\arctan\\frac{a}{x+1})$$\n",
    "\n",
    "**解答1:** 最自然的想法当然是拉格朗日中值定理\n",
    "$$\\lim_{x\\to\\infty}x^2(\\arctan\\frac{a}{x}-\\arctan\\frac{a}{x+1})=\\lim_{x\\to\\infty}\\frac{x^2}{1+\\xi^2}(\\frac{a}{x}-\\frac{a}{x+1})=\\lim_{x\\to\\infty}\\frac{ax^2}{x(x+1)}\\frac{1}{1+\\xi^2}=a ,(\\xi\\in(\\frac{a}{x+1},\\frac{a}{x}))$$\n",
    "\n",
    "**解答2:** 当然也可以使用洛必达法则，但是想一想就知道形式会极其复杂。你就洛吧，活爹！"
   ]
  },
  {
   "cell_type": "markdown",
   "id": "67c498e8",
   "metadata": {},
   "source": [
    "<a href=\"1.1Exercise.ipynb\" >Go to exercise</a>"
   ]
  },
  {
   "cell_type": "markdown",
   "id": "923b5870",
   "metadata": {},
   "source": [
    "<a href=\"1.2.ipynb\" >Go to next chapter</a>"
   ]
  }
 ],
 "metadata": {
  "language_info": {
   "name": "python"
  }
 },
 "nbformat": 4,
 "nbformat_minor": 5
}
