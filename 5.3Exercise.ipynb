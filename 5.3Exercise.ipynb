{
 "cells": [
  {
   "cell_type": "markdown",
   "id": "9c07864b",
   "metadata": {},
   "source": [
    "## 5.3的练习"
   ]
  }
 ],
 "metadata": {
  "language_info": {
   "name": "python"
  }
 },
 "nbformat": 4,
 "nbformat_minor": 5
}
