{
 "cells": [
  {
   "cell_type": "markdown",
   "id": "5f25ae01",
   "metadata": {},
   "source": [
    "## 1.2 一元函数的连续性"
   ]
  },
  {
   "cell_type": "markdown",
   "id": "83d5a879",
   "metadata": {},
   "source": [
    "### 例题"
   ]
  },
  {
   "cell_type": "markdown",
   "id": "6ce0082c",
   "metadata": {},
   "source": [
    "> 1. 设$f(x)$在$(-\\infty, +\\infty)$上连续，$f(1)=2$。又对于任何$x,y$恒有等式$f(x+y)=f(x)f(y)$成立，证明：$f(x)=2^x$。\n",
    "\n",
    "**解答：** 由$f(0)=f^2(0)$可知$f(0)=0$或$f(0)=1$，再由$f(1)=f(1)f(0)$可知$f(0)=1$，否则$f(1)=0$，矛盾！下面先证对于任意有理数$x$结论成立，对任意正整数$n$，我们有\n",
    "$$f(1)=f(n\\cdot \\frac{1}{n})=f^n(\\frac{1}{n})=2$$\n",
    "于是$f(\\frac{1}{n})=2^{\\frac{1}{n}}$，对于正有理数$\\frac{m}{n}$，则有\n",
    "$$f(\\frac{m}{n})=f^{m}(\\frac{1}{n})=2^{\\frac{m}{n}}$$\n",
    "对于任一负有理数$x$，则$-x$是正有理数，而且\n",
    "$$1=f(x-x)=f(x)f(-x)$$\n",
    "因此$f(x)=(f(-x))^{-1}=2^x$，对于任意有理数结论都成立。而对于无理数$x$，则存在有理数列$r_n$，使得$\\lim_{n\\to\\infty}r_n=x$。由指数函数$2^x$和$f(x)$的连续性可知\n",
    "$$f(x)=f(\\lim_{n\\to\\infty}r_n)=\\lim_{n\\to\\infty}f(r_n)=\\lim_{n\\to\\infty}2^{r_n}=2^{\\lim_{n\\to\\infty}r_n}=2^x$$\n",
    "\n",
    "**总结：** 连续性是一个非常强的条件，它使得极限符号可以自由移动。在本例中，连续性的作用就是帮助我们把对于有理数的证明拓展到无理数。"
   ]
  },
  {
   "cell_type": "markdown",
   "id": "57a37234",
   "metadata": {},
   "source": [
    "> 2. 证明任何椭圆都存在一个外切于它的正方形。\n",
    "\n",
    "**思路：** 从外切矩形开始，由零点定理可知结论成立。\n",
    "\n",
    "**解答：** 给定$\\theta\\in[0, \\pi]$，可取椭圆两条相互垂直的切线，倾角分别为$\\theta$和$\\theta+\\frac{\\pi}{2}$，由此得到一个唯一的外切矩形。记两条切线为$l_1, l_2$，椭圆的两个半轴长为$a, b$，在两条切线上的投影长度为$c, c'$，则$c, c'$分别是矩形的两边长。记$d(\\theta)=c-c'$，由实际意义可设其为$[0,\\pi]$上的连续函数。若$a=b$，则椭圆实际是圆，结论显然成立。不妨设$0<a<b$，由几何意义可知$d(\\theta)$在$[0,\\pi]$上的最大值和最小值分别为$2b-2a>0$和$2a-2b<0$。由零点定理，存在$\\theta_1\\in(0,\\pi)$，使得$d(\\theta_1)=0$，即$c=c'$，外切矩形为正方形。\n",
    "\n",
    "**总结：** 此处对$d(\\theta)$连续性的假定是直观的，虽然我们可以严格论证其连续性，但对于实际的应用题来说，这并没有必要。"
   ]
  },
  {
   "cell_type": "markdown",
   "id": "3c98c4a3",
   "metadata": {},
   "source": [
    "> 3. 证明：奇数次多项式至少有一个实零点，偶数次多项式有最大值或最小值。\n",
    "\n",
    "**思路：** 这是很直观的结论，严格论证只需要用到零点定理和最值定理。\n",
    "\n",
    "**解答：** 设奇数次多项式为$p_n(x)=a_0+a_1x+\\cdots+a_nx^n$，$a_n>0$对其进行如下变形：\n",
    "$$p_n(x)=x^n(a_n+\\frac{a_{n-1}}{x}+\\cdots+\\frac{a_0}{x^n})$$\n",
    "显然有$p_n(-\\infty)=-\\infty,p_n(+\\infty)=+\\infty$，从而存在$x_1, x_2$使得$p_n(x_1)<0, p_n(x_2)>0$。由零点定理可知存在$x_0\\in(x_1, x_2)$，使得$p_n(x_0)=0$。若$a_n<0$，则$p_n(-\\infty)=+\\infty,p_n(+\\infty)=-\\infty$，同样可证明存在实零点。\n",
    "\n",
    "若$n$是偶数，假设$a_n>0$，则有$\\lim_{x\\to\\infty}=+\\infty$。因此，取定$x_0$，存在$X>0$，使得当$|x|>X$时，有\n",
    "$$p_n(x)>p_n(x_0)$$\n",
    "对此我们做出$x_0\\in(-X, X)$的合理要求。由连续函数的最值定理，可知在闭区间$[-X, X]$内，$p_n(x)$必存在最小值$m$，即$\\forall x\\in[-X, X], p_n(x)\\ge m$。实际上，根据上面的论证，无论$x$在不在这个闭区间里，都有$p_n(x)\\ge m$，因此$m$就是$p_n(x)$在$(-\\infty, +\\infty)$上的最小值。若$a_n<0$，可用同样的方法证明$p_n(x)$存在最大值$M$。"
   ]
  },
  {
   "cell_type": "markdown",
   "id": "e14d61c6",
   "metadata": {},
   "source": [
    "> 4. 设$f(x)$在$(-\\infty, +\\infty)$上连续，对于任何$x$恒有$f[f(x)]=x$。证明$f(x)$存在不动点，即存在$x_0$使得$f(x_0)=x_0$。\n",
    "\n",
    "**思路：** 找出实际的点是很难的，不如用反证法：如果没有这样的点会发生什么？\n",
    "\n",
    "**解答：** 用反证法，假设没有这样的点，由连续性，不妨设$\\forall x\\in\\mathbb{R}, f(x)>x$，否则由零点定理，存在$x_0$使得$f(x_0)=x_0$。那么容易看出\n",
    "$$f[f(x)]>f(x), \\forall x\\in\\mathbb{R}$$\n",
    "从而$f[f(x)]>x, \\forall x\\in\\mathbb{R}$，与题设矛盾！$f(x)<x$的情况类似。因此存在$x_0$使得$f(x_0)=x_0$。\n",
    "\n",
    "**总结：** 书上设了$F(x)=f(x)-x$，这样描述零点定理的时候会更清晰。但本人不太习惯。"
   ]
  },
  {
   "cell_type": "markdown",
   "id": "5a0dbaf4",
   "metadata": {},
   "source": [
    "<a href=\"1.2Exercise.ipynb\" >Go to exercise</a>"
   ]
  },
  {
   "cell_type": "markdown",
   "id": "ac972861",
   "metadata": {},
   "source": [
    "<a href=\"2.1.ipynb\" >Go to next chapter</a>"
   ]
  }
 ],
 "metadata": {
  "language_info": {
   "name": "python"
  }
 },
 "nbformat": 4,
 "nbformat_minor": 5
}
