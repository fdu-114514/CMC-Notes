{
 "cells": [
  {
   "cell_type": "markdown",
   "id": "c757f8a1",
   "metadata": {},
   "source": [
    "## 6.1的练习"
   ]
  },
  {
   "cell_type": "code",
   "execution_count": null,
   "id": "38e21b1a",
   "metadata": {
    "vscode": {
     "languageId": "plaintext"
    }
   },
   "outputs": [],
   "source": [
    "import numpy as np\n",
    "import matplotlib.pyplot as plt"
   ]
  }
 ],
 "metadata": {
  "language_info": {
   "name": "python"
  }
 },
 "nbformat": 4,
 "nbformat_minor": 5
}
