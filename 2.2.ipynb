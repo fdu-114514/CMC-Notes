{
 "cells": [
  {
   "cell_type": "code",
   "execution_count": 1,
   "id": "227a5a8f",
   "metadata": {},
   "outputs": [],
   "source": [
    "import numpy as np\n",
    "import matplotlib.pyplot as plt"
   ]
  },
  {
   "cell_type": "markdown",
   "id": "4f37bccf",
   "metadata": {},
   "source": [
    "## 2.2 导数与函数的单调、极值、凸凹及泰勒公式"
   ]
  },
  {
   "cell_type": "markdown",
   "id": "7cb251c3",
   "metadata": {},
   "source": [
    "### 泰勒公式\n",
    "\n",
    "若函数$f(x)$在含有$x_0$的某个开区间$I$内有$n+1$阶导数，则对任一$x\\in I$，有$n$阶泰勒公式\n",
    "$$f(x)=f(x_0)+f'(x_0)(x-x_0)+\\frac{f''(x_0)}{2!}(x-x_0)^2+\\cdots+\\frac{f^{(n)}(x_0)}{n!}(x-x_0)^n+R_n(x)$$\n",
    "\n",
    "1. 拉格朗日型余项：余项$R_n(x)$具有形式\n",
    "$$R_n(x)=\\frac{f^{(n+1)}(\\xi)}{(n+1)!}(x-x_0)^{n+1}$$\n",
    "其中$\\xi$介于$x$与$x_0$之间。这在进行精细估计的时候很有用。\n",
    "\n",
    "2. 皮亚诺型余项：余项$R_n(x)$具有形式\n",
    "$$R_n(x)=o((x-x_0)^n)$$\n",
    "这在只需要估计阶数的时候比拉格朗日型余项更为简便。\n",
    "\n",
    "3. 麦克劳林公式：其实就是泰勒公式在$x=0$时的特例。下面给出几个常用的麦克劳林公式\n",
    "> $$e^x=\\sum_{k=0}^n\\frac{x^k}{k!}+o(x^n)=1+x+\\frac{x^2}{2!}+\\cdots+\\frac{x^n}{n!}+o(x^n)$$\n",
    "> $$\\sin x=\\sum_{k=0}^{n-1}(-1)^k\\frac{x^{2k+1}}{(2k+1)!}+o(x^{2n})=x-\\frac{x^3}{3!}+\\frac{x^5}{5!}-\\cdots+\\frac{(-1)^{n-1}x^{2n-1}}{(2n-1)!}+o(x^{2n})$$\n",
    "> $$\\cos x=\\sum_{k=0}^{n}(-1)^k\\frac{x^{2k}}{(2k!)}+o(x^{2n+1})=1-\\frac{x^2}{2!}+\\frac{x^4}{4!}-\\cdots+\\frac{(-1)^nx^{2n}}{(2n)!}+o(x^{2n+1})$$\n",
    "> $$\\ln(1+x)=\\sum_{k=1}^n(-1)^{k-1}\\frac{x^k}{k}+o(x^n)=x-\\frac{x^2}{2}+\\frac{x^3}{3}-\\cdots+\\frac{(-1)^{n-1}x^n}{n}+o(x^n)$$\n",
    "> $$(1+x)^{\\alpha}=\\sum_{k=0}^n\\binom{\\alpha}{k}x^k+o(x^n)=1+\\alpha x+\\frac{\\alpha(\\alpha-1)}{2!}x^2+\\cdots+\\frac{\\alpha(\\alpha-1)\\cdots(\\alpha-n+1)}{n!}x^n+o(x^n)$$"
   ]
  },
  {
   "cell_type": "markdown",
   "id": "dc6ec1a7",
   "metadata": {},
   "source": [
    "### 函数的凹凸性\n",
    "\n",
    "设$f(x)$是定义在区间$I$上的连续函数，若对于任意$x_1, x_2\\in I$总成立不等式\n",
    "$$f(q_1x_1+q_2x_2)\\le q_1f(x_1)+q_2f(x_2)$$\n",
    "其中$q_1, q_2$是满足$q_1+q_2=1$的任意正数，则称$f(x)$在区间$I$上是凹函数(下凸函数，convex function)，否则称$f(x)$在区间$I$上是凸函数(上凸函数，concave function)。由于定义过于混乱，因此下面直接采用英文。可以证明以下结论：\n",
    "1. 连续函数$f(x)$在区间$I$上是convex function的充要条件是：对任意$x_1, x_2\\in I$，总成立\n",
    "$$f(\\frac{x_1+x_2}{2})\\le \\frac{1}{2}f(x_1)+\\frac{1}{2}f(x_2)$$\n",
    "2. 连续函数$f(x)$在区间$I$上是convex function的充要条件是：对任意$x_1, x_2, \\cdots, x_n\\in I$，总成立\n",
    "$$f(q_1x_1+q_2x_2+\\cdots+q_nx_n)\\le q_1f(x_1)+q_2f(x_2)+\\cdots+q_nf(x_n)$$\n",
    "其中$q_1, q_2, \\cdots, q_n$是满足$q_1+q_2+\\cdots+q_n=1$的任意正数。\n",
    "\n",
    "3. 若$f(x)$在$I$上可导，则$f(x)$在$I$上是convex function的充要条件是$f'(x)$在$I$上单调增加。\n",
    "\n",
    "4. 若$f(x)$在$I$上二阶可导，则$f(x)$在$I$上是convex function的充要条件是$f''(x)\\ge 0, \\forall x\\in I$。"
   ]
  },
  {
   "cell_type": "code",
   "execution_count": 2,
   "id": "30a6feef",
   "metadata": {},
   "outputs": [
    {
     "data": {
      "image/png": "[encoded data removed]",
      "text/plain": [
       "<Figure size 640x480 with 1 Axes>"
      ]
     },
     "metadata": {},
     "output_type": "display_data"
    }
   ],
   "source": [
    "%matplotlib inline\n",
    "x = np.linspace(-2, 2, 2000)\n",
    "y = x**2\n",
    "plt.plot(x, y, label=r'y=x^2', linewidth=2)\n",
    "plt.title('An example of convex function')\n",
    "plt.legend()\n",
    "plt.show()"
   ]
  },
  {
   "cell_type": "markdown",
   "id": "cd81858e",
   "metadata": {},
   "source": [
    "### 曲率\n",
    "\n",
    "设曲线$L:y=f(x)$有连续的二阶导数，则它在$(x, y)$处的曲率定义为\n",
    "$$K=\\frac{|y''|}{(1+y'^2)^{\\frac{3}{2}}}$$\n",
    "若$L$由参数方程\n",
    "$$\\begin{cases}\n",
    "x=\\varphi(t) \\\\\n",
    "y=\\phi(t)\n",
    "\\end{cases}$$\n",
    "给出，则其曲率为\n",
    "$$K=\\frac{|\\varphi'\\phi''-\\varphi''\\phi'|}{(\\varphi'^2+\\phi'^2)^{\\frac{3}{2}}}$$\n",
    "有兴趣者可通过原始定义式及复合函数求导法则验算之。在$L$上的曲率半径定义为\n",
    "$$R=\\frac{1}{K}$$"
   ]
  },
  {
   "cell_type": "markdown",
   "id": "10b0c7ee",
   "metadata": {},
   "source": [
    "### 例题"
   ]
  },
  {
   "cell_type": "markdown",
   "id": "abc6449e",
   "metadata": {},
   "source": [
    "> 1. 将下列函数展开为皮亚诺型余项的麦克劳林公式：$(1):\\text{e}^{2x}\\ln(1+x)$展开到$x^3$项；$(2):\\tan x$展开到$x^5$项；$(3):\\text{e}^{\\sin x}$展开到$x^3$项。\n",
    "\n",
    "**解答：** $(1)$先将两项分别展开\n",
    "$$\\text{e}^{2x}=1+2x+\\frac{(2x)^2}{2!}+\\frac{(3x)^2}{3!}+o(x^3)=1+2x+2x^2+\\frac{3}{2}x^3+o(x^3)$$\n",
    "$$\\ln(1+x)=x-\\frac{x^2}{2}+\\frac{x^3}{3}+o(x^3)$$\n",
    "然后将其相乘得到\n",
    "$$\\begin{aligned}\n",
    "\\text{e}^{2x}\\ln(1+x)&=(1+2x+2x^2+\\frac{3}{2}x^3+o(x^3))(x-\\frac{x^2}{2}+\\frac{x^3}{3}+o(x^3)) \\\\\n",
    "&=x-\\frac{x^2}{2}+\\frac{x^3}{3}+2x^2-x^3+2x^3+o(x^3) \\\\\n",
    "&=x+\\frac{3}{2}x^2+\\frac{4}{3}x^3+o(x^3)\n",
    "\\end{aligned}$$\n",
    "\n",
    "$(2)$注意到$\\tan x$是奇函数，因此可设\n",
    "$$\\tan x=ax+bx^3+cx^5+o(x^5)$$\n",
    "又因为$\\tan x\\cos x=\\sin x$，所以有\n",
    "$$\\begin{aligned}\n",
    "(ax+bx^3+cx^5+o(x^5))(1-\\frac{x^2}{2}+\\frac{x^4}{24}+o(x^5))&=x-\\frac{x^3}{6}+\\frac{x^5}{120}+o(x^5) \\\\\n",
    "ax-\\frac{a}{2}x^3+\\frac{a}{24}x^5+bx^3-\\frac{b}{2}x^5+cx^5+o(x^5)&=x-\\frac{x^3}{6}+\\frac{x^5}{120}+o(x^5) \\\\\n",
    "\\end{aligned}$$\n",
    "所以有\n",
    "$$\\begin{cases}\n",
    "a&=1 \\\\\n",
    "-\\frac{a}{2}+b&=-\\frac{1}{6} \\\\\n",
    "\\frac{a}{24}-\\frac{b}{2}+c&=\\frac{1}{120}\n",
    "\\end{cases}$$\n",
    "可以解得\n",
    "$$\\begin{cases}\n",
    "a&=1 \\\\\n",
    "b&=\\frac{1}{3} \\\\\n",
    "c&=\\frac{2}{15}\n",
    "\\end{cases}$$\n",
    "因此\n",
    "$$\\tan x=x+\\frac{x^3}{3}+\\frac{2x^5}{15}+o(x^5)$$\n",
    "\n",
    "$(3)$由`“间接法”`展开\n",
    "$$\\begin{aligned}\n",
    "\\text{e}^{\\sin x}&=1+\\sin x+\\frac{\\sin^2 x}{2}+\\frac{\\sin^3 x}{6}+o(\\sin^3 x) \\\\\n",
    "&=1+(x-\\frac{1}{6}x^3)+\\frac{1}{2}x^2+\\frac{1}{6}x^3+o(x^3) \\\\\n",
    "&=1+x+\\frac{1}{2}x^2+o(x^3)\n",
    "\\end{aligned}$$\n",
    "\n",
    "**注解：** 不同于书上，在$(2)$中运用了待定系数法。可以明显看出书上使用的长除法计算量更小。另外，如果担心精度不够，可以先展开多一点项数，没必要一开始就算准阶数(如果还没熟悉到这个地步的话)。"
   ]
  },
  {
   "cell_type": "markdown",
   "id": "dc54f98d",
   "metadata": {},
   "source": [
    "> 2. $(1)$设$f(x)$的麦克劳林公式为\n",
    "> $$f(x)=a_1x+a_2x^2+\\cdots+a_nx^n+o(x^n)$$\n",
    "> 其中$a_1=a_2=\\cdots=a_{k-1}=0$，而$a_k\\neq 0(1\\le k\\le n)$。则有等价无穷小$f(x)\\sim a_kx^k(x\\to 0)$。\n",
    ">\n",
    "> $(2)$用麦克劳林公式求极限：\n",
    "> $$\\lim_{x\\to +\\infty}(\\sqrt[6]{x^6+x^5}-\\sqrt[6]{x^6-x^5})$$\n",
    "\n",
    "**解答：** $(1)$既然$a_1=a_2=\\cdots=a_{k-1}=0$，那么$f(x)$的展开就可写为\n",
    "$$f(x)=a_kx^k+\\cdots+a_nx^n+o(x^n)$$\n",
    "由比值法\n",
    "$$\\lim_{x\\to 0}\\frac{f(x)}{a_kx^k}=\\lim_{x\\to 0}\\frac{a_kx^k+\\cdots+a_nx^n+o(x^n)}{a_kx^k}=\\lim_{x\\to 0}(1+o(1))=1$$\n",
    "\n",
    "$(2)$当看到$x\\to +\\infty$立马意识到有问题，大概率要从根号里抽出一个$x$，先试试\n",
    "$$\\lim_{x\\to +\\infty}(\\sqrt[6]{x^6+x^5}-\\sqrt[6]{x^6-x^5})=\\lim_{x\\to +\\infty}x(\\sqrt[6]{1+\\frac{1}{x}}-\\sqrt[6]{1-\\frac{1}{x}})$$\n",
    "这下舒服了，很明显需要用倒代换。\n",
    "$$\\begin{aligned}\\lim_{x\\to +\\infty}x(\\sqrt[6]{1+\\frac{1}{x}}-\\sqrt[6]{1-\\frac{1}{x}})&=\\lim_{t\\to 0^+}\\frac{\\sqrt[6]{1+t}-\\sqrt[6]{1-t}}{t} \\\\\n",
    "&=\\lim_{t\\to 0^+}\\frac{\\frac{1}{6}t-(-\\frac{1}{6}t)+o(t)}{t} \\\\\n",
    "&=\\frac{1}{3}\n",
    "\\end{aligned}$$"
   ]
  },
  {
   "cell_type": "markdown",
   "id": "3abee10f",
   "metadata": {},
   "source": [
    "> 3. 设$f(x)$在$[0, 2]$上具有二阶导数，对于任何$x\\in[0, 2]$都有$|f(x)|\\le 1, |f''(x)|\\le 1$，证明：恒有$|f'(x)|\\le 2$。\n",
    "\n",
    "**思路：** 但凡涉及高阶导数的估计，先考虑拉格朗日型余项的泰勒公式。\n",
    "\n",
    "**解答：** 对$f(u)$在$x$处进行泰勒展开的公式为\n",
    "$$f(u)=f(x)+f'(x)(u-x)+\\frac{1}{2}f''(\\xi)(u-x)^2$$\n",
    "其中$\\xi$在$u$和$x$之间。分别令$u=0, 2$可得到\n",
    "$$f(0)=f(x)+f'(x)(0-x)+\\frac{1}{2}f''(\\xi_1)(0-x)^2$$\n",
    "$$f(2)=f(x)+f'(x)(2-x)+\\frac{1}{2}f''(\\xi_2)(2-x)^2$$\n",
    "其中$\\xi_1\\in(0, x), \\xi_2\\in(x, 2)$。两式相减并整理，有\n",
    "$$\\begin{aligned}\n",
    "2f'(x)&=f(2)-f(0)+\\frac{1}{2}[f''(\\xi_2)(2-x)^2-f''(\\xi_1)x^2] \\\\\n",
    "2|f'(x)|&\\le 2+\\frac{1}{2}[x^2+(2-x)^2] \\\\\n",
    "|f'(x)|&\\le 2\n",
    "\\end{aligned}$$\n",
    "其中最后一步是因为\n",
    "$$\\frac{1}{2}[x^2+(2-x)^2]\\le 2, \\forall x\\in[0, 2]$$"
   ]
  },
  {
   "cell_type": "markdown",
   "id": "ca867bab",
   "metadata": {},
   "source": [
    "> 4. 设$f(x)$在$[a, b]$上二阶可导，且$f'(a)=f'(b)=0$，证明：存在$\\zeta\\in(a, b)$使得\n",
    "> $$|f''(\\zeta)|\\ge \\frac{4}{(b-a)^2}|f(b)-f(a)|$$\n",
    "\n",
    "**思路：** 这题也是用泰勒展开，但展开方式似乎略有不同。\n",
    "\n",
    "**解答：** 对$f(x)$分别在$x=a, b$两点处展开\n",
    "$$f(x)=f(a)+f'(a)(x-a)+\\frac{1}{2}f''(\\xi_1)(x-a)^2=f(a)+\\frac{1}{2}f''(\\xi_1)(x-a)^2$$\n",
    "$$f(x)=f(b)+f'(b)(x-b)+\\frac{1}{2}f''(\\xi_2)(x-b)^2=f(b)+\\frac{1}{2}f''(\\xi_2)(x-b)^2$$\n",
    "两式相减得到\n",
    "$$\\frac{1}{2}[f''(\\xi_1)(x-a)^2-f''(\\xi_2)(x-b)^2]=f(b)-f(a)$$\n",
    "到这个时候就要想$\\frac{4}{(b-a)^2}$是怎么来的了。令$x=\\frac{a+b}{2}$，可知\n",
    "$$(x-a)^2=(x-b)^2=\\frac{(b-a)^2}{4}$$\n",
    "于是\n",
    "$$\\begin{aligned}\n",
    "\\frac{(b-a)^2}{8}(f''(\\xi_1)-f''(\\xi_2))&=f(b)-f(a) \\\\\n",
    "f''(\\xi_1)-f''(\\xi_2)&=\\frac{8}{(b-a)^2}[f(b)-f(a)]\n",
    "\\end{aligned}$$\n",
    "最后我们有\n",
    "$$\\frac{4}{(b-a)^2}|f(b)-f(a)|\\le \\frac{1}{2}[|f''(\\xi_1)|+|f''(\\xi_2)|]\\le |f''(\\zeta)|$$\n",
    "其中$|f''(\\zeta)|=\\max\\{|f''(\\xi_1)|, |f''(\\xi_2)|\\}$\n",
    "\n",
    "**注解：** 当涉及函数的整体性质，如`例3`对于导函数的界的估计时，一般采用动点展开，即在任意点$x$展开。反之，若如本例涉及某特定点的估计时，则采用定点展开。"
   ]
  },
  {
   "cell_type": "markdown",
   "id": "6da74fbd",
   "metadata": {},
   "source": [
    "> 5. 设函数$f(x)$在$x_0$处具有$n$阶导数，且$f'(x_0)=f''(x_0)=\\cdots=f^{(n-1)}(x_0)=0, f^{(n)}(x_0)\\neq 0$。证明：$(1)$若$n$是偶数，则当$f^{(n)}(x_0)<0$时，$f(x_0)$是严格极大值；当$f^{(n)}(x_0)>0$时，$f(x_0)$是严格极小值。$(2)$若$n$是奇数，则$f(x_0)$不是极值。\n",
    "\n",
    "**解答：** 对$f(x)$在$x_0$处进行泰勒展开\n",
    "$$\\begin{aligned}\n",
    "f(x)&=f(x_0)+f'(x_0)(x-x_0)+\\frac{f''(x_0)}{2!}(x-x_0)^2+\\cdots+\\frac{f^{(n-1)}(x_0)}{(n-1)!}(x-x_0)^{n-1}+\\frac{f^{(n)}(x_0)}{n!}(x-x_0)^n+o((x-x_0)^n) \\\\\n",
    "&=f(x_0)+\\frac{f^{(n)}(x_0)}{n!}(x-x_0)^n+o((x-x_0)^n)\n",
    "\\end{aligned}$$\n",
    "于是有极限\n",
    "$$\\lim_{x\\to x_0}\\frac{f(x)-f(x_0)}{(x-x_0)^n}=\\frac{f^{(n)}(x_0)}{n!}$$\n",
    "此处不妨设$f^{(n)}(x_0)<0$，由极限的保号性，存在$x_0$的去心邻域$U(x_0)$，使得对任意$x\\in U(x_0)$，都有\n",
    "$$\\frac{f(x)-f(x_0)}{(x-x_0)^n}<0$$\n",
    "\n",
    "$(1)$ 当$n$是偶数时，对于$x\\in U(x_0)$总有$(x-x_0)^n>0$，因此$f(x)-f(x_0)<0$，即$f(x)<f(x_0)$。由极大值的定义可知$f(x_0)$是严格极大值。\n",
    "\n",
    "$(2)$ 当$n$是奇数时，设$\\delta>0$。若$x\\in(x_0-\\delta, x_0)$，则$(x-x_0)^n<0$，即$f(x)>f(x_0)$。若$x\\in(x_0, x_0+\\delta)$，则$(x-x_0)^n>0$，即$f(x)<f(x_0)$。由极值的定义可知$f(x_0)$不是极值。"
   ]
  },
  {
   "cell_type": "markdown",
   "id": "25ea024e",
   "metadata": {},
   "source": [
    "> 6. 求由参数方程\n",
    "> $$\\begin{cases}\n",
    "x=t-\\lambda\\sin t \\\\\n",
    "y=1-\\lambda\\cos t\n",
    "\\end{cases}$$\n",
    "> 所确定的$y$为$x$的函数的极值点，其中$0<\\lambda<1$。\n",
    "\n",
    "**解答：** 首先计算函数的驻点。令$\\frac{\\text{d}y}{\\text{d}x}=0$，就有\n",
    "$$\\begin{aligned}\n",
    "\\frac{\\text{d}y}{\\text{d}x}=\\frac{\\frac{\\text{d}y}{\\text{d}t}}{\\frac{\\text{d}x}{\\text{d}t}}&=0 \\\\\n",
    "\\frac{\\lambda\\sin t}{1-\\lambda\\cos t}&=0\n",
    "\\end{aligned}$$\n",
    "因为$0<\\lambda<1$，因此上述等式的解就是$t=k\\pi, k\\in\\mathbb{Z}$。要判断是极大值、极小值还是普通驻点，就需要用二阶导数判别法，因为\n",
    "$$\\begin{aligned}\n",
    "\\frac{\\text{d}^2y}{\\text{d}x^2}&=\\frac{\\frac{\\text{d}}{\\text{d}t}(\\frac{\\text{d}y}{\\text{d}x})}{\\frac{\\text{d}x}{\\text{d}t}} \\\\\n",
    "&=\\frac{\\frac{\\text{d}}{\\text{d}t}(\\frac{\\lambda\\sin t}{1-\\lambda\\cos t})}{1-\\lambda\\cos t} \\\\\n",
    "&=\\frac{1}{1-\\lambda\\cos t}\\cdot\\frac{\\lambda\\cos t(1-\\lambda\\cos t)-\\lambda\\sin t\\cdot\\lambda\\sin t}{(1-\\lambda\\cos t)^2} \\\\\n",
    "&=\\frac{\\lambda\\cos t-\\lambda^2}{(1-\\lambda\\cos t)^3}\n",
    "\\end{aligned}$$\n",
    "所以，若$t=(2k+1)\\pi, k\\in\\mathbb{Z}$，则二阶导的值小于0，是极大值。若$t=2k\\pi, k\\in\\mathbb{Z}$，则二阶导的值大于0，是极小值。"
   ]
  },
  {
   "cell_type": "markdown",
   "id": "f0ab9ef2",
   "metadata": {},
   "source": [
    "> 7. 证明strictly convex function的如下结论：$(1)$设$f(x)$在区间$I$是strictly convex function，$x_1, x_2, \\cdots, x_n\\in I$，则等式\n",
    "> $$f(q_1x_1+q_2x_2+\\cdots+q_nx_n)=q_1f(x_1)+q_2f(x_2)+\\cdots+q_nf(x_n)$$\n",
    "> 成立的充要条件为$x_1=x_2=\\cdots=x_n$，其中$q_1, q_2, \\cdots, q_n$是某些满足$q_1+q_2+\\cdots+q_n=1$的正数。 \\\n",
    "> $(2)$设$f(x)$在区间$I$是strictly convex function，则对任意$n$及不全相等的$x_1, x_2, \\cdots, x_n\\in I$，总成立严格不等式\n",
    "> $$f(q_1x_1+q_2x_2+\\cdots+q_nx_n)<q_1f(x_1)+q_2f(x_2)+\\cdots+q_nf(x_n)$$\n",
    "> 其中$q_1, q_2, \\cdots, q_n$是某些满足$q_1+q_2+\\cdots+q_n=1$的正数。\n",
    "\n",
    "**解答：** $(1)$充分性显然，现证必要性。用反证法，假设$x_1, x_2, \\cdots, x_n$中有两个数不相等。不妨设$x_1\\le x_2\\le\\cdots\\le x_n$，其中有$x_{k-1}<x_k$，则\n",
    "$$\\begin{aligned}\n",
    "f(q_1x_1+q_2x_2+\\cdots+q_nx_n)&=f(q_1x_1+q_2x_2+\\cdots+q_{k-1}x_{k-1}+q_kx_k+\\cdots+q_nx_n) \\\\\n",
    "&=f[u(\\frac{q_1}{u}x_1+\\frac{q_2}{u}x_2+\\cdots+\\frac{q_{k-1}}{u}x_{k-1})+v(\\frac{q_k}{v}x_k+\\frac{q_{k+1}}{v}x_{k+1}+\\cdots+\\frac{q_n}{v}x_n)] \\\\\n",
    "&=f(ux_u+vx_v)\n",
    "\\end{aligned}$$\n",
    "其中\n",
    "$$u=q_1+q_2+\\cdots+q_{k-1}, v=q_k+q_{k+1}+\\cdots+q_n$$\n",
    "$$x_u=\\frac{q_1}{u}x_1+\\frac{q_2}{u}x_2+\\cdots+\\frac{q_{k-1}}{u}x_{k-1}$$\n",
    "$$x_v=\\frac{q_k}{v}x_k+\\frac{q_{k+1}}{v}x_{k+1}+\\cdots+\\frac{q_n}{v}x_n$$\n",
    "显然$u, v>0, u+v=1$，而且\n",
    "$$\\frac{q_1}{u}+\\frac{q_2}{u}+\\cdots+\\frac{q_{k-1}}{u}=1$$\n",
    "$$\\frac{q_k}{v}+\\frac{q_{k+1}}{v}+\\cdots+\\frac{q_n}{v}=1$$\n",
    "因此有\n",
    "$$f(ux_u+vx_v)<uf(x_u)+vf(x_v)$$\n",
    "我们又有\n",
    "$$\\begin{aligned}\n",
    "uf(x_u)+vf(x_v)&\\le u(\\frac{q_1}{u}f(x_1)+\\frac{q_2}{u}f(x_2)+\\cdots+\\frac{q_{k-1}}{u}f(x_{k-1}))+v(\\frac{q_k}{v}f(x_k)+\\frac{q_{k+1}}{v}f(x_{k+1})+\\cdots+\\frac{q_n}{v}f(x_n)) \\\\\n",
    "&=q_1f(x_1)+q_2f(x_2)+\\cdots+q_nf(x_n)\n",
    "\\end{aligned}$$\n",
    "从而\n",
    "$$f(q_1x_1+q_2x_2+\\cdots+q_nx_n)<q_1f(x_1)+q_2f(x_2)+\\cdots+q_nf(x_n)$$\n",
    "这和已知等式矛盾！因此必有$x_1=x_2=\\cdots=x_n$。\n",
    "\n",
    "$(2)$此时首先有如下不等式成立\n",
    "$$f(q_1x_1+q_2x_2+\\cdots+q_nx_n)\\le q_1f(x_1)+q_2f(x_2)+\\cdots+q_nf(x_n)$$\n",
    "但若$x_1, x_2, \\cdots, x_n\\in I$和某些$q_1, q_2, \\cdots, q_n$，使得上式等号成立，则由$(1)$的结论有$x_1=x_2=\\cdots=x_n$，这与$x_1, x_2, \\cdots, x_n$不全相等矛盾！故成立严格不等式\n",
    "$$f(q_1x_1+q_2x_2+\\cdots+q_nx_n)<q_1f(x_1)+q_2f(x_2)+\\cdots+q_nf(x_n)$$"
   ]
  },
  {
   "cell_type": "markdown",
   "id": "3f4f0ea0",
   "metadata": {},
   "source": [
    "<a href=\"2.2Exercise.ipynb\" >Go to exercise</a>"
   ]
  },
  {
   "cell_type": "markdown",
   "id": "a519a920",
   "metadata": {},
   "source": [
    "<a href=\"2.3.ipynb\" >Go to next chapter</a>"
   ]
  }
 ],
 "metadata": {
  "kernelspec": {
   "display_name": "venv",
   "language": "python",
   "name": "python3"
  },
  "language_info": {
   "codemirror_mode": {
    "name": "ipython",
    "version": 3
   },
   "file_extension": ".py",
   "mimetype": "text/x-python",
   "name": "python",
   "nbconvert_exporter": "python",
   "pygments_lexer": "ipython3",
   "version": "3.12.7"
  }
 },
 "nbformat": 4,
 "nbformat_minor": 5
}
