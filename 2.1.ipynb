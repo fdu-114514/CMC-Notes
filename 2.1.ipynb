{
 "cells": [
  {
   "cell_type": "markdown",
   "id": "59f5ade2",
   "metadata": {},
   "source": [
    "## 2.1 导数、微分中值定理"
   ]
  },
  {
   "cell_type": "markdown",
   "id": "ac9fe18f",
   "metadata": {},
   "source": [
    "此处，我决定加入一些重要但难以记忆/容易混淆的概念。"
   ]
  },
  {
   "cell_type": "markdown",
   "id": "6e7b7b74",
   "metadata": {},
   "source": [
    "### 高阶导数的莱布尼茨公式\n",
    "\n",
    "设$u=u(x), v=v(x)$都具有$n$阶导数，则\n",
    "$$(uv)^{(n)}=\\sum_{k=0}^n\\binom{n}{k}u^{(k)}v^{(n-k)}$$\n",
    "> 注：可与二项式展开的形式相比较，增强记忆。"
   ]
  },
  {
   "cell_type": "markdown",
   "id": "a040cb12",
   "metadata": {},
   "source": [
    "### 中值定理\n",
    "\n",
    "1. 罗尔中值定理：若函数$f(x)$满足：\n",
    "- 在`闭区间`$[a, b]$上连续。\n",
    "- 在`开区间`$(a, b)$内可导。\n",
    "- $f(a)=f(b)$\n",
    "\n",
    "则在$(a, b)$内至少存在一点$\\xi$，使得$f'(\\xi)=0$\n",
    "\n",
    "2. 拉格朗日中值定理：若函数$f(x)$满足：\n",
    "- 在`闭区间`$[a, b]$上连续。\n",
    "- 在`开区间`$(a, b)$内可导。\n",
    "\n",
    "则在$(a, b)$内至少存在一点$\\xi$，使得$f(b)-f(a)=f'(\\xi)(b-a)$成立。\n",
    "\n",
    "3. 柯西中值定理：若函数$f(x)$满足：\n",
    "- 在`闭区间`$[a, b]$上连续。\n",
    "- 在`开区间`$(a, b)$内可导。\n",
    "- 对任一$x\\in(a, b), g'(x)\\neq 0$\n",
    "\n",
    "则在$(a, b)$内至少存在一点$\\xi$，使得$\\frac{f'(xi)}{g'(\\xi)}=\\frac{f(b)-f(a)}{g(b)-g(a)}$成立。"
   ]
  },
  {
   "cell_type": "markdown",
   "id": "769928d5",
   "metadata": {},
   "source": [
    "### 例题"
   ]
  },
  {
   "cell_type": "markdown",
   "id": "e6ce5f60",
   "metadata": {},
   "source": [
    "> 1. 设$f(x)=\\arcsin x\\cdot \\sqrt{\\frac{1-\\sin x}{1+\\sin x}}$，求$f'(0)$。\n",
    "\n",
    "**解答：** 由导数定义\n",
    "$$f'(0)=\\lim_{x\\to 0}\\frac{f(x)-f(0)}{x-0}=\\lim_{x\\to 0}\\frac{\\arcsin x}{x}\\cdot\\sqrt{\\frac{1-\\sin x}{1+\\sin x}}=1$$\n",
    "\n",
    "**注解：** 虽然直接计算导数是最通用的方法，但此题导数形式过于复杂，不如直接使用导数定义并计算极限方便。"
   ]
  },
  {
   "cell_type": "markdown",
   "id": "b358a373",
   "metadata": {},
   "source": [
    "> 2. 设$f(x)$在点$x=0$处有二阶导数且$\\lim_{x\\to 0}\\frac{f(x)}{x}=0$，求$f(0), f'(0)$及$\\lim_{x\\to 0}\\frac{f(x)}{x^2}$\n",
    "\n",
    "**解答** 因为`可导必定连续`，故$f(0)=\\lim_{x\\to 0}f(x)$。若$f(0)\\neq 0$，则$\\lim_{x\\to 0}\\frac{f(x)}{x}=\\infty$，引出矛盾。因此$f(0)=0$。\n",
    "\n",
    "由导数定义\n",
    "$$f'(0)=\\lim_{x\\to 0}\\frac{f(x)-f(0)}{x-0}=\\lim_{x\\to 0}\\frac{f(x)}{x}=0$$\n",
    "因为$f(x)$在$x=0$处有二阶导数，故在$x=0$的某个邻域内有一阶导函数。运用洛必达法则得\n",
    "$$\\lim_{x\\to 0}\\frac{f(x)}{x^2}=\\lim_{x\\to 0}\\frac{f'(x)}{2x}=\\frac{1}{2}\\lim_{x\\to 0}\\frac{f'(x)-f'(0)}{x-0}=\\frac{1}{2}f''(0)$$\n",
    "\n",
    "**注解：** 题目只说了$f(x)$在点$x=0$处有二阶导数，并没有说在其他地方有二阶导数。如果贸然使用洛必达法则，就是`经典的错误，标准的零分`。"
   ]
  },
  {
   "cell_type": "markdown",
   "id": "bdd1c550",
   "metadata": {},
   "source": [
    "> 3. 求$y=\\arctan x$在$x=0$处的$n$阶导数。\n",
    "\n",
    "**解答：** 先在等式两边对$x$求导，得到\n",
    "$$(1+x^2)y'=1$$\n",
    "再利用高阶导数的莱布尼茨公式，两边对$x$求$n$阶导数，得到\n",
    "$$(1+x^2)y^{(n+1)}+2nxy^{(n)}+n(n-1)y^{(n-1)}=0$$\n",
    "令$x=0$，得到\n",
    "$$y^{(n+1)}=-n(n-1)y^{(n-1)}$$\n",
    "现在，我们有\n",
    "$$y^{(n)}=-(n-1)(n-2)y^{(n-2)}$$\n",
    "容易计算得到$y^{(0)}(0)=0, y^{(1)}(0)=1$。当$n=2m$时，\n",
    "$$y^{(n)}(0)=y^{(2m)}(0)=-(2m-1)(2m-2)y^{(2m-2)}(0)=\\cdots=(-1)^m(2m-1)!y^{(0)}(0)=0$$\n",
    "当$n=2m+1$时，\n",
    "$$y^{n}((0))=y^{(2m+1)}(0)=-2m(2m-1)y^{(2m-1)}(0)=\\cdots=(-1)^m(2m)!y^{(1)}(0)=(-1)^m(2m)!$$\n",
    "\n",
    "**注解：** 当求某点处$n$阶导数时，导函数的形式通常极为复杂。此时建立递推公式是一种很好的方法。"
   ]
  },
  {
   "cell_type": "markdown",
   "id": "88439849",
   "metadata": {},
   "source": [
    "> 4. 已知$y=\\sin(x+y)$确定了$y$是$x$的函数，求$\\frac{\\text{d}^2y}{\\text{d}x^2}$。\n",
    "\n",
    "**解答：** 用`隐函数微分法`，对方程两边求导得到\n",
    "$$y'=\\cos(x+y)(1+y')$$\n",
    "可以求出\n",
    "$$y'=\\frac{\\cos(x+y)}{1-\\cos(x+y)}$$\n",
    "再次对等式两边求导，得到\n",
    "$$\\begin{aligned}\n",
    "y''&=(\\frac{1}{1-\\cos(x+y)}-1)' \\\\\n",
    "&=\\frac{-\\sin(x+y)(1+y')}{(1-\\cos(x+y))^2} \\\\\n",
    "&=-\\frac{\\sin(x+y)}{(1-\\cos(x+y))^3}\n",
    "\\end{aligned}$$\n",
    "\n",
    "**注解：** 当函数不能/很难显式表示为$y=f(x)$的形式时，隐函数微分法就很有效。"
   ]
  },
  {
   "cell_type": "markdown",
   "id": "b1dbd1eb",
   "metadata": {},
   "source": [
    "> 5. 设$f(x)$在区间$[x_0, x_0+c]$上连续，在$(x_0, x_0+c)$内可导。若存在极限$\\lim_{x\\to x_0^+}f'(x)=A$(或$\\infty$)，则$f(x)$在点$x_0$处存在右导数，且$f'_{+}(x_0)=A$(或$\\infty$)。\n",
    "\n",
    "**思路：** $f(x)$在点$x_0$处的右导数(若存在)就是\n",
    "$$f'_+(x_0)=\\lim_{\\Delta x\\to 0^+}\\frac{f(x_0+\\Delta x)-f(x_0)}{\\Delta x}$$\n",
    "题目所给的条件就是拉格朗日中值定理的条件，可以考虑对上述等式的分子使用。\n",
    "\n",
    "**解答：** 由拉格朗日中值定理\n",
    "$$f(x_0+\\Delta x)-f(x_0)=f'(\\xi)\\Delta x$$\n",
    "其中$\\xi\\in(x_0, x_0+\\Delta x)$，因此\n",
    "$$\\lim_{\\Delta x\\to 0^+}\\frac{f(x_0+\\Delta x)-f(x_0)}{\\Delta x}=\\lim_{\\xi\\to x_0^+}f'(\\xi)=A$$\n",
    "因此，$f(x)$在点$x_0$处存在右导数，且$f'_{+}(x_0)=A$。\n",
    "$\\lim_{x\\to x_0^+}f'(x)=\\infty$的情况同理。\n",
    "\n",
    "**注解：** 当`导数`与`极限`同时出现并附带闭区间上连续，开区间内可导的条件时，就大概率需要用中值定理。"
   ]
  },
  {
   "cell_type": "markdown",
   "id": "752b4d47",
   "metadata": {},
   "source": [
    "> 6. 试确定$a, b$的值使得函数\n",
    "> $$f(x)=\\begin{cases}\n",
    "ax+b, &x\\ge 0 \\\\\n",
    "x+x^2\\sin\\frac{1}{x}, &x<0\n",
    "\\end{cases}$$\n",
    "> 在$x=0$处可导，并讨论导函数的连续性。\n",
    "\n",
    "**解答：** 因可导必连续，显然右极限$f(0^+)=b$，因此左极限$f(0^-)=b$，计算可得\n",
    "$$b=\\lim_{x\\to 0^-}(x+x^2\\sin\\frac{1}{x})=0$$\n",
    "在$x=0$处可导意味着$f'_-(0)=f'_+(0)=a$，通过计算可得\n",
    "$$f'_-(0)=\\lim_{x\\to 0^-}\\frac{f(x)-f(0)}{x-0}=\\lim_{x\\to 0^-}(1+x\\sin\\frac{1}{x})=1$$\n",
    "因此$a=1$。此时导函数为\n",
    "$$f'(x)=\\begin{cases}\n",
    "1, &x\\ge 0 \\\\\n",
    "1+2x\\sin\\frac{1}{x}-\\cos\\frac{1}{x}, &x<0\n",
    "\\end{cases}$$\n",
    "导函数在$(-\\infty, +\\infty)$只在$x=0$处有间断点，且是第二类间断点(极限不存在)，在其余点导函数均连续。\n",
    "\n",
    "**注解：** 在做分段函数在分界点的可导性这种题目时，切勿直接使用导函数的左右极限来判断可导性(例5没有讨论极限不存在的情况！)。本例就说明，若导函数在某点的极限不存在，函数在该点仍可能有导数。"
   ]
  },
  {
   "cell_type": "markdown",
   "id": "0882de23",
   "metadata": {},
   "source": [
    "> 7. 设$f(x)$在$[a, b]$上可导且$f'(a)\\neq f'(b)$。则对介于$f'(a), f'(b)$之间的任何值$r$，都存在$x$使得$r=f'(x)$。\n",
    "\n",
    "**解答：** 先证明若$f'(a), f'(b)$符号相反，则存在$c\\in(a, b)$使得$f'(c)=0$。不妨设$f'(a)<0, f'(b)>0$，那么由导数定义\n",
    "$$f'(a)=\\lim_{x\\to a^+}\\frac{f(x)-f(a)}{x-a}<0$$\n",
    "由极限的保号性，当$x$充分接近$a$时有$\\frac{f(x)-f(a)}{x-a}<0$。注意$x-a>0$，因此$f(x)-f(a)<0$，即$f(a)$并非$f(x)$在$[a, b]$上的最小值。同理可以证明$f(b)$并非$f(x)$在$[a, b]$上的最小值。因此$f(x)$的最小值在`开区间`$(a, b)$内取到。设$c\\in(a, b)$使得$f(c)$为函数最小值，则$f'(c)=0$。\n",
    "\n",
    "然后设$f'(a)<f'(b)$，$r$在$f'(a), f'(b)$之间。作辅助函数$F(x)=f(x)-rx$，则$F(x)$在$[a, b]$上可导，$F'(x)=f'(x)-r$。注意到$F'(a)<0, F'(b)>0$。因此由上，存在$x$使得$F'(x)=0$，即$f'(x)=r$。"
   ]
  },
  {
   "cell_type": "markdown",
   "id": "6b5d6a9b",
   "metadata": {},
   "source": [
    "> 8. 已知曲线$L$的极坐标方程为$r=1-\\cos\\theta$，求曲线上对应$\\theta=\\frac{\\pi}{6}$点处在直角坐标系下的切线方程。\n",
    "\n",
    "**思路：** 先写出直角坐标系下的切线方程\n",
    "$$y-y_0=f'(x_0)(x-x_0)$$\n",
    "然后根据复合函数的求导法则计算。\n",
    "\n",
    "**解答：** 当$\\theta=\\frac{\\pi}{6}$\n",
    "$$x_0=r\\cos\\theta=(1-\\frac{\\sqrt{3}}{2})\\cdot\\frac{\\sqrt{3}}{2}=\\frac{2\\sqrt{3}-3}{4}$$\n",
    "$$y_0=r\\sin\\theta=(1-\\frac{\\sqrt{3}}{2})\\cdot\\frac{1}{2}=\\frac{2-\\sqrt{3}}{4}$$\n",
    "$$f'(x_0)=\\frac{y'(\\theta)}{x'(\\theta)}=\\frac{\\sin^2\\theta+\\cos\\theta-\\cos^2\\theta}{\\sin\\theta\\cos\\theta-\\sin\\theta+\\sin\\theta\\cos\\theta}=\\frac{-\\cos 2\\theta+\\cos\\theta}{\\sin 2\\theta-\\sin\\theta}=1$$\n",
    "故切线方程为\n",
    "$$y-\\frac{2-\\sqrt{3}}{4}=x-\\frac{2\\sqrt{3}-3}{4}$$\n",
    "$$y=x+\\frac{5-3\\sqrt{3}}{4}$$"
   ]
  },
  {
   "cell_type": "markdown",
   "id": "ad582e6a",
   "metadata": {},
   "source": [
    "> 9. 设函数$f(x)$在闭区间$[0,\\frac{\\pi}{4}]$上连续，在开区间$(0,\\frac{\\pi}{4})$内可导，且$f(\\frac{\\pi}{4})=0$。证明存在一点$\\xi\\in(0,\\frac{\\pi}{4})$，使得$2f(\\xi)+\\sin 2\\xi\\cdot f'(\\xi)=0$。\n",
    "\n",
    "**注：** 我们先来一个外行人看起来很恐怖的，典型的“注意到”形式的构造，下一题再介绍通用方法。\n",
    "\n",
    "**解答：** 构造$F(x)=f(x)\\tan x$，则$F(0)=F(\\frac{\\pi}{4})=0$，从而满足罗尔中值定理的条件，因此存在一点$\\xi\\in(0, \\frac{\\pi}{4})$，使得\n",
    "$$F'(\\xi)=f'(\\xi)\\tan\\xi+f(\\xi)\\sec^2\\xi=0$$\n",
    "由于$\\cos\\xi\\neq 0$，因此等式两边同乘$2\\cos^2\\xi$，上式就等价于\n",
    "$$2f(\\xi)+\\sin 2\\xi\\cdot f'(\\xi)=0$$"
   ]
  },
  {
   "cell_type": "markdown",
   "id": "e4cb94f9",
   "metadata": {},
   "source": [
    "> 10. 设函数$f(x)$在闭区间$[0, 1]$上连续，在开区间$(0, 1)$内可导，$f(0)=f(1)=0, f(\\frac{1}{2})=1$。证明对于任意的实数$\\lambda$，存在$\\xi\\in(0, 1)$，使得$f'(\\xi)-\\lambda[f(\\xi)-\\xi]=1$。\n",
    "\n",
    "**解答：** 先将$\\xi$换成$x$，就有\n",
    "$$f'(x)-\\lambda[f(x)-x]=1$$\n",
    "再令$y=f(x)$，上式就有微分方程的形式\n",
    "$$y'-\\lambda y=1-\\lambda x$$\n",
    "这个一阶线性方程的通解为\n",
    "$$y=\\text{e}^{\\int\\lambda \\text{d}x}(\\int(1-\\lambda x)\\text{e}^{-\\int\\lambda\\text{d}x}\\text{d}x+C)=\\text{e}^{\\lambda x}(x\\text{e}^{-\\lambda x}+C)$$\n",
    "$$\\text{e}^{-\\lambda x}y-\\text{e}^{-\\lambda x}x=C$$\n",
    "因此，我们取辅助函数$F(x)=\\text{e}^{-\\lambda x}(f(x)-x)$。注意到$F(\\frac{1}{2})=\\frac{1}{2}\\text{e}^{-\\frac{\\lambda}{2}}>0, F(1)=-\\text{e}^{-\\lambda}<0$，因此存在$\\eta\\in(\\frac{1}{2}, 1)$使得$F(\\eta)=0$。又知道$F(0)=F(\\eta)=0$，因此由罗尔中值定理，存在$\\xi\\in(0, \\eta)\\subset(0, 1)$，使得\n",
    "$$F'(\\xi)=-\\lambda\\text{e}^{-\\lambda \\xi}[f(\\xi)-\\xi]+\\text{e}^{-\\lambda \\xi}(f'(\\xi)-1)=0$$\n",
    "由于$\\text{e}^{-\\lambda \\xi}\\neq 0$，故可以约去。稍作整理就得到\n",
    "$$f'(\\xi)-\\lambda[f(\\xi)-\\xi]=1$$\n",
    "\n",
    "**注解：** 这种方法称为微分方程法，是解单中值等式问题时构造辅助函数的通用方法。当然，要能用这种方法，首先要会解微分方程。[立刻前往学习](7.1.ipynb)。此处也给出一阶线性方程的通解公式。\n",
    "\n",
    "> 设一阶线性方程\n",
    "> $$y'+P(x)y=Q(x)$$\n",
    "> 则其通解公式为\n",
    "> $$y=\\text{e}^{-\\int P(x)\\text{d}x}(\\int Q(x)\\text{e}^{\\int P(x)\\text{d}x}\\text{d}x+C)$$"
   ]
  },
  {
   "cell_type": "markdown",
   "id": "35f4daa3",
   "metadata": {},
   "source": [
    "> 9. 设函数$f(x)$在闭区间$[0,\\frac{\\pi}{4}]$上连续，在开区间$(0,\\frac{\\pi}{4})$内可导，且$f(\\frac{\\pi}{4})=0$。证明存在一点$\\xi\\in(0,\\frac{\\pi}{4})$，使得$2f(\\xi)+\\sin 2\\xi\\cdot f'(\\xi)=0$。\n",
    "\n",
    "**解法2:** 建立微分方程\n",
    "$$\\begin{aligned}\n",
    "(\\sin 2x)\\frac{\\text{d}y}{\\text{d}x}+2y&=0 \\\\\n",
    "\\frac{\\text{d}y}{y}&=-\\frac{2}{\\sin 2x}\\text{d}x \\\\\n",
    "\\ln|y|&=\\ln|\\cot 2x+\\csc 2x|+C_1 \\\\\n",
    "y&=C\\cot x \\\\\n",
    "y\\tan x&=C\n",
    "\\end{aligned}$$\n",
    "因此，设辅助函数$F(x)=f(x)\\tan x$。后面的证明过程同上。"
   ]
  },
  {
   "cell_type": "markdown",
   "id": "4e801dce",
   "metadata": {},
   "source": [
    "> 11. 设$f(x)$在区间$[0, 1]$上可微，$f(0)=0, f(1)=1$，正数$\\lambda_1, \\lambda_2, \\lambda_3$的和为1。证明存在三个不同的数$x_1, x_2, x_3\\in(0, 1)$，使得$\\frac{\\lambda_1}{f'(x_1)}+\\frac{\\lambda_2}{f'(x_2)}+\\frac{\\lambda_3}{f'(x_3)}=1$\n",
    "\n",
    "**解答：** 由介值定理，存在$0<a<b<1$使得$f(a)=\\lambda_1, f(b)=\\lambda_1+\\lambda_2$。分别在三个区间$[0, a], [a, b], [b, 1]$上用拉格朗日中值定理\n",
    "$$\\frac{f(a)-f(0)}{a-0}=f'(x_1), \\frac{f(b)-f(a)}{b-a}=f'(x_2), \\frac{f(1)-f(b)}{1-b}=f'(x_3)$$\n",
    "其中$x_1\\in(0, a), x_2\\in(a, b), x_3\\in(b, 1)$。对式子稍作整理得到\n",
    "$$\\frac{\\lambda_1}{f'(x_1)}=a, \\frac{\\lambda_2}{f'(x_2)}=b-a, \\frac{\\lambda_3}{f'(x_3)}=1-b$$\n",
    "将三式相加，明显有\n",
    "$$\\frac{\\lambda_1}{f'(x_1)}+\\frac{\\lambda_2}{f'(x_2)}+\\frac{\\lambda_3}{f'(x_3)}=1$$\n",
    "\n",
    "**注解：** 本例称为多中值等式问题。通常使用拉格朗日中值定理或柯西中值定理来解题，但技巧性较强。"
   ]
  },
  {
   "cell_type": "markdown",
   "id": "742ce86d",
   "metadata": {},
   "source": [
    "<a href=\"2.1Exercise.ipynb\" >Go to exercise</a>"
   ]
  },
  {
   "cell_type": "markdown",
   "id": "ab7153fd",
   "metadata": {},
   "source": [
    "<a href=\"2.2.ipynb\" >Go to next chapter</a>"
   ]
  }
 ],
 "metadata": {
  "language_info": {
   "name": "python"
  }
 },
 "nbformat": 4,
 "nbformat_minor": 5
}
