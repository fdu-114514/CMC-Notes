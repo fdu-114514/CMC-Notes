{
 "cells": [
  {
   "cell_type": "markdown",
   "id": "70b1c19c",
   "metadata": {},
   "source": [
    "## 2.1的练习"
   ]
  },
  {
   "cell_type": "code",
   "execution_count": 1,
   "id": "89dcba3d",
   "metadata": {},
   "outputs": [],
   "source": [
    "import numpy as np\n",
    "import matplotlib.pyplot as plt"
   ]
  },
  {
   "cell_type": "markdown",
   "id": "c5f00db4",
   "metadata": {},
   "source": [
    "### 求导法"
   ]
  },
  {
   "cell_type": "markdown",
   "id": "ac68ae43",
   "metadata": {},
   "source": [
    "> 1. 设$f(x)$在点$a$处连续，并有$\\lim_{x\\to a}\\frac{f(x)}{x-a}=k$。证明：$f(x)$在点$a$处可导，且$f'(a)=k$\n",
    "\n",
    "**解答：** 因为\n",
    "$$f(x)=k(x-a)+o(x-a)$$\n",
    "令$x\\to a$，则由连续性可知$f(a)=0$，因此\n",
    "$$\\lim_{x\\to a}\\frac{f(x)}{x-a}=\\lim_{x\\to a}\\frac{f(x)-f(a)}{x-a}=f'(a)=k$$"
   ]
  },
  {
   "cell_type": "markdown",
   "id": "47eb1759",
   "metadata": {},
   "source": [
    "> 2. 设$f(x)$在$x_0$处可导，$a_n<x_0<b_n$且$\\lim_{n\\to\\infty}a_n=\\lim_{n\\to\\infty}b_n=x_0$。证明：\n",
    "> $$\\lim_{n\\to\\infty}\\frac{f(b_n)-f(a_n)}{b_n-a_n}=f'(x_0)$$\n",
    "\n",
    "**思路：** 首先我们要搓一个$f'(x_0)$出来，考虑使用微分的定义。\n",
    "\n",
    "**解答：** 由微分的定义，记$\\lambda=f'(x_0)$\n",
    "$$f(x_0+\\Delta x)=f(x_0)+\\lambda\\Delta x+o(\\Delta x)$$\n",
    "因此\n",
    "$$f(b_n)=f(x_0)+\\lambda(b_n-x_0)+o(b_n-x_0)$$\n",
    "$$f(a_n)=f(x_0)+\\lambda(a_n-x_0)+o(a_n-x_0)$$\n",
    "现考虑无穷小部分\n",
    "$$\\frac{o(b_n-x_0)-o(a_n-x_0)}{b_n-a_n}=\\frac{o(b_n-x_0)}{b_n-x_0}\\cdot\\frac{b_n-x_0}{b_n-a_n}-\\frac{o(a_n-x_0)}{a_n-x_0}\\cdot\\frac{a_n-x_0}{b_n-a_n}$$\n",
    "因为\n",
    "$$|\\frac{b_n-x_0}{b_n-a_n}|\\le 1, |\\frac{a_n-x_0}{b_n-a_n}|\\le 1$$\n",
    "因此\n",
    "$$\\lim_{n\\to\\infty}\\frac{o(b_n-x_0)-o(a_n-x_0)}{b_n-a_n}=0$$\n",
    "$$o(b_n-x_0)-o(a_n-x_0)=o(b_n-a_n)$$\n",
    "$$f(b_n)-f(a_n)=\\lambda(b_n-a_n)+o(b_n-a_n)$$\n",
    "最后，我们得到\n",
    "$$\\lim_{n\\to\\infty}\\frac{f(b_n)-f(a_n)}{b_n-a_n}=\\lambda=f'(x_0)$$"
   ]
  },
  {
   "cell_type": "markdown",
   "id": "f51c405e",
   "metadata": {},
   "source": [
    "> 3. 设$f(x)$在点$x_0$有二阶导数，证明\n",
    "> $$\\lim_{h\\to 0}\\frac{f(x_0+h)-2f(x_0)+f(x_0-h)}{h^2}=f''(x_0)$$\n",
    "\n",
    "**思路：** 在点$x_0$有二阶导数就说明在$x_0$的邻域$(x_0-\\delta, x_0+\\delta)$上$f'(x)$存在，因此可以用一次洛必达，但不能用第二次了。\n",
    "\n",
    "**解答：** 先使用一次洛必达法则\n",
    "$$\\lim_{h\\to 0}\\frac{f(x_0+h)-2f(x_0)+f(x_0-h)}{h^2}=\\lim_{h\\to 0}\\frac{f'(x_0+h)-f'(x_0-h)}{2h}$$\n",
    "接下来根据导数的定义就非常好处理了\n",
    "$$\\begin{aligned}\n",
    "\\lim_{h\\to 0}\\frac{f'(x_0+h)-f'(x_0-h)}{2h}&=\\lim_{h\\to 0}\\frac{f'(x_0+h)-f'(x_0)}{2h}-\\lim_{h\\to 0}\\frac{f'(x_0-h)-f'(x_0)}{2h} \\\\\n",
    "&=\\frac{1}{2}(f''(x_0)+f''(x_0)) \\\\\n",
    "&=f''(x_0)\n",
    "\\end{aligned}$$"
   ]
  },
  {
   "cell_type": "markdown",
   "id": "a88c7906",
   "metadata": {},
   "source": [
    "> 4. 已知函数$f(x)$在$(1, +\\infty)$内可导，$\\forall x\\in(1, +\\infty)$都有\n",
    "> $$\\lim_{h\\to 0}\\frac{f[(x+h)^2]-f(x^2+h)}{h}=x^2$$\n",
    "> 求$f'(x)$的表达式。\n",
    "\n",
    "**思路：** 只说可导没说连续可导，就不应该用洛必达，而应该考虑导数定义。\n",
    "\n",
    "**解答：** 对题中的极限式进行配凑\n",
    "$$\\begin{aligned}\n",
    "    \\lim_{h\\to 0}\\frac{f[(x+h)^2]-f(x^2+h)}{h}&=\\lim_{h\\to 0}\\frac{f[(x+h)^2]-f(x^2)}{h}-\\lim_{h\\to 0}\\frac{f(x^2+h)-f(x^2)}{h} \\\\\n",
    "    &=[f(x^2)]'-f'(x^2)\n",
    "\\end{aligned}$$\n",
    "因此，只需解\n",
    "$$\\begin{aligned}\n",
    "2xf'(x^2)-f'(x^2)&=x^2 \\\\\n",
    "f'(x^2)&=\\frac{x^2}{2x-1} \\\\\n",
    "f'(x)&=\\frac{x}{2\\sqrt{x}-1}\n",
    "\\end{aligned}$$"
   ]
  },
  {
   "cell_type": "markdown",
   "id": "946c8c41",
   "metadata": {},
   "source": [
    "> 5. 设$f(x)$在$x=1$点附近有定义，且在$x=1$点可导，$f(1)=0, f'(1)=2$。求\n",
    "> $$\\lim_{x\\to 0}\\frac{f(\\sin^2x+\\cos x)}{x^2+x\\tan x}$$\n",
    "\n",
    "**思路：** 还是一样，千万不能用洛必达，而应该凑出导数定义。\n",
    "\n",
    "**解答：** 由导数定义和等价无穷小\n",
    "$$\\begin{aligned}\n",
    "    \\lim_{x\\to 0}\\frac{f(\\sin^2x+\\cos x)}{x^2+x\\tan x}&=\\lim_{x\\to 0}\\frac{f(\\sin^2x+\\cos x)-f(1)}{\\sin^2x+\\cos x-1}\\cdot\\frac{\\sin^2x+\\cos x-1}{x^2+x\\tan x} \\\\\n",
    "    &=\\lim_{x\\to 0}f'(\\sin^2x+\\cos x)\\cdot\\lim_{x\\to 0}\\frac{x^2-\\frac{1}{2}x^2}{2x^2} \\\\\n",
    "    &=f'(1)\\cdot \\frac{1}{4} \\\\\n",
    "    &=\\frac{1}{2}\n",
    "\\end{aligned}$$"
   ]
  },
  {
   "cell_type": "markdown",
   "id": "076c2df3",
   "metadata": {},
   "source": [
    "> 6. 求函数$f(x)=(x^2-5x+6)|x^3-3x^2+2x|$的不可导点\n",
    "\n",
    "**思路：** 不可导是因为绝对值函数在搞事情，找到绝对值内部函数的零点开始讨论就可以了。"
   ]
  },
  {
   "cell_type": "code",
   "execution_count": 2,
   "id": "53fbf244",
   "metadata": {},
   "outputs": [
    {
     "data": {
      "image/png": "[encoded data removed]",
      "text/plain": [
       "<Figure size 640x480 with 1 Axes>"
      ]
     },
     "metadata": {},
     "output_type": "display_data"
    }
   ],
   "source": [
    "%matplotlib inline\n",
    "x = np.linspace(-1, 3, 4000)\n",
    "y = x**3 - 3*(x**2) + 2*x\n",
    "plt.plot(x, y, label=r'$x^3-3x^2+2x$')\n",
    "plt.plot(x, y-y, ':', label='f(x)=0')\n",
    "plt.legend()\n",
    "plt.show()"
   ]
  },
  {
   "cell_type": "markdown",
   "id": "1195fd4c",
   "metadata": {},
   "source": [
    "**解答：** 设$g(x)=x^3-3x^2+2x=x(x-1)(x-2)$，其零点为$x=0, 1, 2$。分别讨论$f(x)$在这三个点处的可导性。当$x=0$时\n",
    "$$\\lim_{x\\to 0^+}\\frac{f(x)}{x}=\\lim_{x\\to 0^+}\\frac{x(x-1)(x-2)(x^2-5x+6)}{x}=12$$\n",
    "$$\\lim_{x\\to 0^-}\\frac{f(x)}{x}=\\lim_{x\\to 0^-}\\frac{-x(x-1)(x-2)(x^2-5x+6)}{x}=-12$$\n",
    "因此$x=0$是一个不可导点。当$x=1$时\n",
    "$$\\lim_{x\\to 1^+}\\frac{f(x)}{x}=\\lim_{x\\to 1^+}\\frac{-x(x-1)(x-2)(x^2-5x+6)}{x-1}=2$$\n",
    "$$\\lim_{x\\to 1^-}\\frac{f(x)}{x}=\\lim_{x\\to 1^-}\\frac{x(x-1)(x-2)(x^2-5x+6)}{x-1}=-2$$\n",
    "因此$x=1$是一个不可导点。当$x=2$时\n",
    "$$\\lim_{x\\to 2}\\frac{f(x)}{x-2}=\\lim_{x\\to 2}\\frac{\\pm x(x-1)(x-2)^2(x-3)}{x-2}=0$$\n",
    "因此，不可导点只有$x=0, 1$。"
   ]
  },
  {
   "cell_type": "markdown",
   "id": "c8a08642",
   "metadata": {},
   "source": [
    "> 7. 由方程$y^x=x^y$确定了$y$是$x$的函数，求$\\frac{\\text{d}y}{\\text{d}x}$。\n",
    "\n",
    "**思路：** 使用对数求导法。\n",
    "\n",
    "**解答：** 两边取对数得到$x\\ln y=y\\ln x$，再求导就有\n",
    "$$\\begin{aligned}\n",
    "\\ln y+\\frac{x}{y}y'&=(\\ln x)y'+\\frac{y}{x} \\\\\n",
    "(\\ln x-\\frac{x}{y})y'&=\\ln y-\\frac{y}{x} \\\\\n",
    "y'&=\\frac{y(x\\ln y-y)}{x(y\\ln x-x)}\n",
    "\\end{aligned}$$"
   ]
  },
  {
   "cell_type": "markdown",
   "id": "9a2a3cbe",
   "metadata": {},
   "source": [
    "> 8. 求由极坐标方程$r=a\\text{e}^{m\\theta}$所确定的函数$y=y(x)$的导数$\\frac{\\text{d}y}{\\text{d}x}$。\n",
    "\n",
    "**思路：** 利用参数函数的求导法。\n",
    "\n",
    "**解答：** 由极坐标和直角坐标的转换\n",
    "$$\\begin{cases}\n",
    "x=r\\cos\\theta \\\\\n",
    "y=r\\sin\\theta\n",
    "\\end{cases}$$\n",
    "\n",
    "$$\\begin{aligned}\n",
    "\\frac{\\text{d}y}{\\text{d}x}&=\\frac{\\frac{\\text{d}y}{\\text{d}\\theta}}{\\frac{\\text{d}x}{\\text{d}\\theta}} \\\\\n",
    "&=\\frac{\\frac{\\text{d}r}{\\text{d}\\theta}\\sin\\theta+r\\cos\\theta}{\\frac{\\text{d}r}{\\text{d}\\theta}\\cos\\theta-r\\sin\\theta} \\\\\n",
    "&=\\frac{a\\text{e}^{m\\theta}(m\\sin\\theta+\\cos\\theta)}{a\\text{e}^{m\\theta}(m\\cos\\theta-\\sin\\theta)} \\\\\n",
    "&=\\frac{m\\sin\\theta+\\cos\\theta}{m\\cos\\theta-\\sin\\theta} \\\\\n",
    "&=\\frac{my+x}{mx-y}\n",
    "\\end{aligned}$$"
   ]
  },
  {
   "cell_type": "markdown",
   "id": "b07f47a8",
   "metadata": {},
   "source": [
    "> 9. 对于二阶函数行列式\n",
    "> $$F(x)=\\begin{vmatrix}\n",
    "a_{11} & a_{12} \\\\\n",
    "a_{21} & a_{22}\n",
    "\\end{vmatrix}$$\n",
    "> 则有\n",
    "> $$F'(x)=\\begin{vmatrix}\n",
    "a'_{11} & a'_{12} \\\\\n",
    "a_{21} & a_{22}\n",
    "\\end{vmatrix} + \\begin{vmatrix}\n",
    "a_{11} & a_{12} \\\\\n",
    "a'_{21} & a'_{22}\n",
    "\\end{vmatrix}$$\n",
    "> 或\n",
    "> $$F'(x)=\\begin{vmatrix}\n",
    "a'_{11} & a_{12} \\\\\n",
    "a'_{21} & a_{22}\n",
    "\\end{vmatrix} + \\begin{vmatrix}\n",
    "a_{11} & a'_{12} \\\\\n",
    "a_{21} & a'_{22}\n",
    "\\end{vmatrix}$$\n",
    "\n",
    "**思路：** 这个并不难，直接展开就行，只是过程繁琐了点。\n",
    "\n",
    "**解答：** 由行列式的定义\n",
    "$$F(x)=a_{11}a_{22}-a_{12}a_{21}$$\n",
    "因此\n",
    "$$\\begin{aligned}\n",
    "F'(x)&=a'_{11}a_{22}+a_{11}a'_{22}-a'_{12}a_{21}-a_{12}a'_{21} \\\\\n",
    "&=a'_{11}a_{22}-a'_{12}a_{21}+a_{11}a'_{22}-a_{12}a'_{21} \\\\\n",
    "&=\\begin{vmatrix}\n",
    "a'_{11} & a'_{12} \\\\\n",
    "a_{21} & a_{22}\n",
    "\\end{vmatrix} + \\begin{vmatrix}\n",
    "a_{11} & a_{12} \\\\\n",
    "a'_{21} & a'_{22}\n",
    "\\end{vmatrix} \\\\\n",
    "&=a'_{11}a_{22}-a_{12}a'_{21}+a_{11}a'_{22}-a'_{12}a_{21} \\\\\n",
    "&=\\begin{vmatrix}\n",
    "a'_{11} & a_{12} \\\\\n",
    "a'_{21} & a_{22}\n",
    "\\end{vmatrix} + \\begin{vmatrix}\n",
    "a_{11} & a'_{12} \\\\\n",
    "a_{21} & a'_{22}\n",
    "\\end{vmatrix}\n",
    "\\end{aligned}$$\n",
    "\n",
    "**注：** 上述求导公式对于$n$阶函数行列式都成立，具体证明需要用到行列式的组合定义。"
   ]
  },
  {
   "cell_type": "markdown",
   "id": "af016f66",
   "metadata": {},
   "source": [
    "> 10. 求函数行列式\n",
    "> $$F(x)=\\begin{vmatrix}\n",
    "    x-1 & 1 & 2 \\\\\n",
    "    -3 & x & 3 \\\\\n",
    "    -2 & -3 & x+1\n",
    "\\end{vmatrix}$$\n",
    "> 的导数。\n",
    "\n",
    "**思路：** 直接利用上题公式即可。\n",
    "\n",
    "**解答：** 根据按行求导公式\n",
    "$$\\begin{aligned}F'(x)&=\\begin{vmatrix}\n",
    "    1 & 0 & 0 \\\\\n",
    "    -3 & x & 3 \\\\\n",
    "    -2 & -3 & x+1\n",
    "\\end{vmatrix}+\\begin{vmatrix}\n",
    "    x-1 & 1 & 2 \\\\\n",
    "    0 & 1 & 0 \\\\\n",
    "    -2 & -3 & x+1\n",
    "\\end{vmatrix}+\\begin{vmatrix}\n",
    "    x-1 & 1 & 2 \\\\\n",
    "    -3 & x & 3 \\\\\n",
    "    0 & 0 & 1\n",
    "\\end{vmatrix} \\\\\n",
    "&=(x^2+x+9)+(x^2+3)+(x^2-x+3) \\\\\n",
    "&=3x^2+15\n",
    "\\end{aligned}$$"
   ]
  },
  {
   "cell_type": "markdown",
   "id": "de148a96",
   "metadata": {},
   "source": [
    "> 11. 有一长为$5m$的梯子，靠在墙上，若它的下端沿地板以$3m/s$的速率向外移动，问：$(1)$当其上端距离墙角多少米时，梯子的上下端滑动的速率相同？$(2)$下端离开墙角$1.4m$时，梯子上端下滑的速率是多少？$(3)$下端离开墙角多少米时，上端下滑的速率是$4m/s$？\n",
    "\n",
    "**思路：** 首先建立坐标系，然后根据勾股定理来建立$x, y$之间的关系。\n",
    "\n",
    "**解答：** 设某时刻上端和下端立墙角的距离分别是$x$和$y$米，根据勾股定理有\n",
    "$$y=\\sqrt{25-x^2}$$\n",
    "对时间作微分，我们知道\n",
    "$$|\\frac{\\text{d}y}{\\text{d}t}|=|\\frac{\\text{d}y}{\\text{d}x}\\cdot\\frac{\\text{d}x}{\\text{d}t}|=\\frac{3x}{\\sqrt{25-x^2}}$$\n",
    "\n",
    "$(1)$ 令$|\\frac{\\text{d}y}{\\text{d}t}|=|\\frac{\\text{d}x}{\\text{d}t}|=3$，就有\n",
    "$$\\begin{aligned}\n",
    "\\frac{3x}{\\sqrt{25-x^2}}&=3 \\\\\n",
    "x&=\\sqrt{25-x^2} \\\\\n",
    "x&=\\frac{5}{\\sqrt{2}}\n",
    "\\end{aligned}$$\n",
    "即上端距离墙角$\\frac{5}{\\sqrt{2}}$米时，梯子的上下端滑动的速率相同。\n",
    "\n",
    "$(2)$ 直接代入$x=1.4$，就得到\n",
    "$$|\\frac{\\text{d}y}{\\text{d}t}|=\\frac{4.2}{\\sqrt{23.04}}=0.875$$\n",
    "即梯子上端下滑的速率是$0.875m/s$。\n",
    "\n",
    "$(3)$ 令$|\\frac{\\text{d}y}{\\text{d}t}|=4$，可知\n",
    "$$\\begin{aligned}\n",
    "\\frac{3x}{\\sqrt{25-x^2}}&=4 \\\\\n",
    "x^2&=\\frac{16}{9}(25-x^2) \\\\\n",
    "\\frac{25}{9}x^2&=\\frac{25\\times 16}{9} \\\\\n",
    "x&=4\n",
    "\\end{aligned}$$\n",
    "即下端离开墙角$4$米时，上端下滑的速率是$4m/s$。"
   ]
  },
  {
   "cell_type": "markdown",
   "id": "c8845005",
   "metadata": {},
   "source": [
    "> 12. 求曲线$x^y=y^x$在$(1, 1)$处的切线与法线。\n",
    "\n",
    "**思路：** 只要公式背好，就没有什么难度。\n",
    "\n",
    "**解答：** 由第七题结论，我们得到曲线在$(1, 1)$处的导数值为\n",
    "$$y'=\\frac{y(x\\ln y-y)}{x(y\\ln x-x)}=1$$\n",
    "因此，曲线在$(1, 1)$处的切线为\n",
    "$$y=x$$\n",
    "法线为\n",
    "$$y=-x+2$$"
   ]
  },
  {
   "cell_type": "markdown",
   "id": "7bdce97e",
   "metadata": {},
   "source": [
    "> 13. 心形线$r=2(1+\\cos\\theta)(0\\le\\theta\\le 2\\pi)$在何处的切线与极半径垂直，写出此时切线在直角坐标系下的方程。\n",
    "\n",
    "**思路：** 直接在直角坐标系下，用向量方法做会比较方便。\n",
    "\n",
    "**解答：** 由极坐标和直角坐标的转换\n",
    "$$\\begin{cases}\n",
    "x=r\\cos\\theta \\\\\n",
    "y=r\\sin\\theta\n",
    "\\end{cases}$$\n",
    "设极半径的方向向量为$(\\cos\\theta, \\sin\\theta)$，则$(x(\\theta), y(\\theta))=(2\\cos\\theta(1+\\cos\\theta), 2\\sin\\theta(1+\\cos\\theta))$。当切线与极半径垂直时，有\n",
    "$$x'(\\theta)\\cos\\theta+y'(\\theta)\\sin\\theta=0$$\n",
    "简单计算可知$x'(\\theta)\\cos\\theta+y'(\\theta)\\sin\\theta=-2\\sin\\theta$，因此$\\theta=0$或$\\pi$。当$\\theta=\\pi$时$r=0$，故只能是$\\theta=0$。此时有$x=4$。"
   ]
  },
  {
   "cell_type": "markdown",
   "id": "f525aec2",
   "metadata": {},
   "source": [
    "> 14. 设$f(x)$是周期为$5$的连续函数，它在$x=0$的某个邻域内满足关系式$f(1+\\sin x)-3f(1-\\sin x)=8x+\\alpha(x)$，其中$\\alpha(x)$是当$x\\to 0$时比$x$高阶的无穷小，且$f(x)$在$x=1$处可导，求曲线$y=f(x)$在点$(6, f(6))$处的切线。\n",
    "\n",
    "**思路：** 既然是周期函数，那直接换到$(1, f(1))$处就行了。\n",
    "\n",
    "**解答：** 由周期函数的性质，$f(6)=f(1)$。令$x\\to 0$可知$f(1)=0$，而且\n",
    "$$\\lim_{x\\to 0}\\frac{f(1+\\sin x)-3f(1-\\sin x)}{x}=4f'(1)=8$$\n",
    "因此$f'(1)=2$，切线为\n",
    "$$y=2(x-6)$$\n",
    "\n",
    "------"
   ]
  },
  {
   "cell_type": "markdown",
   "id": "c1baedc7",
   "metadata": {},
   "source": [
    "### 高阶导数"
   ]
  },
  {
   "cell_type": "markdown",
   "id": "93b8a2f4",
   "metadata": {},
   "source": [
    "> 15. $y=\\text{e}^x\\cos x$，求$y^{(10)}$。\n",
    "\n",
    "**思路：** 可以考虑高阶导数的莱布尼茨公式，或者欧拉公式。\n",
    "\n",
    "**解答1:** 由高阶导数的莱布尼茨公式\n",
    "$$\\begin{aligned}\n",
    "    y^{(10)}&=\\sum_{k=0}^{10}\\binom{10}{k}(\\text{e}^x)^{(k)}(\\cos x)^{(10-k)} \\\\\n",
    "    &=\\text{e}^x\\sum_{k=0}^{10}\\binom{10}{k}(\\cos x)^{(10-k)} \\\\\n",
    "    &=\\text{e}^x[(\\binom{10}{0}+\\binom{10}{4}+\\binom{10}{8}-\\binom{10}{2}-\\binom{10}{6}-\\binom{10}{10})\\cos x-(\\binom{10}{1}+\\binom{10}{5}+\\binom{10}{9}-\\binom{10}{3}-\\binom{10}{7})\\sin x] \\\\\n",
    "    &=\\text{e}^x(-(10+252+10-240)\\sin x) \\\\\n",
    "    &=-32\\text{e}^x\\sin x\n",
    "\\end{aligned}$$\n",
    "\n",
    "**解答2:** 由欧拉公式\n",
    "$$\\cos x=\\frac{\\text{e}^{\\text{i}x}+\\text{e}^{-\\text{i}x}}{2}$$\n",
    "$$\\sin x=\\frac{\\text{e}^{\\text{i}x}-\\text{e}^{-\\text{i}x}}{2\\text{i}}$$\n",
    "因此\n",
    "$$y=\\text{e}^x\\cos x=\\text{e}^x(\\frac{\\text{e}^{\\text{i}x}+\\text{e}^{-\\text{i}x}}{2})=\\frac{1}{2}(\\text{e}^{(1+\\text{i})x}+\\text{e}^{(1-\\text{i})x})$$\n",
    "\n",
    "$$\\begin{aligned}\n",
    "    y^{(10)}&=\\frac{1}{2}(1+\\text{i})^{10}\\text{e}^{(1+\\text{i})x}+\\frac{1}{2}(1-\\text{i})^{10}\\text{e}^{(1-\\text{i})x} \\\\\n",
    "    &=\\frac{1}{2}[(2\\text{i})^5\\text{e}^{(1+\\text{i})x}+(-2\\text{i})^5\\text{e}^{(1-\\text{i})x}] \\\\\n",
    "    &=\\frac{1}{2}[32\\text{i}(\\text{e}^{(1+\\text{i})x}-\\text{e}^{(1-\\text{i})x})] \\\\\n",
    "    &=\\frac{32\\text{i}}{2}\\text{e}^x(\\text{e}^{\\text{i}x}-\\text{e}^{-\\text{i}x}) \\\\\n",
    "    &=-32\\text{e}^x\\sin x\n",
    "\\end{aligned}$$"
   ]
  },
  {
   "cell_type": "markdown",
   "id": "2fa6b940",
   "metadata": {},
   "source": [
    "> 16. 设$y=y(x)$是由方程$\\ln\\sqrt{x^2+y^2}=\\arctan{\\frac{y}{x}}$所确定的隐函数，求$\\frac{\\text{d}^2y}{\\text{d}x^2}$。\n",
    "\n",
    "**思路：** 使用隐函数求导法，直接导两次即可。\n",
    "\n",
    "**解答：** 两边对$x$求导，得到\n",
    "$$\\begin{aligned}\n",
    "    \\frac{1}{\\sqrt{x^2+y^2}}\\cdot\\frac{2x+2yy'}{2\\sqrt{x^2+y^2}}&=\\frac{1}{1+\\frac{y^2}{x^2}}\\cdot(\\frac{y'}{x}-\\frac{y}{x^2}) \\\\\n",
    "    \\frac{x+yy'}{x^2+y^2}&=\\frac{xy'-y}{x^2+y^2} \\\\\n",
    "    x+yy'&=xy'-y \\\\\n",
    "    y'&=\\frac{x+y}{x-y}\n",
    "\\end{aligned}$$\n",
    "两边再次对$x$求导，得到\n",
    "$$\\begin{aligned}\n",
    "    y''&=\\frac{(1+y')(x-y)-(1-y')(x+y)}{(x-y)^2} \\\\\n",
    "    &=\\frac{(x-y)+(x+y)-(x+y)+\\frac{(x+y)^2}{x-y}}{(x-y)^2} \\\\\n",
    "    &=\\frac{(x-y)^2+(x+y)^2}{(x-y)^3} \\\\\n",
    "    &=\\frac{2(x^2+y^2)}{(x-y)^3}\n",
    "\\end{aligned}$$"
   ]
  },
  {
   "cell_type": "markdown",
   "id": "f9d99d66",
   "metadata": {},
   "source": [
    "> 17. 设$y=f(x)$是单调函数且有三阶导数，$y'\\neq 0$，证明下列反函数的高阶导数公式：\n",
    "> $$(1):\\frac{\\text{d}^2x}{\\text{d}y^2}=-\\frac{y''}{(y')^3}$$\n",
    "> $$(2):\\frac{\\text{d}^3x}{\\text{d}y^3}=\\frac{3(y'')^2-y'y'''}{(y')^5}$$\n",
    "\n",
    "**思路：** 从$\\frac{\\text{d}x}{\\text{d}y}=\\frac{1}{y'}$开始，但需要注意到底对谁求导。\n",
    "\n",
    "**解答：** 由$\\frac{\\text{d}x}{\\text{d}y}=\\frac{1}{y'}$\n",
    "$$\\begin{aligned}\n",
    "    \\frac{\\text{d}^2x}{\\text{d}y^2}&=\\frac{\\text{d}}{\\text{d}x}(\\frac{\\text{d}x}{\\text{d}y})\\cdot\\frac{\\text{d}x}{\\text{d}y} \\\\\n",
    "    &=-\\frac{y''}{(y')^2}\\cdot\\frac{1}{y'} \\\\\n",
    "    &=-\\frac{y''}{(y')^3}\n",
    "\\end{aligned}$$\n",
    "类似地\n",
    "$$\\begin{aligned}\n",
    "    \\frac{\\text{d}^3x}{\\text{d}y^3}&=\\frac{\\text{d}}{\\text{d}x}(\\frac{\\text{d}^2x}{\\text{d}y^2})\\cdot\\frac{\\text{d}x}{\\text{d}y} \\\\\n",
    "    &=-\\frac{y'''(y')^3-3(y')^2(y'')^2}{(y')^6}\\cdot\\frac{1}{y'} \\\\\n",
    "    &=\\frac{3(y'')^2-y'y'''}{(y')^5}\n",
    "\\end{aligned}$$"
   ]
  },
  {
   "cell_type": "markdown",
   "id": "2ec30174",
   "metadata": {},
   "source": [
    "> 18. 求$y=\\arcsin x$在$x=0$处的$n$阶导数。\n",
    "\n",
    "**思路：** 求一次导后，考虑建立递推公式。\n",
    "\n",
    "**解答：** 显然$y=\\arcsin x$是奇函数，因此当$n$为偶数时，$y^{(n)}(0)=0$。现考虑$n$为奇数的情况。\n",
    "$$\\begin{aligned}\n",
    "    y'&=\\frac{1}{\\sqrt{1-x^2}} \\\\\n",
    "    (\\sqrt{1-x^2})y'&=1 \\\\\n",
    "    -\\frac{x}{\\sqrt{1-x^2}}y'+(\\sqrt{1-x^2})y''&=0 \\\\\n",
    "    (1-x^2)y''-xy'&=0 \\\\\n",
    "    (1-x^2)y^{(n+2)}-2nxy^{(n+1)}-2\\frac{n(n-1)}{2}y^{(n)}-xy^{(n+1)}-ny^{(n)}&=0 \\\\\n",
    "    (1-x^2)y^{(n+2)}-(2n+1)xy^{(n+1)}-n^2y^{(n)}&=0 \\\\\n",
    "    (1-x^2)y^{(n+2)}&=n^2y^{(n)} \\\\\n",
    "    y^{(n+2)}&=n^2y^{(n)}\n",
    "\\end{aligned}$$\n",
    "因此\n",
    "$$\\begin{aligned}\n",
    "    y'(0)&=1 \\\\\n",
    "    y'''(0)&=1^2\\cdot y'(0) \\\\\n",
    "    y^{(5)}(0)&=3^2\\cdot 1^2\\cdot y'(0) \\\\\n",
    "    \\vdots \\\\\n",
    "    y^{(n)}(0)&=(n-2)^2\\cdot(n-4)^2\\cdots 3^2\\cdot 1^2\\cdot y'(0) \\\\\n",
    "    &=[(n-2)!!]^2\n",
    "\\end{aligned}$$\n",
    "------"
   ]
  },
  {
   "cell_type": "markdown",
   "id": "e8a1d728",
   "metadata": {},
   "source": [
    "### 导函数的性质"
   ]
  },
  {
   "cell_type": "markdown",
   "id": "1ea0e0a1",
   "metadata": {},
   "source": [
    "> 19. 设函数$f(x)$在区间$I$上可导，且恒有$f'(x)\\neq 0$，证明：$(1)f'(x)$在区间$I$上恒大于零或恒小于零；$(2)$函数$f(x)$在区间$I$上是严格单调的。\n",
    "\n",
    "**思路：** 既然$f'(x)\\neq 0$了...\n",
    "\n",
    "**解答：** $(1)$用反证法，假设存在$a, b\\in I$，使得$f'(a)>0, f'(b)<0$，那么由导数的介值定理，存在$c\\in(a, b)$，使得$f'(c)=0$，引出矛盾。\n",
    "\n",
    "$(2)$是$(1)$的显然推论。"
   ]
  },
  {
   "cell_type": "markdown",
   "id": "dd26569e",
   "metadata": {},
   "source": [
    "> 20. 若$f(x)$在区间$I$上可导，证明：导函数$f'(x)$在$I$上没有第一类间断点(可去、跳跃)。\n",
    "\n",
    "**思路：** 用反证法，说明两种情况都不可能即可。\n",
    "\n",
    "**解答：** 设$x_0$是$f'(x)$在$I$上的第一类间断点，不妨设其不在端点上。用反证法，假设$x_0$是跳跃间断点，由导函数的极限定理，$f(x)$在$x_0$处存在左导数与右导数\n",
    "$$\\begin{aligned}\n",
    "    f'_+(x_0)&=\\lim_{\\Delta x\\to 0^+}\\frac{f(x+\\Delta x)-f(x)}{\\Delta x} \\\\\n",
    "    f'_-(x_0)&=\\lim_{\\Delta x\\to 0^-}\\frac{f(x+\\Delta x)-f(x)}{\\Delta x}\n",
    "\\end{aligned}$$\n",
    "且$f'_+(x_0)\\neq f'_-(x_0)$，那么$f(x)$在$x_0$处不可导，引出矛盾。若$x_0$是可去间断点，则$f'_+(x_0)=f'_-(x_0)=f'(x_0)$，即$f'(x)$在$x_0$处连续，矛盾！"
   ]
  },
  {
   "cell_type": "markdown",
   "id": "dc6f75e9",
   "metadata": {},
   "source": [
    "> 21. 设函数$f$具有连续二阶导数且$f(0)=0$。试证：由$g(0)=f'(0), g(x)=\\frac{f(x)}{x}(x\\neq 0)$，所定义的函数$g(x)$有一阶连续导数。\n",
    "\n",
    "**思路：** 看起来$x\\neq 0$时是显然的，但$x=0$时需要讨论。\n",
    "\n",
    "**解答：** 当$x\\neq 0$，直接计算得到\n",
    "$$g'(x)=\\frac{xf'(x)-f(x)}{x^2}$$\n",
    "这显然是连续的。当$x=0$时，先计算$g'(0)$\n",
    "$$\\begin{aligned}\n",
    "g'(0)&=\\lim_{x\\to 0}\\frac{g(x)-g(0)}{x-0} \\\\\n",
    "&=\\lim_{x\\to 0}\\frac{\\frac{f(x)}{x}-f'(0)}{x} \\\\\n",
    "&=\\lim_{x\\to 0}\\frac{f(x)-xf'(0)}{x^2} \\\\\n",
    "&=\\lim_{x\\to 0}\\frac{f'(x)-f'(0)}{2x} \\\\\n",
    "&=\\frac{1}{2}f''(0)\n",
    "\\end{aligned}$$\n",
    "再计算导函数在$x\\to 0$时的极限\n",
    "$$\\begin{aligned}\n",
    "    \\lim_{x\\to 0}g'(x)&=\\lim_{x\\to 0}\\frac{xf'(x)-f(x)}{x^2} \\\\\n",
    "    &=\\lim_{x\\to 0}\\frac{f'(x)+xf''(x)-f'(x)}{2x} \\\\\n",
    "    &=\\lim_{x\\to 0}\\frac{1}{2}f''(x) \\\\\n",
    "    &=\\frac{1}{2}f''(0)\n",
    "\\end{aligned}$$\n",
    "两者相等，因此$g(x)$有一阶连续导数。\n",
    "\n",
    "------"
   ]
  },
  {
   "cell_type": "markdown",
   "id": "3e2002a3",
   "metadata": {},
   "source": [
    "### 微分中值等式"
   ]
  },
  {
   "cell_type": "markdown",
   "id": "1d33103a",
   "metadata": {},
   "source": [
    "> 22. 设函数$f(x)$在闭区间$[0, 1]$上连续，在$(0, 1)$内可导，试证：存在$\\xi\\in(0, 1)$使得\n",
    "> $$\\frac{\\pi}{4}(1+\\xi^2)f(1)=f(\\xi)+(1+\\xi^2)\\arctan\\xi\\cdot f'(\\xi)$$\n",
    "\n",
    "**思路：** 还是经典的微分方程法。\n",
    "\n",
    "**解答：** 将$\\xi$换成$x$，$f(\\xi)$换成$y$，就有\n",
    "$$\\begin{aligned}\n",
    "    \\frac{\\pi}{4}(1+x^2)f(1)&=y+(1+x^2)\\arctan x\\cdot y' \\\\\n",
    "    y'+\\frac{1}{(1+x^2)\\arctan x}y&=\\frac{\\pi}{4\\arctan x}f(1) \\\\\n",
    "    y&=\\text{e}^{-\\ln\\arctan x}[\\frac{\\pi}{4}f(1)\\int\\frac{1}{\\arctan x}\\text{e}^{\\ln\\arctan x}\\text{d}x+C] \\\\\n",
    "    (\\arctan x)y&=\\frac{\\pi}{4}f(1)x+C \\\\\n",
    "    (\\arctan x)y-\\frac{\\pi}{4}f(1)x&=C\n",
    "\\end{aligned}$$\n",
    "构造$F(x)=(\\arctan x)f(x)-\\frac{\\pi}{4}f(1)x$，则$F(0)=F(1)=0$。那么，存在$\\xi$，使得\n",
    "$$\\begin{aligned}\n",
    "    F'(\\xi)&=\\frac{1}{1+\\xi^2}f(\\xi)+(\\arctan\\xi)f'(\\xi)-\\frac{\\pi}{4}f(1)=0 \\\\\n",
    "    \\frac{\\pi}{4}(1+\\xi^2)f(1)&=f(\\xi)+(1+\\xi^2)(\\arctan\\xi)f'(\\xi)\n",
    "\\end{aligned}$$"
   ]
  },
  {
   "cell_type": "markdown",
   "id": "a2cd3dac",
   "metadata": {},
   "source": [
    "> 23. 设函数$f(x)$在$[0, 1]$上二阶可导，$f(0)=f(1)$，求证：存在$\\xi\\in(0, 1)$，使得\n",
    "> $$2f'(\\xi)+(\\xi-1)f''(\\xi)=0$$\n",
    "\n",
    "**思路：** 仍然是微分方程法，但是不能简单地套公式了。\n",
    "\n",
    "**解答：** 将$\\xi$换成$x$，$f(\\xi)$换成$y$，就有\n",
    "$$2y'+(x-1)y''=0$$\n",
    "此时令$p=y'$，就有\n",
    "$$\\begin{aligned}\n",
    "    2p+(x-1)p'&=0 \\\\\n",
    "    (x-1)\\frac{\\text{d}p}{\\text{d}x}&=-2p \\\\\n",
    "    \\frac{\\text{d}p}{p}&=-\\frac{2}{x-1}\\text{d}x \\\\\n",
    "    p&=\\frac{C}{(x-1)^2}\n",
    "\\end{aligned}$$\n",
    "于是可以设$F(x)=(x-1)^2f'(x)$。由$f(0)=f(1)$，可知存在$\\eta\\in(0, 1)$，使得$f'(\\eta)=0$。于是$F(\\eta)=F(1)=0$，存在$\\xi\\in(\\eta, 1)$，使得\n",
    "$$\\begin{aligned}\n",
    "    2(\\xi-1)f'(\\xi)+(\\xi-1)^2f''(\\xi)&=0 \\\\\n",
    "    2f'(\\xi)+(\\xi-1)f''(\\xi)&=0\n",
    "\\end{aligned}$$"
   ]
  },
  {
   "cell_type": "markdown",
   "id": "8203f500",
   "metadata": {},
   "source": [
    "> 24. 设$f(x)$在闭区间$[0, 1]$上连续，在开区间$(0, 1)$内可导，$f(0)=0$，且当$x\\neq 0$时$f(x)\\neq 0$。证明：存在$\\xi\\in(0, 1)$使得$$\\frac{f'(\\xi)}{f(\\xi)}=\\frac{2f'(1-\\xi)}{f(1-\\xi)}$$。\n",
    "\n",
    "**思路：** 辅助函数应该和$f(x), f(1-x)$有关，具体情况先看看题目的等式怎么化简。\n",
    "\n",
    "**解答：** 交叉相乘得到\n",
    "$$\\begin{aligned}\n",
    "    f'(\\xi)f(1-\\xi)-2f'(1-\\xi)f(\\xi)&=0 \\\\\n",
    "    f'(\\xi)f^2(1-\\xi)-2f(1-\\xi)f'(1-\\xi)f(\\xi)&=0 \\\\\n",
    "    (f(\\xi)f^2(1-\\xi))'&=0\n",
    "\\end{aligned}$$\n",
    "令$F(x)=f(x)f^2(1-x)$，可知$f(0)=f(1)=0$，于是存在$\\xi\\in(0, 1)$使得题目等式成立。"
   ]
  },
  {
   "cell_type": "markdown",
   "id": "7074fa04",
   "metadata": {},
   "source": [
    "> 25. 设$f(x)$在$[-2, 2]$上二阶可导，且$|f(x)|\\le 1$。又$f^2(0)+[f'(0)]^2=4$。试证：在$(-2, 2)$内至少存在一点$\\xi$，使得$f(\\xi)+f''(\\xi)=0$。\n",
    "\n",
    "**思路：** 先试试取辅助函数为$F(x)=f^2(x)+[f'(x)]^2$。\n",
    "\n",
    "**解答：** 取辅助函数如下\n",
    "$$\\begin{aligned}\n",
    "    F(x)&=f^2(x)+[f'(x)]^2 \\\\\n",
    "    F'(x)&=2f'(x)[f(x)+f''(x)]\n",
    "\\end{aligned}$$\n",
    "考虑$F(x)$在$(-2, 2)$中的一个极大值点$\\xi$，则$F'(\\xi)=0$。现在要证明$f(\\xi)+f''(\\xi)=0$，就要证明$f'(\\xi)\\neq 0$。但这是显然的，因为$|f(\\xi)|\\le 1, F(\\xi)\\ge 4$，因此$|f'(\\xi)|\\neq 0$。"
   ]
  },
  {
   "cell_type": "markdown",
   "id": "65d0fdd1",
   "metadata": {},
   "source": [
    "> 26. 设$y=f(x)$在$[a, b]$上二阶可导，$f(a)=f(b)=0, f'_+(a)f'_-(b)>0$。证明：存在一点$\\xi\\in(a, b)$，使得$f''(\\xi)=0$。\n",
    "\n",
    "**思路：** 这需要一点几何直观，多用罗尔定理，总会出来的。\n",
    "\n",
    "**解答1:** 不妨设$f'_+(a)$与$f'_-(b)$均大于0。由导数的定义，在$a$的右邻域内存在一点$c$，使得$f(c)>0$。同理，在$b$的左邻域内存在一点$d$，使得$f(d)<0$。由介值定理，存在一点$e\\in(c, d)$，使得$f(e)=0$。因此，由罗尔定理，存在$\\xi_1\\in(a, e), \\xi_2\\in(e, b)$，使得$f'(\\xi_1)=f'(\\xi_2)=0$。再次使用罗尔定理，存在一点$\\xi\\in(\\xi_1, \\xi_2)\\subset(a, b)$，使得$f''(\\xi)=0$。\n",
    "\n",
    "**解答2:** 仍然设$f'_+(a)$与$f'_-(b)$均大于0。假设$\\forall x\\in(a, b), f'(x)\\ge 0$，则必有$f(x)\\equiv 0$，但这就与$f'_+(a)>0$矛盾。因此必有点$c\\in(a, b)$，使得$f'(c)<0$。此时由导函数的介值定理，存在$\\xi_1\\in(a, c), \\xi_2\\in(c, b)$，使得$f'(\\xi_1)=f'(\\xi_2)=0$。此时使用罗尔定理，存在一点$\\xi\\in(\\xi_1, \\xi_2)\\subset(a, b)$，使得$f''(\\xi)=0$。"
   ]
  },
  {
   "cell_type": "markdown",
   "id": "e9cd0c20",
   "metadata": {},
   "source": [
    "> 27. 证明无穷区间上的罗尔定理：$(1)$设$f(x)$在$[a, +\\infty)$上连续，在$(a, +\\infty)$内可导且$f(a)=\\lim_{x\\to +\\infty}f(x)$。证明：存在$\\xi\\in(a, +\\infty)$使得$f'(\\xi)=0$；$(2)$设$f(x)$在$(-\\infty, a]$上连续，在$(-\\infty, a)$内可导且$f(a)=\\lim_{x\\to -\\infty}f(x)$。证明：存在$\\xi\\in(-\\infty, a)$使得$f'(\\xi)=0$；$(3)$设$f(x)$在$(-\\infty, +\\infty)$上可导且存在极限$\\lim_{x\\to\\infty}f(x)=k$，证明：存在$\\xi\\in(-\\infty, +\\infty)$使得$f'(\\xi)=0$。\n",
    "\n",
    "**思路：** 能不能利用有限区间的罗尔定理？用什么参数变换可以达成这个目标呢？\n",
    "\n",
    "**解答：** 令$g(x)=f(\\tan x)$，依次证明三个情况。\n",
    "\n",
    "$(1)$ 在区间$[\\arctan a, \\frac{\\pi}{2}]$上定义函数\n",
    "$$F(x)=\\begin{cases}\n",
    "    f(\\tan x),&x\\in[\\arctan a, \\frac{\\pi}{2}) \\\\\n",
    "    f(a),&x=\\frac{\\pi}{2}\n",
    "\\end{cases}$$\n",
    "则$F(x)$在$[\\arctan a, \\frac{\\pi}{2}]$上连续，在$(\\arctan a, \\frac{\\pi}{2})$内可导且$F(a)=F(\\frac{\\pi}{2})$。由罗尔定理可知，存在$\\eta\\in(\\arctan a, \\frac{\\pi}{2})$，使得$F'(\\eta)=f'(\\tan\\eta)\\sec^2\\eta=0$，因为$\\sec^2\\eta\\neq 0$，所以$f'(\\tan\\eta)=0$，此时$\\xi=\\tan\\eta\\in(a, +\\infty)$。\n",
    "\n",
    "$(2)$ 与$(1)$类似，在区间$[-\\frac{\\pi}{2}, \\arctan a]$上定义函数\n",
    "$$F(x)=\\begin{cases}\n",
    "    f(\\tan x),&x\\in(-\\frac{\\pi}{2}, \\arctan a] \\\\\n",
    "    f(a),&x=-\\frac{\\pi}{2}\n",
    "\\end{cases}$$\n",
    "则$F(x)$在$[-\\frac{\\pi}{2}, \\arctan a]$上连续，在$(-\\frac{\\pi}{2}, \\arctan a)$内可导且$F(a)=F(-\\frac{\\pi}{2})$。由罗尔定理可知，存在$\\eta\\in(-\\frac{\\pi}{2}, \\arctan a)$，使得$F'(\\eta)=f'(\\tan\\eta)\\sec^2\\eta=0$，因为$\\sec^2\\eta\\neq 0$，所以$f'(\\tan\\eta)=0$，此时$\\xi=\\tan\\eta\\in(a, +\\infty)$。\n",
    "\n",
    "$(3)$ 在区间$[-\\frac{\\pi}{2}, \\frac{\\pi}{2}]$上定义函数\n",
    "$$F(x)=\\begin{cases}\n",
    "    f(\\tan x),&x\\in(-\\frac{\\pi}{2}, \\frac{\\pi}{2}) \\\\\n",
    "    k,&x=\\pm\\frac{\\pi}{2}\n",
    "\\end{cases}$$\n",
    "则$F(x)$在$[-\\frac{\\pi}{2}, \\frac{\\pi}{2}]$上连续，在$(-\\frac{\\pi}{2}, \\frac{\\pi}{2})$内可导且$F(-\\frac{\\pi}{2})=F(\\frac{\\pi}{2})=k$。由罗尔定理可知，存在$\\eta\\in(-\\frac{\\pi}{2}, \\frac{\\pi}{2})$，使得$F'(\\eta)=f'(\\tan\\eta)\\sec^2\\eta=0$，因为$\\sec^2\\eta\\neq 0$，所以$f'(\\tan\\eta)=0$，此时$\\xi=\\tan\\eta\\in(-\\infty, +\\infty)$。"
   ]
  },
  {
   "cell_type": "markdown",
   "id": "fc8ee314",
   "metadata": {},
   "source": [
    "> 28. 设$f(x)$在$[0, +\\infty)$上有连续的导数，$f(0)=1$，且对一切$x\\ge 0$有$|f(x)|\\le \\text{e}^{-x}$。试证：存在$\\xi\\in(0, +\\infty)$使得$f'(\\xi)=-\\text{e}^{-\\xi}$。\n",
    "\n",
    "**思路：** 新的题型出现了！但看形式还是非常像罗尔定理的，因为$\\lim_{x\\to+\\infty}\\text{e}^{-x}=0$\n",
    "\n",
    "**解答：** 定义$F(x)=f(x)-\\text{e}^{-x}$，则易知$F(0)=0$，且因为$|f(x)|\\le \\text{e}^{-x}$与$\\lim_{x\\to+\\infty}\\text{e}^{-x}=0$，所以$\\lim_{x\\to+\\infty}F(x)=0$。由无穷区间上的罗尔定理，存在$\\xi\\in(0, +\\infty)$使得$F'(\\xi)=0$，即$f'(\\xi)=-\\text{e}^{-\\xi}$。"
   ]
  },
  {
   "cell_type": "markdown",
   "id": "a1e5b158",
   "metadata": {},
   "source": [
    "> 29. 设$f(x), g(x), h(x)$在$[a, b]$上连续，在$(a, b)$内可导。证明：\n",
    "> \n",
    "> $(1)$存在$\\xi\\in(a, b)$使得\n",
    "> $$\\begin{vmatrix}\n",
    "    f(a) & f'(\\xi) \\\\\n",
    "    g(a) & g'(\\xi)\n",
    "\\end{vmatrix}=\\frac{1}{b-a}\\begin{vmatrix}\n",
    "    f(a) & f(b) \\\\\n",
    "    g(a) & g(b)\n",
    "\\end{vmatrix}$$\n",
    "> $(2)$存在$\\xi\\in(a, b)$使得\n",
    "> $$\\begin{vmatrix}\n",
    "    f(a) & f(b) & f'(\\xi) \\\\\n",
    "    g(a) & g(b) & g'(\\xi) \\\\\n",
    "    h(a) & h(b) & h'(\\xi) \\\\\n",
    "\\end{vmatrix}=0$$\n",
    "\n",
    "**思路：** 看到$\\frac{1}{b-a}$就要多加注意，因为这是拉格朗日中值定理具有的形式。\n",
    "\n",
    "**解答：** $(1)$令\n",
    "$$F(x)=\\begin{vmatrix}\n",
    "    f(a) & f(x) \\\\\n",
    "    g(a) & g(x)\n",
    "\\end{vmatrix}$$\n",
    "则$F(x)$在$[a, b]$上连续，在$(a, b)$内可导。由拉格朗日中值定理，存在$\\xi\\in(a, b)$使得\n",
    "$$\\begin{aligned}\n",
    "    F'(\\xi)&=\\frac{F(b)-F(a)}{b-a} \\\\\n",
    "    \\begin{vmatrix}\n",
    "        f'(a) & f(\\xi) \\\\\n",
    "        g'(a) & g(\\xi)\n",
    "    \\end{vmatrix} + \\begin{vmatrix}\n",
    "        f(a) & f'(\\xi) \\\\\n",
    "        g(a) & g'(\\xi)\n",
    "    \\end{vmatrix}&=\\frac{F(b)-F(a)}{b-a} \\\\\n",
    "    \\begin{vmatrix}\n",
    "        f'(a) & f(\\xi) \\\\\n",
    "        g'(a) & g(\\xi)\n",
    "    \\end{vmatrix}&=\\frac{1}{b-a}\\begin{vmatrix}\n",
    "        f(a) & f(b) \\\\\n",
    "        g(a) & g(b)\n",
    "    \\end{vmatrix}\n",
    "\\end{aligned}$$\n",
    "过程中有\n",
    "$$\\begin{aligned}\n",
    "    \\begin{vmatrix}\n",
    "        f'(a) & f(\\xi) \\\\\n",
    "        g'(a) & g(\\xi)\n",
    "    \\end{vmatrix}=\\begin{vmatrix}\n",
    "        0 & f(\\xi) \\\\\n",
    "        0 & g(\\xi)\n",
    "    \\end{vmatrix}&=0 \\\\\n",
    "    F(a)=\\begin{vmatrix}\n",
    "        f(a) & f(a) \\\\\n",
    "        g(a) & g(a)\n",
    "    \\end{vmatrix}&=0\n",
    "\\end{aligned}$$\n",
    "\n",
    "$(2)$令\n",
    "$$F(x)=\\begin{vmatrix}\n",
    "    f(a) & f(b) & f(x) \\\\\n",
    "    g(a) & g(b) & g(x) \\\\\n",
    "    h(a) & h(b) & h(x)\n",
    "\\end{vmatrix}$$\n",
    "则$F(x)$在$[a, b]$上连续，在$(a, b)$内可导，且$F(a)=F(b)=0$。由罗尔定理，存在$\\xi\\in(a, b)$使得\n",
    "$$F'(\\xi)=\\begin{vmatrix}\n",
    "    f(a) & f(b) & f'(\\xi) \\\\\n",
    "    g(a) & g(b) & g'(\\xi) \\\\\n",
    "    h(a) & h(b) & h'(\\xi) \\\\\n",
    "\\end{vmatrix}=0$$"
   ]
  },
  {
   "cell_type": "markdown",
   "id": "26c41252",
   "metadata": {},
   "source": [
    "> 30. 已知函数$f(x)$在区间$[0, 1]$上连续，在$(0, 1)$内可导，且$f(0)=0, f(1)=1$。证明：存在两个不同的$\\eta, \\xi\\in(0, 1)$使得$f'(\\xi)f'(\\eta)=1$。\n",
    "\n",
    "**思路：** 这就是“多中值等式问题”，通常考虑使用拉格朗日中值定理解决。\n",
    "\n",
    "**解答：** 我们先根据结论试探一下。\n",
    "$$\\begin{aligned}\n",
    "    f'(\\xi)&=\\frac{1}{f'(\\eta)} \\\\\n",
    "    \\frac{f(c)-f(0)}{c-0}&=\\frac{1-c}{f(1)-f(c)} \\\\\n",
    "    \\frac{f(c)}{c}&=\\frac{1-c}{1-f(c)}\n",
    "\\end{aligned}$$\n",
    "其中$c\\in(0, 1)$，这时要么$f(c)=c$，要么$f(c)=1-c$。如果是前者的话，构造$F(x)=f(x)-x$，则只能得到$F(0)=F(1)=0$，无法得到$F(c)=0$。因此，令$F(x)=f(x)+x-1$，此时$F(0)=-1<0, F(1)=1>0$，于是存在$c$，使得$F(c)=0$，即$f(c)=1-c$。此时存在$\\xi\\in(0, c), \\eta\\in(c, 1)$，使得\n",
    "$$\\begin{aligned}\n",
    "    f'(\\xi)&=\\frac{f(c)-f(0)}{c-0}=\\frac{1-c}{c} \\\\\n",
    "    f'(\\eta)&=\\frac{f(1)-f(c)}{1-c}=\\frac{c}{1-c}\n",
    "\\end{aligned}$$\n",
    "于是$f'(\\xi)f'(\\eta)=1$。"
   ]
  },
  {
   "cell_type": "markdown",
   "id": "cd8b82d4",
   "metadata": {},
   "source": [
    "> 31. 设$f(x)$在$[0, 1]$上连续，在$(0, 1)$内可导，$f(0)=0, f(1)=1$，$a, b$为正数。证明：\n",
    ">\n",
    "> $(1)$存在$\\xi, \\eta$，$0<\\xi<\\eta<1$，使得$\\frac{a}{f'(\\xi)}+\\frac{b}{f'(\\eta)}=a+b$；\n",
    ">\n",
    "> $(2)$存在$\\xi, \\eta$，$0<\\xi<\\eta<1$，使得$af'(\\xi)+bf'(\\eta)=a+b$；\n",
    "\n",
    "**思路：** 继续按拉格朗日中值定理的方向进行试探。\n",
    "\n",
    "**解答：** $(1)$根据结论我们有\n",
    "$$\\begin{aligned}\n",
    "    \\frac{a}{a+b}\\cdot\\frac{1}{f'(\\xi)}+\\frac{b}{a+b}\\cdot\\frac{1}{f'(\\eta)}&=1 \\\\\n",
    "    \\frac{a}{a+b}\\cdot\\frac{c-0}{f(c)-f(0)}+\\frac{b}{a+b}\\cdot\\frac{1-c}{f(1)-f(c)}&=1 \\\\\n",
    "    \\lambda\\cdot\\frac{c}{f(c)}+(1-\\lambda)\\cdot\\frac{1-c}{1-f(c)}&=1\n",
    "\\end{aligned}$$\n",
    "其中$\\lambda=\\frac{a}{a+b}$，因此$0<\\lambda<1$，由介值定理，必有$c\\in(0, 1)$使得$f(c)=\\lambda$，故只需取$\\xi\\in(0, \\lambda), \\eta\\in(\\lambda, 1)$就可令上式成立。\n",
    "\n",
    "$(2)$根据结论我们有\n",
    "$$\\begin{aligned}\n",
    "    \\lambda f'(\\xi)+(1-\\lambda)f'(\\eta)&=1 \\\\\n",
    "    \\lambda\\cdot\\frac{f(\\lambda)-f(0)}{\\lambda-0}+(1-\\lambda)\\cdot\\frac{f(1)-f(\\lambda)}{1-\\lambda}&=1\n",
    "\\end{aligned}$$\n",
    "其中$\\lambda=\\frac{a}{a+b}$。因为$f(1)-f(0)=1$，所以这是符合预期的。只需取$\\xi\\in(0, \\lambda), \\eta\\in(\\lambda, 1)$即可。"
   ]
  },
  {
   "cell_type": "markdown",
   "id": "6236f451",
   "metadata": {},
   "source": [
    "> 32. 设$f(x)$在$[a, b]$上连续，在$(a, b)$内可导，且$f(a)=f(b)=1$。证明：存在$\\xi, \\eta\\in(a, b)$，使得$\\text{e}^{\\eta-\\xi}(f(\\eta)+f'(\\eta))=1$。\n",
    "\n",
    "**思路：** 先对题目中的式子进行变形，看看有没有什么常见的形式。\n",
    "\n",
    "**解答：** 结论等价于\n",
    "$$\\text{e}^{\\eta}(f(\\eta)+f'(\\eta))=\\text{e}^{\\xi}$$\n",
    "左边形式就很常见了，直接设$F(x)=\\text{e}^xf(x)$，则$F(x)$在$[a, b]$上连续，在$(a, b)$内可导。由拉格朗日中值定理，存在$\\eta\\in(a, b)$使得\n",
    "$$\\begin{aligned}\n",
    "    F'(\\eta)&=\\frac{F(b)-F(a)}{b-a} \\\\\n",
    "    \\text{e}^{\\eta}(f(\\eta)+f'(\\eta))&=\\frac{\\text{e}^b-\\text{e}^a}{b-a}\n",
    "\\end{aligned}$$\n",
    "但注意观察右边的形式，令$g(x)=\\text{e}^x$，则$g(x)$在$[a, b]$上连续，在$(a, b)$内可导，因此又由拉格朗日中值定理，存在$\\xi\\in(a, b)$使得\n",
    "$$g'(\\xi)=\\text{e}^{\\xi}=\\frac{\\text{e}^b-\\text{e}^a}{b-a}$$\n",
    "因此就有\n",
    "$$\\begin{aligned}\n",
    "    \\text{e}^{\\eta}(f(\\eta)+f'(\\eta))&=\\text{e}^{\\xi} \\\\\n",
    "    \\text{e}^{\\eta-\\xi}(f(\\eta)+f'(\\eta))&=1\n",
    "\\end{aligned}$$"
   ]
  },
  {
   "cell_type": "markdown",
   "id": "39531a27",
   "metadata": {},
   "source": [
    "[Go to next chapter](2.2.ipynb)"
   ]
  },
  {
   "cell_type": "markdown",
   "id": "5a5995fd",
   "metadata": {},
   "source": [
    "[Go to next exercise](2.2Exercise.ipynb)"
   ]
  }
 ],
 "metadata": {
  "kernelspec": {
   "display_name": "venv",
   "language": "python",
   "name": "python3"
  },
  "language_info": {
   "codemirror_mode": {
    "name": "ipython",
    "version": 3
   },
   "file_extension": ".py",
   "mimetype": "text/x-python",
   "name": "python",
   "nbconvert_exporter": "python",
   "pygments_lexer": "ipython3",
   "version": "3.12.7"
  }
 },
 "nbformat": 4,
 "nbformat_minor": 5
}
