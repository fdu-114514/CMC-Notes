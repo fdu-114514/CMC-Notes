{
 "cells": [
  {
   "cell_type": "markdown",
   "id": "a6e461fa",
   "metadata": {},
   "source": [
    "## 1.2的练习"
   ]
  },
  {
   "cell_type": "code",
   "execution_count": 9,
   "id": "1849b4d4",
   "metadata": {},
   "outputs": [],
   "source": [
    "import numpy as np\n",
    "import matplotlib.pyplot as plt"
   ]
  },
  {
   "cell_type": "markdown",
   "id": "fd7b39e1",
   "metadata": {},
   "source": [
    "### 介值定理、零点定理与连续性\n",
    "\n",
    "> 1. 求下列函数的间断点，并指出间断点的类型：\n",
    "> $$f(x)=\\arctan\\frac{\\sin x}{x^2-x}$$\n",
    "\n",
    "**思路：** 回顾不同间断点类型的定义：\n",
    "- 可去间断点：$\\lim_{x\\to x_0}f(x)$存在。\n",
    "- 跳跃间断点：$\\lim_{x\\to x_0^-}f(x)$和$\\lim_{x\\to x_0+}f(x)$都存在但不相等。\n",
    "- 无穷间断点：$\\lim_{x\\to x_0}f(x)=\\infty$。\n",
    "\n",
    "其中可去间断点和跳跃间断点称为第一类间断点，除此之外的间断点称为第二类间断点。实际做题中，一般只需要盯着分母的零点看就行。\n",
    "\n",
    "**解答：** 分母的零点是$x=0, 1$。当$x=0$时\n",
    "$$\\lim_{x\\to 0}\\arctan\\frac{\\sin x}{x^2-x}=\\arctan\\lim_{x\\to 0}\\frac{\\sin x}{x(x-1)}=\\arctan -1=-\\frac{\\pi}{4}$$\n",
    "因此$x=0$是可去间断点。当$x=1$时，\n",
    "$$\\lim_{x\\to 1^-}\\arctan\\frac{\\sin x}{x^2-x}=\\arctan\\lim_{x\\to 1^-}\\frac{\\sin x}{x(x-1)}=-\\frac{\\pi}{2}$$\n",
    "$$\\lim_{x\\to 1^+}\\arctan\\frac{\\sin x}{x^2-x}=\\arctan\\lim_{x\\to 1^+}\\frac{\\sin x}{x(x-1)}=\\frac{\\pi}{2}$$\n",
    "因此$x=1$是跳跃间断点。"
   ]
  },
  {
   "cell_type": "markdown",
   "id": "eb4a8013",
   "metadata": {},
   "source": [
    "> 2. 证明下列结论：$(1)$设$f(x)$在$[a, b]$上连续，对于$a<x_1<x_2<b$以及$t_1, t_2>0$，存在$c\\in[a, b]$，使得$t_1f(x_1)+t_2f(x_2)=(t_1+t_2)f(c)$；$(2)$方程$\\frac{5}{x-1}+\\frac{7}{x-2}+\\frac{16}{x-3}=0$在$1, 3$之间至少存在两个根。\n",
    "\n",
    "**思路：** 对于第一个问题，由于是闭区间上的连续函数，因此可以用最值定理。第二个问题则很可能是通分后应用零点定理。\n",
    "\n",
    "**解答：** $(1)$即证：\n",
    "$$\\frac{t_1}{t_1+t_2}f(x_1)+\\frac{t_2}{t_1+t_2}f(x_2)=f(c)$$\n",
    "设$f(x)$在$[a, b]$上的最小值和最大值分别为$m, M$，容易看出等式左边值也属于$m, M$之间。由介值定理，存在$c\\in[a, b]$，使得等式成立。\n",
    "\n",
    "$(2)$ 对方程进行通分可以得到\n",
    "$$g(x)=\\frac{f(x)}{(x-1)(x-2)(x-3)}=0$$\n",
    "其中\n",
    "$$f(x)=5(x-2)(x-3)+7(x-1)(x-3)+16(x-1)(x-2)$$\n",
    "容易看出\n",
    "$$\\lim_{x\\to 1}g(x)=+\\infty, \\lim_{x\\to 2}g(x)=-\\infty, \\lim_{x\\to 3}g(x)=+\\infty$$\n",
    "由零点定理，存在$x_1\\in(1, 2)$和$x_2\\in(2, 3)$，使得$g(x_1)=g(x_2)=0$"
   ]
  },
  {
   "cell_type": "code",
   "execution_count": 10,
   "id": "09c23d83",
   "metadata": {},
   "outputs": [
    {
     "data": {
      "image/png": "[encoded data removed]",
      "text/plain": [
       "<Figure size 640x480 with 1 Axes>"
      ]
     },
     "metadata": {},
     "output_type": "display_data"
    }
   ],
   "source": [
    "%matplotlib inline\n",
    "x = np.linspace(0, 4, 4000)\n",
    "y = 5/(x-1)+7/(x-2)+16/(x-3)\n",
    "plt.plot(x, y, label='f(x)', color='red', linewidth=2)\n",
    "plt.xlabel('x', fontsize=15)\n",
    "plt.ylabel('y', fontsize=15)\n",
    "plt.ylim(-5, 5)\n",
    "plt.legend()\n",
    "plt.show()"
   ]
  },
  {
   "cell_type": "markdown",
   "id": "bae6810e",
   "metadata": {},
   "source": [
    "> 3. 设$f(x)$在闭区间$[0, 1]$上连续，$f(0)=f(1)$。证明：对于任何自然数$n$，总存在$\\xi_n\\in(0,1)$使得$f(\\xi_n)=f(\\frac{1}{n}+\\xi_n)$\n",
    "\n",
    "**思路：** 看到这种形式，马上作$F(x)=f(x)-f(\\frac{1}{n}+x)$。现在要证明在区间$[0, 1-\\frac{1}{n}]$，$F(x)$有零点，那不如使用反证法。\n",
    "\n",
    "**解答：** 设$F(x)=f(x)-f(\\frac{1}{n}+x)$，即证在区间$[0, 1-\\frac{1}{n}]$，$F(x)$有零点。用反证法，假设结论不成立，则在$[0, 1-\\frac{1}{n}]$上$F(x)\\neq 0$，不妨设$F(x)>0$，那么我们有\n",
    "$$F(0)+F(\\frac{1}{n})+\\cdots+F(\\frac{n-1}{n})>0$$\n",
    "但另一方面\n",
    "$$F(0)+F(\\frac{1}{n})+\\cdots+F(\\frac{n-1}{n})=(f(0)-f(\\frac{1}{n}))+(f(\\frac{1}{n})-f(\\frac{2}{n}))+\\cdots+(f(\\frac{n-1}{n})-f(1))=f(0)-f(1)=0$$\n",
    "从而引出矛盾，因此结论成立。$F(x)<0$的情况可类似证明。"
   ]
  },
  {
   "cell_type": "markdown",
   "id": "fb208039",
   "metadata": {},
   "source": [
    "> 4. 设$f(x), g(x)$在闭区间$[a, b]$上连续，并有数列$\\{x_n\\}\\subset[a, b]$，使得$f(x_{n+1})=g(x_n)(n=1, 2, \\cdots)$。证明：存在一点$x_0$，使得$f(x_0)=g(x_0)$。\n",
    "\n",
    "**思路：** 看到存在一点就想到反证法，但具体怎么做就要写出来才知道了。\n",
    "\n",
    "**解答：** 设$F(x)=f(x)-g(x)$，则$F(x)$在闭区间$[a, b]$上连续。用反证法，假设结论不成立，不妨设在闭区间$[a, b]$上$F(x)>0$。根据递推关系\n",
    "$$f(x_{n+1})=g(x_n)=g(x_n)+f(x_n)-g(x_{n-1})=\\cdots=\\sum_{k=2}^n f(x_k)+g(x_n)-\\sum_{k=1}^{n-1} g(x_k)=f(x_n)+g(x_n)-g(x_1)+\\sum_{k=2}^{n-1}(f(x_k)-g(x_k))$$\n",
    "因此\n",
    "$$g(x_1)-f(x_n)=\\sum_{k=2}^{n-1}F(x_k)$$\n",
    "令$n\\to\\infty$，我们得到\n",
    "$$g(x_1)-\\lim_{n\\to\\infty}f(x_n)=\\sum_{k=2}^{\\infty}F(x_k)=+\\infty$$\n",
    "这和$f(x), g(x)$的有界性矛盾！"
   ]
  },
  {
   "cell_type": "markdown",
   "id": "22260911",
   "metadata": {},
   "source": [
    "> 5. 设函数$f(x)$在区间$(0, 1)$内有定义，且$\\text{e}^xf(x)$与$\\text{e}^{-f(x)}$在区间$(0, 1)$内都是单调增加函数。证明$f(x)$在$(0, 1)$内连续。\n",
    "\n",
    "**思路：** 题目中给出了两个单调增加的函数，或许充分利用之即可得到证明。\n",
    "\n",
    "**解答：** 任取$x_0\\in(0, 1), x\\in(x_0, 1)$，由$\\text{e}^xf(x)$单调增加可知$\\text{e}^{x_0}f(x_0)\\le \\text{e}^xf(x)$，即$\\text{e}^{x_0-x}f(x_0)\\le f(x)$。由$\\text{e}^{-f(x)}$单调增加可知$\\text{e}^{-f(x_0)}\\le \\text{e}^{-f(x)}$且$f(x)$单调减少。于是\n",
    "$$\\text{e}^{x_0-x}f(x_0)\\le f(x)\\le f(x_0)$$\n",
    "由夹逼准则\n",
    "$$\\lim_{x\\to x_0^+}f(x)=f(x_0)$$\n",
    "同理，当$x\\in (0, x_0)$时，可以证明\n",
    "$$\\lim_{x\\to x_0^-}f(x)=f(x_0)$$\n",
    "由$x_0$的任意性，此即$f(x)$在$(0, 1)$内连续。"
   ]
  },
  {
   "cell_type": "markdown",
   "id": "a17ca78c",
   "metadata": {},
   "source": [
    "### 函数方程与连续性\n",
    "\n",
    "> 6. 设$f(x)$在$(-\\infty, +\\infty)$有定义，在$x=0$处连续且$f(0)=2$。证明：恒等式$f(2x)=f(x)e^x$的充要条件是$f(x)=2\\text{e}^x$。\n",
    "\n",
    "**思路：** 充分性是显然的，但还是要说明一下。必要性的证明尽量往题目给的$f(0)=2$上靠。\n",
    "\n",
    "**解答：** `充分性`\n",
    "$$f(2x)=2\\text{e}^{2x}=2\\text{e}^x\\cdot \\text{e}^x=f(x)\\text{e}^x$$\n",
    "`必要性`：由题设，对任意$x\\in\\mathbb{R}$，我们有\n",
    "$$f(x)=\\text{e}^{\\frac{x}{2}}f(\\frac{x}{2})=\\text{e}^{\\frac{x}{2}}\\cdot \\text{e}^{\\frac{x}{4}}f(\\frac{x}{4})=\\cdots=\\text{e}^{\\frac{x}{2}}\\cdot \\text{e}^{\\frac{x}{4}}\\cdots \\text{e}^{\\frac{x}{2^n}}f(\\frac{x}{2^n})$$\n",
    "由连续性，两边取$n\\to\\infty$的极限，就有\n",
    "$$f(x)=\\text{e}^{\\lim_{x\\to\\infty}x\\sum_{k=1}^n 2^{-n}}f(\\lim_{n\\to\\infty} \\frac{x}{2^n})=\\text{e}^x\\cdot 2=2\\text{e}^x$$"
   ]
  },
  {
   "cell_type": "markdown",
   "id": "a11f5ff5",
   "metadata": {},
   "source": [
    "> 7. 设有一非负连续函数，对于所有的实数$x$和$y$满足函数方程$f(\\sqrt{x^2+y^2})=f(x)f(y)$及$f(1)=2$，证明：$f(x)=2^{x^2}$\n",
    "\n",
    "**思路：** 先将$x=1$代进去肯定没错，至于后面怎么办，令$y=\\sqrt{n}x$可能是一个好办法。\n",
    "\n",
    "**解答：** 令$y=1$，我们有\n",
    "$$f(\\sqrt{x^2+1})=f(x)f(1)=f(-x)f(1)$$\n",
    "因此$f(x)=f(-x)=f(|x|)$。下证$f(\\sqrt{n}x)=[f(x)]^n$对任何正整数$n$成立。用数学归纳法，$n=1$时显然成立，设$n=k$时结论成立，即\n",
    "$$f(\\sqrt{k}x)=[f(x)]^k$$\n",
    "则当$n=k+1$时，只需在上述方程中取$y=\\sqrt{k}x$，就有\n",
    "$$f(\\sqrt{k+1}x)=f(\\sqrt{x^2+kx^2})=f(x)f(\\sqrt{k}x)=[f(x)]^{k+1}$$\n",
    "因此结论对所有正整数成立。又因为$f(-x)=f(x)$，因此结论也对所有负整数成立。设$p, q$为整数，$q\\neq 0$，则\n",
    "$$f(p)=f(|p|)=f(\\sqrt{p^2}\\cdot 1)=f(1)^{p^2}=2^{p^2}$$\n",
    "$$f(|p|)=f(|\\frac{p}{q}|\\cdot \\sqrt{q^2})=(f(|\\frac{p}{q}|))^{q^2}=2^{p^2}$$\n",
    "因此\n",
    "$$f(|\\frac{p}{q}|)=2^{(\\frac{p}{q})^2}$$\n",
    "即结论对所有有理数成立，对于任意无理数$x$，可找到一列有理数列$\\{r_n\\}$，使得$\\lim_{n\\to\\infty}r_n=x$，从而\n",
    "$$f(x)=f(\\lim_{n\\to\\infty}r_n)=\\lim_{n\\to\\infty}f(r_n)=\\lim_{n\\to\\infty}2^{r_n^2}=2^{\\lim_{n\\to\\infty}r_n^2}=2^{x^2}$$\n",
    "这就完成了对于所有实数的证明。"
   ]
  },
  {
   "cell_type": "markdown",
   "id": "4e94224c",
   "metadata": {},
   "source": [
    "[Go to next chapter](2.1.ipynb)"
   ]
  },
  {
   "cell_type": "markdown",
   "id": "82529493",
   "metadata": {},
   "source": [
    "[Go to next exercise](2.1Exercise.ipynb)"
   ]
  }
 ],
 "metadata": {
  "kernelspec": {
   "display_name": "venv",
   "language": "python",
   "name": "python3"
  },
  "language_info": {
   "codemirror_mode": {
    "name": "ipython",
    "version": 3
   },
   "file_extension": ".py",
   "mimetype": "text/x-python",
   "name": "python",
   "nbconvert_exporter": "python",
   "pygments_lexer": "ipython3",
   "version": "3.12.7"
  }
 },
 "nbformat": 4,
 "nbformat_minor": 5
}
