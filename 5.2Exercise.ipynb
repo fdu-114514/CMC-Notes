{
 "cells": [
  {
   "cell_type": "markdown",
   "id": "601287f6",
   "metadata": {},
   "source": [
    "## 5.2的练习"
   ]
  }
 ],
 "metadata": {
  "language_info": {
   "name": "python"
  }
 },
 "nbformat": 4,
 "nbformat_minor": 5
}
