{
 "cells": [
  {
   "cell_type": "markdown",
   "id": "601287f6",
   "metadata": {},
   "source": [
    "## 5.2的练习"
   ]
  },
  {
   "cell_type": "code",
   "execution_count": null,
   "id": "b719761e",
   "metadata": {
    "vscode": {
     "languageId": "plaintext"
    }
   },
   "outputs": [],
   "source": [
    "import numpy as np\n",
    "import matplotlib.pyplot as plt"
   ]
  }
 ],
 "metadata": {
  "language_info": {
   "name": "python"
  }
 },
 "nbformat": 4,
 "nbformat_minor": 5
}
