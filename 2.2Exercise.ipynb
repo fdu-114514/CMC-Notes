{
 "cells": [
  {
   "cell_type": "markdown",
   "id": "961ba156",
   "metadata": {},
   "source": [
    "## 2.2的练习"
   ]
  },
  {
   "cell_type": "code",
   "execution_count": 10,
   "id": "9885fe07",
   "metadata": {},
   "outputs": [],
   "source": [
    "import numpy as np\n",
    "import matplotlib.pyplot as plt"
   ]
  },
  {
   "cell_type": "markdown",
   "id": "30279a95",
   "metadata": {},
   "source": [
    "### 泰勒公式"
   ]
  },
  {
   "cell_type": "markdown",
   "id": "6633b6dd",
   "metadata": {},
   "source": [
    "> 1. 利用泰勒公式计算下列极限：\n",
    "> $$(1)\\lim_{x\\to+\\infty}[(x^3-x^2+\\frac{x}{2})\\text{e}^{\\frac{1}{x}}-\\sqrt{x^6+1}]$$\n",
    "> $$(2)\\lim_{x\\to 0}\\frac{\\sin(\\text{e}^x-1)-(\\text{e}^{\\sin x}-1)}{\\sin^43x}$$\n",
    "\n",
    "**思路：** $(1)$中注意$x\\to+\\infty$，这说明需要进行倒代换，才能使用麦克劳林公式(泰勒公式)。$(2)$要注意展开时不要漏项了。\n",
    "\n",
    "**解答：** $(1)$\n",
    "$$\\begin{aligned}\n",
    "    \\lim_{x\\to+\\infty}[(x^3-x^2+\\frac{x}{2})\\text{e}^{\\frac{1}{x}}-\\sqrt{x^6+1}]&=\\lim_{t\\to 0^+}[(\\frac{1}{t^3}-\\frac{1}{t^2}+\\frac{1}{2t})\\text{e}^t-\\sqrt{1+\\frac{1}{t^6}}] \\\\\n",
    "    &=\\lim_{t\\to 0^+}[(\\frac{1}{t^3}-\\frac{1}{t^2}+\\frac{1}{2t})(1+t+\\frac{t^2}{2})-\\frac{1}{t^3}\\sqrt{1+t^6}] \\\\\n",
    "    &=\\lim_{t\\to 0^+}[(\\frac{1}{t^3}-\\frac{1}{t^2}+\\frac{1}{2t})(1+t+\\frac{t^2}{2}+\\frac{t^3}{6}+o(t^3))-\\frac{1}{t^3}(1+o(t^3))] \\\\\n",
    "    &=\\lim_{t\\to 0^+}(\\frac{1}{t^3}-\\frac{1}{t^2}+\\frac{1}{2t}+\\frac{1}{t^2}-\\frac{1}{t}+\\frac{1}{2}+\\frac{1}{2t}-\\frac{1}{2}+\\frac{1}{6}-\\frac{1}{t^3}+o(1)) \\\\\n",
    "    &=\\frac{1}{6}\n",
    "\\end{aligned}$$\n",
    "\n",
    "$(2)$\n",
    "$$\\begin{aligned}\n",
    "    \\lim_{x\\to 0}\\frac{\\sin(\\text{e}^x-1)-(\\text{e}^{\\sin x}-1)}{\\sin^43x}&=\\lim_{x\\to 0}\\frac{(\\text{e}^x-1)-\\frac{1}{6}(\\text{e}^x-1)^3-(\\sin x+\\frac{\\sin^2x}{2}+\\frac{\\sin^3x}{6}+\\frac{\\sin^4x}{24})}{81x^4} \\\\\n",
    "    &=\\lim_{x\\to 0}\\frac{(x+\\frac{x^2}{2}+\\frac{x^3}{6}+\\frac{x^4}{24})-\\frac{1}{6}(x^3+\\frac{3x^4}{2})-(x-\\frac{x^3}{6}+\\frac{x^2}{2}-\\frac{x^4}{6}+\\frac{x^3}{6}+\\frac{x^4}{24})}{81x^4} \\\\\n",
    "    &=\\lim_{x\\to 0}\\frac{(\\frac{1}{24}-\\frac{1}{4}+\\frac{1}{6}-\\frac{1}{24})x^4}{81x^4} \\\\\n",
    "    &=-\\frac{1}{972}\n",
    "\\end{aligned}$$"
   ]
  },
  {
   "cell_type": "markdown",
   "id": "80c4d314",
   "metadata": {},
   "source": [
    "> 2. 已知函数$f(x)$在$x=0$处有$n+1$阶导数，且$f'(0)=f''(0)=\\cdots=f^{(n-1)}(0)=0, f^{(n)}(0)=a$。求$\\lim_{x\\to 0}\\frac{f(\\text{e}^x-1)-f(x)}{x^{n+1}}$。\n",
    "\n",
    "**思路：** 题目给的提示很明显了，就是让你在$x=0$处进行泰勒展开。\n",
    "\n",
    "**解答：** 将$f(\\text{e}^x-1)$和$f(x)$在$x=0$处进行泰勒展开。\n",
    "$$\\begin{aligned}\n",
    "    f(\\text{e}^x-1)&=f(0)+\\frac{a}{n!}(\\text{e}^x-1)^n+\\frac{1}{(n+1)!}f^{(n+1)}(0)(\\text{e}^x-1)^{n+1}+o((\\text{e}^x-1)^{n+1}) \\\\\n",
    "    f(x)&=f(0)+\\frac{a}{n!}x^n+\\frac{1}{(n+1)!}f^{(n+1)}(0)x^{n+1}+o(x^{n+1})\n",
    "\\end{aligned}$$\n",
    "$$f(\\text{e}^x-1)-f(x)=\\frac{a}{n!}[(\\text{e}^x-1)^n-x^n]+\\frac{1}{(n+1)!}f^{(n+1)}(0)[(\\text{e}^x-1)^{n+1}-x^{n+1}]+o(x^{n+1})$$\n",
    "计算可知\n",
    "$$\\begin{aligned}\n",
    "    \\lim_{x\\to 0}\\frac{a}{n!x^{n+1}}[(\\text{e}^x-1)^n-x^n]&=\\frac{a}{n!}\\lim_{x\\to 0}\\frac{(x+\\frac{x^2}{2})^n-x^n}{x^{n+1}} \\\\\n",
    "    &=\\frac{a}{n!}\\lim_{x\\to 0}\\frac{(1+\\frac{x}{2})^n-1}{x} \\\\\n",
    "    &=\\frac{a}{2(n-1)!}\n",
    "\\end{aligned}$$\n",
    "$$\\lim_{x\\to 0}\\frac{f^{(n+1)}(0)}{(n+1)!x^{n+1}}[(\\text{e}^x-1)^{n+1}-x^{n+1}]=0$$\n",
    "因此\n",
    "$$\\lim_{x\\to 0}\\frac{f(\\text{e}^x-1)-f(x)}{x^{n+1}}=\\frac{a}{2(n-1)!}$$"
   ]
  },
  {
   "cell_type": "markdown",
   "id": "1fdd7e97",
   "metadata": {},
   "source": [
    "> 3. 设函数$f(x)$在闭区间$[-1, 1]$上有连续的三阶导数，且$f(-1)=0, f(1)=1, f'(0)=0$。求证：在开区间$(-1, 1)$内至少存在一点$x_0$，使得$f'''(x_0)=3$。\n",
    "\n",
    "**思路：** 泰勒展开+连续性一波带走即可。\n",
    "\n",
    "**解答：** 对$f(-1)$和$f(1)$在$x=0$处进行泰勒展开\n",
    "$$\\begin{aligned}\n",
    "    f(-1)&=f(0)-f'(0)+\\frac{1}{2}f''(0)-\\frac{1}{6}f'''(\\eta)=0 \\\\\n",
    "    f(1)&=f(0)+f'(0)+\\frac{1}{2}f''(0)+\\frac{1}{6}f'''(\\xi)=1 \\\\\n",
    "\\end{aligned}$$\n",
    "其中$\\eta\\in(-1, 0), \\xi\\in(0, 1)$，两式相减得到\n",
    "$$f'''(\\xi)+f'''(\\eta)=6$$\n",
    "令$F(x)=f'''(x)-3$，则$F(x)$在闭区间$[-1, 1]$上连续，且$F(\\xi)+F(\\eta)=0$，即$F(\\xi)=-F(\\eta)$。由介值定理，存在一点$x_0\\in(\\eta, \\xi)$，使得$F(x_0)=0$，即$f'''(x_0)=3$。"
   ]
  },
  {
   "cell_type": "markdown",
   "id": "a64efa32",
   "metadata": {},
   "source": [
    "> 4. 设$f(x)$在$x_0$的邻域中有三阶导数且$f'''(x_0)\\neq 0$，证明：在$f(x)$的二阶拉格朗日型余项的泰勒公式$f(x_0+h)=f(x_0)+f'(x_0)h+\\frac{f''(x_0+\\theta h)}{2!}h^2$中，必有$\\lim_{h\\to 0}\\theta=\\frac{1}{3}$。\n",
    "\n",
    "**思路：** 与皮亚诺型余项的泰勒公式比较。\n",
    "\n",
    "**解答：** $f(x_0+h)$的皮亚诺型余项的泰勒公式与二阶拉格朗日型余项的泰勒公式为\n",
    "$$\\begin{aligned}\n",
    "    f(x_0+h)&=f(x_0)+f'(x_0)h+\\frac{f''(x_0+\\theta h)}{2!}h^2 \\\\\n",
    "    f(x_0+h)&=f(x_0)+f'(x_0)h+\\frac{f''(x_0)}{2!}h^2+\\frac{f'''(x_0)}{3!}h^3+o(h^3)\n",
    "\\end{aligned}$$\n",
    "因此\n",
    "$$\\begin{aligned}\n",
    "    [\\frac{f''(x_0+\\theta h)}{2!}-\\frac{f''(x_0)}{2!}]h^2&=\\frac{f'''(x_0)}{3!}h^3+o(h^3) \\\\\n",
    "    f''(x_0+\\theta h)-f''(x_0)&=\\frac{f'''(x_0)}{3}h+o(h) \\\\\n",
    "    \\lim_{h\\to 0}\\frac{f''(x_0+\\theta h)-f''(x_0)}{\\theta h}&=\\lim_{h\\to 0}\\frac{f'''(x_0)}{3\\theta} \\\\\n",
    "    f'''(x_0)&=f'''(x_0)\\lim_{h\\to 0}\\frac{1}{3\\theta} \\\\\n",
    "    \\lim_{h\\to 0}\\theta&=\\frac{1}{3}\n",
    "\\end{aligned}$$"
   ]
  },
  {
   "cell_type": "markdown",
   "id": "10e97590",
   "metadata": {},
   "source": [
    "### 泰勒公式与不等式"
   ]
  },
  {
   "cell_type": "markdown",
   "id": "f9a71a46",
   "metadata": {},
   "source": [
    "> 5. 点$A$到点$B$的距离为$S$，若质点$M$从点$A$沿直线由静止状态运动到点$B$停止，费时为$T$秒，证明：在此运动过程中某一时刻加速度的绝对值大于等于$\\frac{4S}{T^2}$。\n",
    "\n",
    "**思路：** 这就是导数在物理中的运用。一阶导数代表速度，二阶导数则代表加速度。\n",
    "\n",
    "**解答：** 设$f(t)$是时刻为$t$时质点$M$经过的路程，则$f(0)=0, f(T)=S, f'(0)=f'(T)=0$。此时，将$f(t)$在$t=0, T$两点分别进行泰勒展开\n",
    "$$\\begin{aligned}\n",
    "    f(t)&=f(0)+f'(0)t+\\frac{f''(\\xi)}{2}t^2 \\\\\n",
    "    f(t)&=f(T)+f'(T)(t-T)+\\frac{f''(\\eta)}{2}(t-T)^2\n",
    "\\end{aligned}$$\n",
    "其中$\\xi\\in(0, t), \\eta\\in(t, T)$。取$t=\\frac{T}{2}$，相减就得到\n",
    "$$\\begin{aligned}\n",
    "    \\frac{1}{4}T^2(f''(\\xi)-f''(\\eta))&=2S \\\\\n",
    "    f''(\\xi)-f''(\\eta)&=\\frac{8S}{T^2}\n",
    "\\end{aligned}$$\n",
    "由绝对值不等式可知\n",
    "$$\\begin{aligned}\n",
    "    f''(\\xi)-f''(\\eta)&\\le |f''(\\xi)|+|f''(\\eta)| \\\\\n",
    "    \\frac{8S}{T^2}&=2\\max\\{|f''(\\xi)|, |f''(\\eta)|\\} \\\\\n",
    "    \\max\\{|f''(\\xi)|, |f''(\\eta)|\\}\\ge \\frac{4S}{T^2}\n",
    "\\end{aligned}$$"
   ]
  },
  {
   "cell_type": "markdown",
   "id": "e3cc2a8a",
   "metadata": {},
   "source": [
    "> 6. 设$f(x)$在$[a, b]$上具有二阶导数，$f(a)=f(b)=0$且存在$c\\in(a, b)$使得$f(c)>0$，证明：存在$\\xi\\in(a, b)$使得$f''(\\xi)<0$。\n",
    "\n",
    "**思路：** 直观上来说，$f(x)$在$(a, c)$内必定至少有一点$\\eta_1$使得$f'(\\eta_1)>0$，在$(c, b)$内必定至少有一点$\\eta_2$使得$f'(\\eta_2)<0$，而这可以由拉格朗日中值定理证明。\n",
    "\n",
    "**解答1:** $f(x)$在$[a, b]$上连续，在$(a, b)$内可导，故由拉格朗日中值定理，存在$\\eta_1\\in(a, c), \\eta_2\\in(c, b)$，使得\n",
    "$$\\begin{aligned}\n",
    "    f'(\\eta_1)&=\\frac{f(c)-f(a)}{c-a}>0 \\\\\n",
    "    f'(\\eta_2)&=\\frac{f(b)-f(c)}{b-c}<0\n",
    "\\end{aligned}$$\n",
    "对$\\eta_1, \\eta_2$再次使用拉格朗日中值定理得到\n",
    "$$f''(\\xi)=\\frac{f'(\\eta_2)-f'(\\eta_1)}{\\eta_2-\\eta_1}<0$$\n",
    "其中$\\xi\\in(\\eta_1, \\eta_2)\\subset(a, b)$。\n",
    "\n",
    "**解答2:** 由题意可知，$f(x)$在$(a, b)$内具有最大值点$x_0$且$f(x_0)>0$，对$f(a)$在$x=x_0$处进行泰勒展开得到\n",
    "$$\\begin{aligned}\n",
    "    f(a)&=f(x_0)+f'(x_0)(a-x_0)+\\frac{f''(\\xi)}{2}(a-x_0)^2 \\\\\n",
    "    -f(x_0)&=\\frac{f''(\\xi)}{2}(a-x_0)^2 \\\\\n",
    "    f''(\\xi)&<0\n",
    "\\end{aligned}$$\n",
    "其中$\\xi\\in(a, x_0)\\subset(a, b)$。"
   ]
  },
  {
   "cell_type": "markdown",
   "id": "ced5f769",
   "metadata": {},
   "source": [
    "> 7. 设$f(x)$在区间$[a, +\\infty)$上具有二阶导数，且$|f(x)|\\le M_0,0<|f''(x_0)|\\le M_2(a\\le x<+\\infty)$。证明：$|f'(x)|\\le 2\\sqrt{M_0M_2}$。\n",
    "\n",
    "**思路：** 这很明显是“动点展开”。为求方便，我们通常将$f(x+h)$在$x$处展开，其中$a\\le x<+\\infty$是任意的。\n",
    "\n",
    "**解答：** 将$f(x+h)$在$x$处进行泰勒展开\n",
    "$$\\begin{aligned}\n",
    "    f(x+h)&=f(x)+f'(x)h+\\frac{f''(\\xi)}{2}h^2 \\\\\n",
    "    f'(x)&=\\frac{1}{h}[f(x+h)-f(x)]-\\frac{h}{2}f''(\\xi)\n",
    "\\end{aligned}$$\n",
    "由绝对值不等式可知\n",
    "$$\\begin{aligned}\n",
    "    |f'(x)|&\\le \\frac{1}{h}[|f(x+h)|+|f(x)|]+\\frac{h}{2}|f''(\\xi)| \\\\\n",
    "    &=\\frac{2}{h}M_0+\\frac{h}{2}M_2 \\\\\n",
    "\\end{aligned}$$\n",
    "而$\\frac{2}{h}M_0+\\frac{h}{2}M_2$的最小值为$2\\sqrt{M_0M_2}$，因此\n",
    "$$|f'(x)|\\le 2\\sqrt{M_0M_2}$$"
   ]
  },
  {
   "cell_type": "markdown",
   "id": "92db7c4b",
   "metadata": {},
   "source": [
    "> 8. 设函数$f(x)$在$[0, 1]$上具有二阶导数，且满足条件$|f(x)|\\le a, |f''(x)|\\le b$，其中$a, b$都是常数，$c$是$(0, 1)$内任一点，证明：$|f'(c)|\\le 2a+\\frac{b}{2}$。\n",
    "\n",
    "**思路：** 这题也是用动点展开，但需要注意与上题的不同：到底对谁展开？\n",
    "\n",
    "**解答：** 将$f(0), f(1)$分别在$x=c$处进行泰勒展开\n",
    "$$\\begin{aligned}\n",
    "    f(0)&=f(c)+f'(c)(0-c)+\\frac{f''(\\eta_1)}{2}(0-c)^2 \\\\\n",
    "    f(1)&=f(c)+f'(c)(1-c)+\\frac{f''(\\eta_2)}{2}(1-c)^2 \n",
    "\\end{aligned}$$\n",
    "两式相减得到\n",
    "$$\\begin{aligned}\n",
    "    f(1)-f(0)&=f'(c)+\\frac{1}{2}[f''(\\eta_2)(1-c)^2-f''(\\eta_1)c^2] \\\\\n",
    "    f'(c)&=f(1)-f(0)-\\frac{1}{2}[f''(\\eta_2)(1-c)^2-f''(\\eta_1)c^2]\n",
    "\\end{aligned}$$\n",
    "由绝对值不等式可知\n",
    "$$\\begin{aligned}\n",
    "    |f'(c)|&\\le 2a+\\frac{b}{2}[c^2+(1-c)^2] \\\\\n",
    "    &\\le 2a+\\frac{b}{2}\n",
    "\\end{aligned}$$"
   ]
  },
  {
   "cell_type": "markdown",
   "id": "fe039a94",
   "metadata": {},
   "source": [
    "> 9. 设$f(x)$在$[a, b]$上有二阶导数，$f(a)=f(b)=f'(a)=f'(b)=0$，又存在常数$M$，使得在$[a, b]$上恒有$|f''(x)|\\le M$。证明：在$[a, b]$上恒有$|f(x)|\\le \\frac{M}{16}(b-a)^2$\n",
    "\n",
    "**思路：** 对比上面两题，这题算是做烂了。由于题目条件多，展开起来也很方便。\n",
    "\n",
    "**解答：** 设$|f(c)|$为$|f(x)|$的最大值，只需证明$|f(c)|$满足不等式。将$f(x)$在$x=c$处进行泰勒展开\n",
    "$$\\begin{aligned}\n",
    "    f(x)&=f(c)+\\frac{f''(\\xi_1)}{2}(x-c)^2 \\\\\n",
    "    |f(x)-f(c)|&\\le\\frac{M}{2}(x-c)^2\n",
    "\\end{aligned}$$\n",
    "又将$f(x)$在$x=a$处进行泰勒展开\n",
    "$$\\begin{aligned}\n",
    "    f(x)&=\\frac{f''(\\xi_2)}{2}(x-a)^2 \\\\\n",
    "    |f(x)|&\\le\\frac{M}{2}(x-a)^2\n",
    "\\end{aligned}$$\n",
    "由绝对值不等式\n",
    "$$\\begin{aligned}\n",
    "    |f(c)|&\\le |f(c)-f(x)|+|f(x)| \\\\\n",
    "    &=\\frac{M}{2}[(x-c)^2+(x-a)^2] \\\\\n",
    "    &\\le \\frac{M}{4}(c-a)^2\n",
    "\\end{aligned}$$\n",
    "同理有\n",
    "$$|f(c)|\\le \\frac{M}{4}(b-c)^2$$\n",
    "因此当$a\\le c\\le\\frac{a+b}{2}$时，有\n",
    "$$f(c)\\le\\frac{M}{4}(\\frac{a+b}{2}-a)^2=\\frac{M}{16}(b-a)^2$$\n",
    "当$\\frac{a+b}{2}\\le c\\le b$时，有\n",
    "$$f(c)\\le\\frac{M}{4}(b-\\frac{a+b}{2})^2=\\frac{M}{16}(b-a)^2$$"
   ]
  },
  {
   "cell_type": "markdown",
   "id": "962a7eb5",
   "metadata": {},
   "source": [
    "### 函数的单调性与不等式"
   ]
  },
  {
   "cell_type": "markdown",
   "id": "461b142f",
   "metadata": {},
   "source": [
    "> 10. 设函数$f(x)$在$[0,+\\infty)$上有二阶导数，且$f''(x)<0, f(0)=0$。证明对任何正数$x_1, x_2$，都有$f(x_1+x_2)<f(x_1)+f(x_2)$。\n",
    "\n",
    "**思路：** $f''(x)<0$说明$f'(x)$是严格单调递减的，运用拉格朗日中值定理即可得到想要的形式。\n",
    "\n",
    "**解答：** 因为$f''(x)<0$，所以$f'(x)$是严格单调递减的。不妨设$x_1\\le x_2$，移项，并利用$f(0)=0$就得到\n",
    "$$\\begin{aligned}\n",
    "    [f(x_1+x_2)-f(x_2)]-[f(x_1)-f(0)]&=[f'(\\xi_1)-f'(\\xi_2)]x_1 \\\\\n",
    "    &< 0\n",
    "\\end{aligned}$$\n",
    "其中$\\xi_1\\in(x_2, x_1+x_2), \\xi_2\\in(0, x_1)$"
   ]
  },
  {
   "cell_type": "markdown",
   "id": "e5afcf13",
   "metadata": {},
   "source": [
    "> 11. 设$f(x)$在$[0,+\\infty)$上可导，$f'(x)$单调增加且$f(0)=0$。证明：$g(x)=\\frac{f(x)}{x}$在$(0,+\\infty)$内单调增加。\n",
    "\n",
    "**思路：** 和上题一样，主要看如何才能凑出导数的形式。\n",
    "\n",
    "**解答：** $g(x)$明显在$(0,+\\infty)$内可导，因此\n",
    "$$g'(x)=\\frac{xf'(x)-f(x)}{x^2}$$\n",
    "只需证明$xf'(x)-f(x)>0$，即$\\frac{f(x)}{x}\\le f'(x)$。由$f(0)=0$可知\n",
    "$$\\begin{aligned}\n",
    "    \\frac{f(x)}{x}&=\\frac{f(x)-f(0)}{x-0} \\\\\n",
    "    &=f'(\\xi) \\\\\n",
    "    &\\le f'(x)\n",
    "\\end{aligned}$$\n",
    "其中$\\xi\\in(0, x)$，因此结论成立。"
   ]
  },
  {
   "cell_type": "markdown",
   "id": "1187bd4a",
   "metadata": {},
   "source": [
    "> 12. 证明：当$x>0$时，$\\arctan x+\\frac{1}{x}>\\frac{\\pi}{2}$。\n",
    "\n",
    "**思路：** 这里要用到一个常见不等式：当$x>0$，有$\\arctan x+\\arctan\\frac{1}{x}=\\frac{\\pi}{2}$。"
   ]
  },
  {
   "cell_type": "code",
   "execution_count": 11,
   "id": "a604a160",
   "metadata": {},
   "outputs": [
    {
     "data": {
      "image/png": "[encoded data removed]",
      "text/plain": [
       "<Figure size 640x480 with 1 Axes>"
      ]
     },
     "metadata": {},
     "output_type": "display_data"
    }
   ],
   "source": [
    "%matplotlib inline\n",
    "x = np.linspace(0.1, 10, 1000)\n",
    "y = np.arctan(x) + (1/x) - (np.pi/2)\n",
    "plt.plot(x, y, label=r'$f(x)=\\arctan x+\\frac{1}{x}-\\frac{\\pi}{2}$')\n",
    "plt.xlabel('x')\n",
    "plt.ylabel('f(x)')\n",
    "plt.legend()\n",
    "plt.show()"
   ]
  },
  {
   "cell_type": "markdown",
   "id": "360f37b0",
   "metadata": {},
   "source": [
    "**解答：** 因为\n",
    "$$\\begin{aligned}\n",
    "    \\arctan x+\\arctan y&=\\arctan(\\frac{x+y}{1-xy}) \\\\\n",
    "    \\arctan x+\\arctan\\frac{1}{x}&=\\frac{\\pi}{2}\n",
    "\\end{aligned}$$\n",
    "所以只需证明$\\frac{1}{x}-\\arctan\\frac{1}{x}>0$。\n",
    "$$\\begin{aligned}\n",
    "    F(x)&=x-\\arctan x \\\\\n",
    "    F(0)&=0 \\\\\n",
    "    F'(x)&=1-\\frac{1}{1+x^2}>0\n",
    "\\end{aligned}$$\n",
    "因此$F(x)>0$，结论成立。"
   ]
  },
  {
   "cell_type": "markdown",
   "id": "17a56f45",
   "metadata": {},
   "source": [
    "> 13. 设$n$是正整数，$x>0$，证明下列不等式：$(1)(1+\\frac{x}{n})^n<\\text{e}^x$；$(2)(1+\\frac{x}{n})^n<(1+\\frac{x}{n+1})^{n+1}$。\n",
    "\n",
    "**思路：** 第一小题我们知道$\\lim_{n\\to\\infty}(1+\\frac{x}{n})^n=\\text{e}^x$，考虑对$n$进行归纳；第二小题$x$不变的话，不如将$n, n+1$看成变量。\n",
    "\n",
    "**解答：** $(1)$用数学归纳法，当$k=1$时，$1+x<\\text{e}^x$显然成立。设$k=n-1$时结论成立，即\n",
    "$$\\text{e}^x-(1+\\frac{x}{n-1})^{n-1}>0$$\n",
    "则当$k=n$时，有\n",
    "$$\\begin{aligned}\n",
    "    F(x)&=\\text{e}^x-(1+\\frac{x}{n})^n \\\\\n",
    "    F'(x)&=\\text{e}^x-(1+\\frac{x}{n})^{n-1}>0 \\\\\n",
    "    F(0)&=0\n",
    "\\end{aligned}$$\n",
    "因此仍然有\n",
    "$$\\text{e}^x-(1+\\frac{x}{n})^{n}>0$$\n",
    "由数学归纳法，结论对任意正整数$n$成立。\n",
    "\n",
    "$(2)$设\n",
    "$$F(y)=(1+\\frac{x}{y})^y$$\n",
    "其中$x>0$是任意正数，现在只需证明$F(y)$在$(1, +\\infty)$上单调递增。\n",
    "$$F'(y)=(1+\\frac{x}{y})^y[\\ln(1+\\frac{x}{y})-\\frac{x}{x+y}]$$\n",
    "又令$g(y)=\\ln(1+\\frac{x}{y})-\\frac{x}{x+y}$，计算可得\n",
    "$$\\begin{aligned}\n",
    "    g'(y)&=\\frac{1}{1+\\frac{x}{y}}\\cdot(-\\frac{x}{y^2})+\\frac{x}{(x+y)^2} \\\\\n",
    "    &=\\frac{x}{(x+y)^2}-\\frac{x}{y(x+y)}<0\n",
    "\\end{aligned}$$\n",
    "则$g(y)$单调递减，且$g(+\\infty)=0$，因此对任意正数$y$，有$g(y)>0$，从而$F'(y)>0$，结论得证。"
   ]
  },
  {
   "cell_type": "markdown",
   "id": "7c84b8e9",
   "metadata": {},
   "source": [
    "> 14. 比较$(\\sqrt{n})^{\\sqrt{n+1}}$与$(\\sqrt{n+1})^{\\sqrt{n}}$的大小，这里$n>8$。\n",
    "\n",
    "**思路：** 比大小最好的做法就是求导，但现在形式过于复杂，需要作一些变形。\n",
    "\n",
    "**解答：** 取对数并各自平方后，令\n",
    "$$\\begin{aligned}\n",
    "g(x)&=x\\ln^2(x+1)-(x+1)\\ln^2x \\\\\n",
    "&=x(x+1)[\\frac{\\ln^2(x+1)}{x+1}-\\frac{\\ln^2x}{x}]\n",
    "\\end{aligned}$$\n",
    "此时又令$h(x)=\\frac{\\ln^2x}{x}$，则\n",
    "$$\\begin{aligned}\n",
    "h'(x)&=\\frac{2\\ln x\\cdot-\\ln^2x}{x^2} \\\\\n",
    "&=\\frac{\\ln x(2-\\ln x)}{x^2}\n",
    "\\end{aligned}$$\n",
    "这里$x\\ge 9$，因此$h'(x)<0$，$h(x)$单调递减，所以$g(x)<0$，即\n",
    "$$(\\sqrt{n})^{\\sqrt{n+1}}>(\\sqrt{n+1})^{\\sqrt{n}}$$"
   ]
  },
  {
   "cell_type": "markdown",
   "id": "81691988",
   "metadata": {},
   "source": [
    "> 15. 证明不等式$\\frac{|a+b|}{1+|a+b|}\\le \\frac{|a|}{1+|a|}+\\frac{|b|}{1+|b|}$\n",
    "\n",
    "**吐槽：** 这道题放在这里感觉非常割裂。\n",
    "\n",
    "**解答：** 一行证明完\n",
    "$$\\frac{|a+b|}{1+|a+b|}\\le \\frac{|a|+|b|}{1+|a+b|}\\le \\frac{|a|}{1+|a|}+\\frac{|b|}{1+|b|}$$"
   ]
  },
  {
   "cell_type": "markdown",
   "id": "55f37988",
   "metadata": {},
   "source": [
    "> 16. 若$0<a<b$，证明：$(1+a)\\ln(1+a)+(1+b)\\ln(1+b)<(1+a+b)\\ln(1+a+b)$。\n",
    "\n",
    "**思路：** 明显需要先设$f(x)=x\\ln x$，再求导看看能不能发现什么。\n",
    "\n",
    "**解答：** 令$f(x)=x\\ln x$，则\n",
    "$$\\begin{aligned}\n",
    "    f(1)&=0 \\\\\n",
    "    f'(x)&=\\ln x+1\n",
    "\\end{aligned}$$\n",
    "因此$f'(x)$单调递增。由拉格朗日中值定理\n",
    "$$\\begin{aligned}\n",
    "    f(1+a)-f(1)&=af'(\\xi) \\\\\n",
    "    f(1+a+b)-f(1+b)&=af'(\\eta) \\\\\n",
    "    f(1+a+b)-f(1+b)-f(1+a)&=a(f'(\\eta)-f'(\\xi))>0\n",
    "\\end{aligned}$$\n",
    "其中$\\xi\\in(1, 1+a), \\eta\\in(1+b, 1+a+b)$。\n",
    "\n",
    "**总结：** 在题目明确给出了$a<b$这种条件的时候，就要开始考虑使用拉格朗日中值定理了。"
   ]
  },
  {
   "cell_type": "markdown",
   "id": "c7da273b",
   "metadata": {},
   "source": [
    "### 函数的凹凸性与不等式"
   ]
  },
  {
   "cell_type": "markdown",
   "id": "fbf65614",
   "metadata": {},
   "source": [
    "> 17. 设函数$f(x)$在区间$I$上的一阶与二阶导数恒不为零。证明以下结论：\n",
    ">\n",
    "> $(1) f(x)$是单调的凹或凸型函数；\n",
    ">\n",
    "> $(2)$ 若$f(x)$是单调增加的，则其反函数的凹凸性与$f(x)$的凹凸性相反。\n",
    ">\n",
    "> $(3)$ 若$f(x)$是单调减少的，则其反函数的凹凸性与$f(x)$的凹凸性相同。\n",
    "\n",
    "**思路：** 利用凹凸性的二阶导数判别法即可。\n",
    "\n",
    "**解答：** $(1)$由于$f(x)$在区间$I$上的二阶导数恒不为零，由介值定理，$f''(x)$恒大于零或恒小于零。若$f''(x)>0, \\forall x\\in I$，则$f(x)$是convex function(凹函数)，否则为凸函数(concave function)。\n",
    "\n",
    "$(2)$ 若$f(x)$单调增加，则$f'(x)\\ge 0, \\forall x\\in I$。我们现在计算其反函数的二阶导数\n",
    "$$\\begin{aligned}\n",
    "    \\frac{\\text{d}^2x}{\\text{d}y^2}&=\\frac{\\text{d}}{\\text{d}x}(\\frac{\\text{d}x}{\\text{d}y})\\cdot\\frac{\\text{d}x}{\\text{d}y} \\\\\n",
    "    &=\\frac{\\text{d}}{\\text{d}x}(\\frac{1}{y'})\\cdot\\frac{1}{y'} \\\\\n",
    "    &=\\frac{-y''}{(y')^2}\\cdot\\frac{1}{y'} \\\\\n",
    "    &=-\\frac{y''}{(y')^3}\n",
    "\\end{aligned}$$\n",
    "因此，若$y''>0$，则有$[f^{-1}(x)]''<0$，否则有$[f^{-1}(x)]''>0$\n",
    "\n",
    "$(3)$ 与$(2)$同理，此时$f'(x)<0$。若$y''>0$，则有$[f^{-1}(x)]''>0$，否则有$[f^{-1}(x)]''<0$"
   ]
  },
  {
   "cell_type": "markdown",
   "id": "dcb52772",
   "metadata": {},
   "source": [
    "> 18. 如果一个质点在平面内运动，它的坐标可以表示为时间$t$的函数，$x=t^3-t, y=t^4+t$。证明：曲线在$t=0$处有一个拐点，并且质点运动的速度在$t=0$有一个极大值。\n",
    "\n",
    "**思路：** 首先，拐点和二阶导数有关，这就要求我们会算参数方程的二阶导数。其次，质点的运动速度实际上就是一阶导数，但参数方程下可不是这么简单就能算的。"
   ]
  },
  {
   "cell_type": "code",
   "execution_count": 12,
   "id": "1a480208",
   "metadata": {},
   "outputs": [
    {
     "data": {
      "image/png": "[encoded data removed]",
      "text/plain": [
       "<Figure size 640x480 with 1 Axes>"
      ]
     },
     "metadata": {},
     "output_type": "display_data"
    }
   ],
   "source": [
    "%matplotlib inline\n",
    "t = np.linspace(-2, 2, 4000)\n",
    "x = t**3 - t \n",
    "y = t**4 + t\n",
    "plt.plot(x, y)\n",
    "plt.xlim(-1, 1)\n",
    "plt.ylim(-2, 2)\n",
    "plt.show()"
   ]
  },
  {
   "cell_type": "markdown",
   "id": "c0381c17",
   "metadata": {},
   "source": [
    "**解答：** 我们计算方程的二阶导数，因为$t=0$时，$\\frac{\\text{d}x}{\\text{d}t}\\neq 0$，因此在$t=0$的邻域，$y$作为$x$的函数有\n",
    "$$\\begin{aligned}\n",
    "    \\frac{\\text{d}y}{\\text{d}x}&=\\frac{4t^3+1}{3t^2-1} \\\\\n",
    "    \\frac{\\text{d}^2y}{\\text{d}x^2}&=\\frac{\\frac{\\text{d}}{\\text{d}t}(\\frac{\\text{d}y}{\\text{d}x})}{\\frac{\\text{d}x}{\\text{d}t}} \\\\\n",
    "    &=\\frac{12t^2(3t^2-1)-6t(4t^3+1)}{(3t^2-1)^2}\\cdot\\frac{1}{3t^2-1} \\\\\n",
    "    &=\\frac{6t(2t^2-2t-1)}{(3t^2-1)^3}\n",
    "\\end{aligned}$$\n",
    "即$t=0$时，$\\frac{\\text{d}^2y}{\\text{d}x^2}=0$，且在$t=0$两侧附近变号，故曲线在$t=0$处有一个拐点。另外，对于速度$v$，我们有\n",
    "$$\\begin{aligned}\n",
    "    v^2&=(\\frac{\\text{d}x}{\\text{d}t})^2+(\\frac{\\text{d}y}{\\text{d}x})^2 \\\\\n",
    "    &=(3t^2-1)^2+(4t^3+1)^2 \\\\\n",
    "    &=16t^6+9t^4+8t^3-6t^2+2 \\\\\n",
    "    \\frac{\\text{d}(v^2)}{\\text{d}t}&=96t^5+36t^3+24t^2-12t \\\\\n",
    "    \\frac{\\text{d}^2(v^2)}{\\text{d}t^2}&=480t^4+108t^2+48t-12\n",
    "\\end{aligned}$$\n",
    "$t=0$时，$\\frac{\\text{d}(v^2)}{\\text{d}t}=0, \\frac{\\text{d}^2(v^2)}{\\text{d}t^2}=-12<0$，因此$v^2$在$t=0$处取得极大值，它也是$v$的极大值。"
   ]
  },
  {
   "cell_type": "markdown",
   "id": "b6fffed5",
   "metadata": {},
   "source": [
    "> 19. 设$f(x)$在$[a, c]$上连续，$f'(x)$在$(a, c)$内严格单调增加，证明：对于任何$b\\in(a, c)$，都成立着不等式\n",
    "> $$(b-a)f(c)+(c-b)f(a)>(c-a)f(b)$$\n",
    "\n",
    "**思路：** 由$f'(x)$在$(a, c)$内严格单调增加，就知道$f''(x)>0$，此时就可以使用strictly convex function的结论了。\n",
    "\n",
    "**解答：** 将不等式变形为\n",
    "$$\\frac{b-a}{c-a}f(c)+\\frac{c-b}{c-a}f(a)>f(b)$$\n",
    "注意到$f''(x)>0$，且$\\frac{b-a}{c-a}+\\frac{c-b}{c-a}=1$，故由充要条件\n",
    "$$f(q_1x_1+q_2x_2)<q_1f(x_1)+q_2f(x_2)$$\n",
    "可知\n",
    "$$\\begin{aligned}\n",
    "    \\frac{b-a}{c-a}f(c)+\\frac{c-b}{c-a}f(a)&>f(\\frac{c(b-a)+a(c-b)}{c-a}) \\\\\n",
    "    &=f(b)\n",
    "\\end{aligned}$$"
   ]
  },
  {
   "cell_type": "markdown",
   "id": "3d81f65f",
   "metadata": {},
   "source": [
    "> 20. 设$0<x_i<\\pi(i=1,2,\\cdots,n)$，记$x=\\frac{x_1+x_2+\\cdots+x_n}{n}$，证明：$\\prod_{i=1}^n\\frac{\\sin x_i}{x_i}\\le (\\frac{\\sin x}{x})^n$。\n",
    "\n",
    "**思路：** 仍然是考虑函数的凹凸性，并利用充要条件来解决。\n",
    "\n",
    "**解答：** 取对数得到等价不等式\n",
    "$$\\sum_{i=1}^n[\\ln(\\sin x_i)-\\ln x_i]\\le n(\\ln\\sin x-\\ln x)$$\n",
    "令$f(x)=\\ln\\sin x-\\ln x$，则计算可得\n",
    "$$\\begin{aligned}\n",
    "    f'(x)&=\\cot x-\\frac{1}{x} \\\\\n",
    "    f''(x)&=-\\csc^2x+\\frac{1}{x^2} \\\\\n",
    "    &=\\frac{1}{x^2}-\\frac{1}{\\sin^2 x}<0\n",
    "\\end{aligned}$$\n",
    "因此$f(x)$是concave function，则有\n",
    "$$f(q_1x_1+q_2x_2+\\cdots+q_nx_n)\\ge q_1f(x_1)+q_2f(x_2)+q_nf(x_n)$$\n",
    "取$q_i=\\frac{1}{n}$，就有\n",
    "$$\\begin{aligned}\n",
    "    f(\\frac{1}{n}\\sum_{i=1}^nx_i)&\\ge\\frac{1}{n}\\sum_{i=1}^nf(x_i) \\\\\n",
    "    f(x)&\\ge\\frac{1}{n}\\sum_{i=1}^nf(x_i)\n",
    "\\end{aligned}$$\n",
    "这就是要求的不等式。取等条件是自变量全部相等，即$x_1=x_2=\\cdots=x_n$。（见例10）"
   ]
  },
  {
   "cell_type": "markdown",
   "id": "de0bf868",
   "metadata": {},
   "source": [
    "> 21. 证明柯西不等式$|a_1b_1+a_2b_2+\\cdots+a_nb_n|\\le\\sqrt{a_1^2+a_2^2+\\cdots+a_n^2}\\sqrt{b_1^2+b_2^2+\\cdots+b_n^2}$，等号成立当且仅当存在$\\lambda$使得$a_1=\\lambda b_1, a_2=\\lambda b_2,\\cdots, a_n=\\lambda b_n$。\n",
    "\n",
    "**思路：** 常见的一个构造是利用二次函数非负，判别式小于等于0得到的。当然也可以用函数的凹凸性得到此不等式。\n",
    "\n",
    "**解答1:** 记$a=\\sqrt{a_1^2+a_2^2+\\cdots+a_n^2}, b=\\sqrt{b_1^2+b_2^2+\\cdots+b_n^2}$，则\n",
    "$$(a_1b_1+a_2b_2+\\cdots+a_nb_n)^2=(\\frac{a_1}{b_1}\\cdot\\frac{b_1^2}{b^2}+\\frac{a_2}{b_2}\\cdot\\frac{b_2^2}{b^2}+\\cdots+\\frac{a_n}{b_n}\\cdot\\frac{b_n^2}{b^2})^2\\cdot b^4$$\n",
    "其中正数之和$\\frac{b_1^2}{b^2}+\\frac{b_2^2}{b^2}+\\cdots+\\frac{b_n^2}{b^2}=1$，且$f(x)=x^2$是strictly convex function，因此\n",
    "$$\\begin{aligned}\n",
    "    (\\frac{a_1}{b_1}\\cdot\\frac{b_1^2}{b^2}+\\frac{a_2}{b_2}\\cdot\\frac{b_2^2}{b^2}+\\cdots+\\frac{a_n}{b_n}\\cdot\\frac{b_n^2}{b^2})^2&\\le \\frac{b_1^2}{b^2}(\\frac{a_1}{b_1})^2+\\frac{b_2^2}{b^2}(\\frac{a_2}{b_2})^2+\\cdots+\\frac{b_n^2}{b^2}(\\frac{a_n}{b_n})^2 \\\\\n",
    "    &=\\frac{a^2}{b^2}\n",
    "\\end{aligned}$$\n",
    "代回上述等式，就有\n",
    "$$\\begin{aligned}\n",
    "    (a_1b_1+a_2b_2+\\cdots+a_nb_n)^2&\\le\\frac{a^2}{b^2}\\cdot b^4 \\\\\n",
    "    &=(a_1^2+a_2^2+\\cdots+a_n^2)(b_1^2+b_2^2+\\cdots+b_n^2)\n",
    "\\end{aligned}$$\n",
    "取等条件为$\\frac{a_1}{b_1}=\\frac{a_2}{b_2}=\\cdots=\\frac{a_n}{b_n}=\\lambda$。\n",
    "\n",
    "**解答2:** 设\n",
    "$$\\begin{aligned}\n",
    "    f(x)&=(a_1x+b_1)^2+(a_2x+b_2)^2+\\cdots+(a_nx+b_n)^2 \\\\\n",
    "    &=(a_1^2+a_2^2+\\cdots+a_n^2)x^2+2(a_1b_1+a_2b_2+\\cdots+a_nb_n)x+(b_1^2+b_2^2+\\cdots+b_n^2)\n",
    "\\end{aligned}$$\n",
    "$f(x)$明显非负，因此判别式小于等于0，即\n",
    "$$\\Delta=4(a_1b_1+a_2b_2+\\cdots+a_nb_n)^2-4(a_1^2+a_2^2+\\cdots+a_n^2)(b_1^2+b_2^2+\\cdots+b_n^2)\\le 0$$\n",
    "$$(a_1b_1+a_2b_2+\\cdots+a_nb_n)^2\\le(a_1^2+a_2^2+\\cdots+a_n^2)(b_1^2+b_2^2+\\cdots+b_n^2)$$\n",
    "若等号成立，则存在$\\lambda$使得$f(-\\lambda)=0$，此时\n",
    "$$f(-\\lambda)=(b_1-a_1\\lambda)^2+(b_2-a_2\\lambda)^2+\\cdots+(b_n-a_n\\lambda)^2=0$$\n",
    "则必有$a_1=\\lambda b_1, a_2=\\lambda b_2,\\cdots, a_n=\\lambda b_n$，反之亦然。"
   ]
  },
  {
   "cell_type": "markdown",
   "id": "b80bb0ae",
   "metadata": {},
   "source": [
    "### 函数的极值与最值"
   ]
  },
  {
   "cell_type": "markdown",
   "id": "3fafa445",
   "metadata": {},
   "source": [
    "> 22. 设$f(x)$有连续的二阶导数且满足微分方程$xf''(x)+3x[f'(x)]^2=1-\\text{e}^{-x}$，问：\n",
    ">\n",
    "> $(1)$如果$x_0\\neq 0$是$f(x)$的极值点，则$f(x_0)$是极大值还是极小值？\n",
    ">\n",
    "> $(2)$如果$f(0)$是$f(x)$的极值，则$f(0)$是极大值还是极小值？\n",
    "\n",
    "**思路：** 真的要解微分方程吗？其实不然。既然是极值点了，那么$f'(x_0)=0$，接着就容易处理了。"
   ]
  },
  {
   "cell_type": "markdown",
   "id": "11600fee",
   "metadata": {},
   "source": [
    "**解答：** $(1)$由于$f'(x_0)=0$，整理得到\n",
    "$$f''(x_0)=\\frac{1-\\text{e}^{-x_0}}{x_0}>0$$\n",
    "因此$f(x_0)$是极小值。\n",
    "\n",
    "$(2)$ 此时我们就不能用刚刚的方法了，而需要利用极限。对等式进行变形得到\n",
    "$$\\begin{aligned}\n",
    "    f''(x)&=\\frac{1-\\text{e}^{-x}}{x}-3[f'(x)]^2 \\\\\n",
    "    \\lim_{x\\to 0}f''(x)&=\\lim_{x\\to 0}\\frac{1-\\text{e}^{-x}}{x}-3\\lim_{x\\to 0}[f'(x)]^2 \\\\\n",
    "    &=1-3[f'(0)]^2 \\\\\n",
    "    &=1>0\n",
    "\\end{aligned}$$\n",
    "因此$f(0)$是极小值。"
   ]
  },
  {
   "cell_type": "markdown",
   "id": "af432f85",
   "metadata": {},
   "source": [
    "> 23. 设$f(x)$在$[a, b]$上连续，在$(a, b)$内有连续的导数，$x_0\\in(a, b)$是$f(x)$的唯一驻点。证明：$f(x_0)$是最小值的充要条件是：$x\\in(a, x_0)$时$f'(x_0)<0$且$x\\in(x_0, b)$时$f'(x)>0$。\n",
    "\n",
    "**思路：** “$x_0$是唯一驻点”这个唯一性非常重要，可以加以利用。\n",
    "\n",
    "**解答：** 充分性显然，现证必要性。因为$f(x_0)$是最小值，所以有$f(a)>f(x_0)$和$f(b)>f(x_0)$，否则由罗尔定理，驻点不唯一。由拉格朗日中值定理可知存在$\\xi\\in(a, x_0)$使得$f'(\\xi)=\\frac{f(x_0)-f(a)}{x_0-a}<0$。若存在$\\eta\\in(a, x_0)$使得$f'(\\eta)>0$，则由导函数的介值定理可知在$\\xi$和$\\eta$之间存在$\\bar{x}$，使得$f'(\\bar{x})=0$，这和驻点的唯一性矛盾。因此当$x\\in(a, x_0)$，有$f'(x)<0$。同理可证$x\\in(x_0, b)$时$f'(x)>0$。"
   ]
  },
  {
   "cell_type": "markdown",
   "id": "7f66ffb7",
   "metadata": {},
   "source": [
    "> 24. 求函数$y=2\\tan x-\\tan^2x$在区间$[0, \\frac{\\pi}{2})$内的最值。\n",
    "\n",
    "**思路：** 这是最常见，最基础的题目。通用的做法就是直接求导完事。\n",
    "\n",
    "**解答1:** 计算可知\n",
    "$$\\begin{aligned}\n",
    "    y&=2\\tan x-\\tan^2x \\\\\n",
    "    y'&=2\\sec^2x-2\\tan x\\sec^2x \\\\\n",
    "    &=2\\sec^2x(1-\\tan x) \\\\\n",
    "    y'(\\frac{\\pi}{4})&=0\n",
    "\\end{aligned}$$\n",
    "且当$x\\in(0, \\frac{\\pi}{4})$时$f'(x)>0$，$x\\in(\\frac{\\pi}{4}, \\frac{\\pi}{2})$时$f'(x)<0$。因此最大值为$y(\\frac{\\pi}{4})=1$。容易知道\n",
    "$$\\lim_{x\\to\\frac{\\pi}{2}^-}f(x)=-\\infty$$\n",
    "因此在区间$[0, \\frac{\\pi}{2})$内无最小值。\n",
    "\n",
    "**解答2:** 令$u=\\tan x$，现在求$y=2u-u^2$在区间$[0, +\\infty)$内的最值，显然最大值在对称轴$u=1$处取得，此时$y=1$，且无最小值。"
   ]
  },
  {
   "cell_type": "markdown",
   "id": "9880a223",
   "metadata": {},
   "source": [
    "> 25. 求无穷数列$1,\\sqrt[2]{2}, \\sqrt[3]{3},\\cdots,\\sqrt[n]{n},\\cdots$的最大项。\n",
    "\n",
    "**思路：** 这真是个数列题吗？其实是函数的最值题啊！\n",
    "\n",
    "**解答：** 对通项取对数可知应该设$f(x)=\\frac{\\ln x}{x}$，计算可知\n",
    "$$\\begin{aligned}\n",
    "    f'(x)&=\\frac{1-\\ln x}{x^2} \\\\\n",
    "    f'(\\text{e})&=0\n",
    "\\end{aligned}$$\n",
    "且当$x\\in(0, \\text{e})$时$f'(x)>0$，$x\\in(\\text{e}, +\\infty)$时$f'(x)<0$，故$f(\\text{e})$为最大值。但$n$只能取正整数，于是最大项只可能为$\\sqrt[2]{2}$或$\\sqrt[3]{3}$。比较可知：$\\sqrt[2]{2}=\\sqrt[6]{8}, \\sqrt[3]{3}=\\sqrt[6]{9}$。因此\n",
    "$$\\sqrt[3]{3}>\\sqrt[2]{2}$$\n",
    "最大项为$\\sqrt[3]{3}$。"
   ]
  },
  {
   "cell_type": "markdown",
   "id": "4c8f2d9e",
   "metadata": {},
   "source": [
    "> 26. 证明下列绝对值函数的和函数有最小值，讨论如何求其最小值：\n",
    ">\n",
    "> $(1)f(x)=|x-1|+|x-2|+|x-3|$；\n",
    ">\n",
    "> $(2)g(x)=|x-1|+|x-2|+|x-3|+|x-4|$；\n",
    ">\n",
    "> $(3)$归纳出求绝对值的和函数$h(x)=|x-a_1|+|x-a_2|+\\cdots+|x-a_n|$最小值的一般算法，其中$a_1, a_2, \\cdots, a_n$互不相同。\n",
    "\n",
    "**思路：** 求绝对值函数的和函数最小值，可以先把它拆成分段函数看看。\n",
    "\n",
    "**解答：** $(1)$首先，因为$f(x)$在$\\mathbb{R}$上连续，且$\\lim_{x\\to\\infty}f(x)=+\\infty$，因此$f(x)$必有最小值。将$f(x)$写成没有绝对值函数的形式\n",
    "$$f(x)=\\begin{cases}\n",
    "    6-3x, &x<1 \\\\\n",
    "    4-x, &1\\le x<2 \\\\\n",
    "    x, &2\\le x<3 \\\\\n",
    "    3x-6, &x\\ge 3\n",
    "\\end{cases}$$\n",
    "可以看出每段都是线性函数，导数恒不为0，因此最值必在端点取到。因此只需比较$f(1), f(2), f(3)$的大小即可。计算得$f(1)=3, f(2)=2, f(3)=3$，因此最小值为2。\n",
    "\n",
    "$(2)$同理可知只需比较$g(1), g(2), g(3), g(4)$的大小即可。计算可得$g(1)=6, g(2)=4, g(3)=4, g(4)=6$，因此最小值为$4$。\n",
    "\n",
    "$(3)$由上面的做法，可知最小值必在$x=a_i(i=1, 2, \\cdots, n)$处取到，只需比较这$n$点处函数值的大小即可。"
   ]
  },
  {
   "cell_type": "markdown",
   "id": "b61ef8fe",
   "metadata": {},
   "source": [
    "> 27. 设$f(x)$是$n$次多项式，且恒有$f(x)\\ge 0$，证明：恒有\n",
    "> $$F(x)=f(x)+f'(x)+\\cdots+f^{(n)}(x)\\ge 0$$\n",
    "\n",
    "**思路：** 这种题有一个巧妙的构造方法。当然也可以直接从$n$次多项式这一信息入手。\n",
    "\n",
    "**解答1:** 作如下构造\n",
    "$$\\begin{aligned}\n",
    "    g(x)&=\\text{e}^{-x}F(x) \\\\\n",
    "    &=\\text{e}^{-x}[f(x)+f'(x)+\\cdots+f^{(n)}(x)] \\\\\n",
    "    g'(x)&=-\\text{e}^{-x}f(x)+\\text{e}^{-x}f^{(n+1)}(x) \\\\\n",
    "    &=-\\text{e}^{x}f(x)\\le 0\n",
    "\\end{aligned}$$\n",
    "这说明$g(x)$单调递减，但是注意到\n",
    "$$\\lim_{n\\to +\\infty}g(x)=0$$\n",
    "因此恒有$g(x)=\\text{e}^{-x}F(x)\\ge 0$。因为恒有$\\text{e}^{-x}\\ge 0$，所以也恒有$F(x)\\ge 0$。\n",
    "\n",
    "**解答2:** 因为$f(x)$是$n$次多项式，且恒有$f(x)\\ge 0$，因此$n$只能是偶数，且首项系数为正，$F(x)$亦然。因此，$F(x)$必有最小值点，设为$x_0$。注意到\n",
    "$$F(x_0)=f(x_0)+F'(x_0)=f(x_0)\\ge 0$$\n",
    "因此恒有$F(x)\\ge 0$。"
   ]
  },
  {
   "cell_type": "markdown",
   "id": "b337b3d2",
   "metadata": {},
   "source": [
    "> 28. 设$\\alpha>0$，求$\\alpha$的最大取值，使得对任何$x>0$都有$x^{\\alpha}\\le\\text{e}^x$成立。\n",
    "\n",
    "**思路：** 把变量都移到一边，设一个新的函数，令其恒大于0即可。\n",
    "\n",
    "**解答：** 令\n",
    "$$\\begin{aligned}\n",
    "    f(x)&=x-\\alpha\\ln x \\\\\n",
    "    f'(x)&=1-\\frac{\\alpha}{x} \\\\\n",
    "    f''(x)&=\\frac{\\alpha}{x^2}>0 \\\\\n",
    "\\end{aligned}$$\n",
    "注意到$f'(\\alpha)=0$，因此$f(\\alpha)=\\alpha(1-\\ln\\alpha)$为最小值。令$f(\\alpha)\\ge 0$，就得到$\\alpha$的最大取值是$\\text{e}$。"
   ]
  },
  {
   "cell_type": "markdown",
   "id": "8d1bf610",
   "metadata": {},
   "source": [
    "> 29. 求$a$的最小取值，使得对任何$x\\in(0,\\frac{\\pi}{2})$总有不等式$\\frac{x-\\sin x}{x^3}\\le a$成立。\n",
    "\n",
    "**思路：** 还能用和上题一样的做法吗？看起来计算会过于复杂，不等式左边形式上很像我们已经看到过无数遍的极限了，试试看。\n",
    "\n",
    "**解答：** 令\n",
    "$$f(x)=\\frac{x-\\sin x}{x^3}(x\\neq 0)$$\n",
    "则容易知道\n",
    "$$\\lim_{x\\to 0}f(x)=\\frac{1}{6}$$\n",
    "补充定义$f(0)=\\frac{1}{6}$，则$f(x)$在$[0, \\frac{\\pi}{2}]$上连续，其最大值就是所求的$a$。由拉格朗日型余项的泰勒展开可知\n",
    "$$\\begin{aligned}\n",
    "    \\sin x&=x-\\frac{x^3}{6}+\\frac{\\sin\\xi}{24}x^4 \\\\\n",
    "    f(x)&=\\frac{1}{6}-\\frac{\\sin\\xi}{24}x\n",
    "\\end{aligned}$$\n",
    "其中$\\xi\\in(0, x)$，因此$\\sin\\xi>0$，$f(x)$的最大值为$\\frac{1}{6}$，取$a=\\frac{1}{6}$即可。"
   ]
  },
  {
   "cell_type": "markdown",
   "id": "3d7e394c",
   "metadata": {},
   "source": [
    "<a href=\"2.3.ipynb\" >Go to next chapter</a>"
   ]
  }
 ],
 "metadata": {
  "kernelspec": {
   "display_name": "venv",
   "language": "python",
   "name": "python3"
  },
  "language_info": {
   "codemirror_mode": {
    "name": "ipython",
    "version": 3
   },
   "file_extension": ".py",
   "mimetype": "text/x-python",
   "name": "python",
   "nbconvert_exporter": "python",
   "pygments_lexer": "ipython3",
   "version": "3.12.7"
  }
 },
 "nbformat": 4,
 "nbformat_minor": 5
}
