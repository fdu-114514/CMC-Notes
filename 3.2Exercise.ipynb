{
 "cells": [
  {
   "cell_type": "markdown",
   "id": "81bc7106",
   "metadata": {},
   "source": [
    "## 3.2的练习"
   ]
  },
  {
   "cell_type": "code",
   "execution_count": null,
   "id": "e228add7",
   "metadata": {
    "vscode": {
     "languageId": "plaintext"
    }
   },
   "outputs": [],
   "source": [
    "import numpy as np\n",
    "import matplotlib.pyplot as plt"
   ]
  }
 ],
 "metadata": {
  "language_info": {
   "name": "python"
  }
 },
 "nbformat": 4,
 "nbformat_minor": 5
}
