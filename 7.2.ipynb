{
 "cells": [
  {
   "cell_type": "markdown",
   "id": "8c9f2429",
   "metadata": {},
   "source": [
    "## 7.2 微分方程的应用题"
   ]
  }
 ],
 "metadata": {
  "language_info": {
   "name": "python"
  }
 },
 "nbformat": 4,
 "nbformat_minor": 5
}
