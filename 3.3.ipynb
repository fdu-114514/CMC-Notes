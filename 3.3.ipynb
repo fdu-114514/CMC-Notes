{
 "cells": [
  {
   "cell_type": "markdown",
   "id": "6d155eaf",
   "metadata": {},
   "source": [
    "## 3.3 定积分综合习题"
   ]
  }
 ],
 "metadata": {
  "language_info": {
   "name": "python"
  }
 },
 "nbformat": 4,
 "nbformat_minor": 5
}
